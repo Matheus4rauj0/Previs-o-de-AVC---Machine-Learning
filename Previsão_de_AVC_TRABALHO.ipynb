{
  "nbformat": 4,
  "nbformat_minor": 0,
  "metadata": {
    "colab": {
      "provenance": [],
      "collapsed_sections": [
        "b9kGH4_3RTjR",
        "o-2M9MXkRxpA",
        "YirV6ASxUV3l",
        "MSOXI4KTXv4s",
        "TX8Hx_ZPlb7J",
        "NV-796ArWpWL",
        "Vyah7UeYY9Ju"
      ]
    },
    "kernelspec": {
      "name": "python3",
      "display_name": "Python 3"
    },
    "language_info": {
      "name": "python"
    }
  },
  "cells": [
    {
      "cell_type": "markdown",
      "source": [
        "# **Aprendizado Supervisionado: Classificação**\n",
        "\n",
        "*Em tarefas preditivas, algoritmos de AM são aplicados a **conjuntos de dados** de treinamento **rotulados** para induzir um modelo preditivo capaz de predizer, para um novo objeto representado pelos valores de seus atributos preditivos, o valor de seu atributo alvo. Modelos preditivos podem ser utilizados, por exemplo, para, a partir de seus sintomas, predizer o estado de saúde de um paciente. Nessas tarefas, em geral são utilizados algoritmos de AM que seguem o paradigma de aprendizado supervisionado* (FACELLI et al. 2021, pág. 3)\n",
        "\n",
        "\n",
        "\n",
        "\n",
        "\n",
        "\n",
        "\n",
        "(Conteúdo da Diciplina editado e ajustado a um novo DATASET)\n"
      ],
      "metadata": {
        "id": "b9kGH4_3RTjR"
      }
    },
    {
      "cell_type": "code",
      "source": [
        "import pandas as pd\n",
        "import numpy as np"
      ],
      "metadata": {
        "id": "6bNY2sabRVya"
      },
      "execution_count": null,
      "outputs": []
    },
    {
      "cell_type": "markdown",
      "source": [
        "Considere base de dados: https://www.kaggle.com/datasets/teamincribo/stroke-prediction\n",
        "\n",
        "\n",
        "**Features:**\n",
        "\n",
        "'Patient ID' = 'ID do paciente' ,\n",
        "\n",
        "'Patient Name' = 'Nome do paciente',\n",
        "\n",
        "'Age' = 'Idade',\n",
        "\n",
        "'Gender' = 'Gênero',\n",
        "\n",
        "'Hypertension' = 'Hipertensão',\n",
        "\n",
        "'Heart Disease' = 'Doença cardíaca',\n",
        "\n",
        "'Marital Status' = 'Estado civil',\n",
        "\n",
        "'Work Type' = 'Tipo de trabalho',\n",
        "\n",
        "'Residence Type' = 'Tipo de residência',\n",
        "\n",
        "'Average Glucose Level' = 'Nível médio de glicose',\n",
        "\n",
        "'Body Mass Index (BMI)' = 'Índice de Massa Corporal (IMC)',\n",
        "\n",
        "'Smoking Status' = Condição de fumante,\n",
        "\n",
        "'Alcohol Intake' = 'Ingestão de álcool',\n",
        "\n",
        "'Physical Activity' = 'Atividade física',\n",
        "\n",
        "'Stroke History' = 'Histórico de AVC',\n",
        "\n",
        "'Family History of Stroke' = 'História Familiar de AVC',\n",
        "\n",
        "'Dietary Habits' = 'Hábitos de dieta',\n",
        "\n",
        "'Stress Levels' = 'Níveis de estresse',\n",
        "\n",
        "'Blood Pressure Levels' = 'Níveis de pressão arterial',\n",
        "\n",
        "'Cholesterol Levels' = 'Níveis de colesterol',\n",
        "\n",
        "'Symptoms' = 'Sintomas',\n",
        "\n",
        "'Diagnosis' = 'Diagnóstico'\n"
      ],
      "metadata": {
        "id": "AMm71cmGRcJq"
      }
    },
    {
      "cell_type": "code",
      "source": [
        "from google.colab import drive\n",
        "drive.mount('/content/drive')"
      ],
      "metadata": {
        "colab": {
          "base_uri": "https://localhost:8080/"
        },
        "id": "4fWff8MM_59Z",
        "outputId": "40c58851-375d-4e04-dcc8-694d7c445bdd"
      },
      "execution_count": null,
      "outputs": [
        {
          "output_type": "stream",
          "name": "stdout",
          "text": [
            "Drive already mounted at /content/drive; to attempt to forcibly remount, call drive.mount(\"/content/drive\", force_remount=True).\n"
          ]
        }
      ]
    },
    {
      "cell_type": "code",
      "source": [
        "#Ler o dataset\n",
        "ds = pd.read_csv(\"/content/drive/MyDrive/stroke_prediction_dataset.csv\", sep=',', encoding='iso-8859-1')\n",
        "#sep é o separador e encoding é a codificação dos caracteres, normalmente utiliza-se o iso-8859-1, utf-8, latin-1"
      ],
      "metadata": {
        "id": "n6CWAqI_RaHy"
      },
      "execution_count": null,
      "outputs": []
    },
    {
      "cell_type": "markdown",
      "source": [
        "# **Exploração dos Dados**"
      ],
      "metadata": {
        "id": "o-2M9MXkRxpA"
      }
    },
    {
      "cell_type": "code",
      "source": [
        "#Visualizar as 5 primeiras linhas\n",
        "ds.head()"
      ],
      "metadata": {
        "id": "w7uPSEqtR2x4",
        "colab": {
          "base_uri": "https://localhost:8080/"
        },
        "outputId": "3b6eca30-5804-46c6-b585-8fd52f6b2530"
      },
      "execution_count": null,
      "outputs": [
        {
          "output_type": "execute_result",
          "data": {
            "text/plain": [
              "   Patient ID       Patient Name  Age Gender  Hypertension  Heart Disease  \\\n",
              "0       18153    Mamooty Khurana   56   Male             0              1   \n",
              "1       62749  Kaira Subramaniam   80   Male             0              0   \n",
              "2       32145      Dhanush Balan   26   Male             1              1   \n",
              "3        6154        Ivana Baral   73   Male             0              0   \n",
              "4       48973  Darshit Jayaraman   51   Male             1              1   \n",
              "\n",
              "  Marital Status      Work Type Residence Type  Average Glucose Level  ...  \\\n",
              "0        Married  Self-employed          Rural                 130.91  ...   \n",
              "1         Single  Self-employed          Urban                 183.73  ...   \n",
              "2        Married   Never Worked          Rural                 189.00  ...   \n",
              "3        Married   Never Worked          Urban                 185.29  ...   \n",
              "4       Divorced  Self-employed          Urban                 177.34  ...   \n",
              "\n",
              "     Alcohol Intake Physical Activity Stroke History Family History of Stroke  \\\n",
              "0    Social Drinker          Moderate              0                      Yes   \n",
              "1             Never               Low              0                       No   \n",
              "2            Rarely              High              0                      Yes   \n",
              "3  Frequent Drinker          Moderate              0                       No   \n",
              "4            Rarely               Low              0                      Yes   \n",
              "\n",
              "   Dietary Habits Stress Levels Blood Pressure Levels  Cholesterol Levels  \\\n",
              "0           Vegan          3.48               140/108   HDL: 68, LDL: 133   \n",
              "1           Paleo          1.73                146/91    HDL: 63, LDL: 70   \n",
              "2           Paleo          7.31                154/97    HDL: 59, LDL: 95   \n",
              "3           Paleo          5.35                174/81   HDL: 70, LDL: 137   \n",
              "4     Pescatarian          6.84                121/95    HDL: 65, LDL: 68   \n",
              "\n",
              "                                            Symptoms  Diagnosis  \n",
              "0                      Difficulty Speaking, Headache     Stroke  \n",
              "1    Loss of Balance, Headache, Dizziness, Confusion     Stroke  \n",
              "2                                Seizures, Dizziness     Stroke  \n",
              "3  Seizures, Blurred Vision, Severe Fatigue, Head...  No Stroke  \n",
              "4                                Difficulty Speaking     Stroke  \n",
              "\n",
              "[5 rows x 22 columns]"
            ],
            "text/html": [
              "\n",
              "  <div id=\"df-977a317c-436a-4e4d-9490-a04f72b038db\" class=\"colab-df-container\">\n",
              "    <div>\n",
              "<style scoped>\n",
              "    .dataframe tbody tr th:only-of-type {\n",
              "        vertical-align: middle;\n",
              "    }\n",
              "\n",
              "    .dataframe tbody tr th {\n",
              "        vertical-align: top;\n",
              "    }\n",
              "\n",
              "    .dataframe thead th {\n",
              "        text-align: right;\n",
              "    }\n",
              "</style>\n",
              "<table border=\"1\" class=\"dataframe\">\n",
              "  <thead>\n",
              "    <tr style=\"text-align: right;\">\n",
              "      <th></th>\n",
              "      <th>Patient ID</th>\n",
              "      <th>Patient Name</th>\n",
              "      <th>Age</th>\n",
              "      <th>Gender</th>\n",
              "      <th>Hypertension</th>\n",
              "      <th>Heart Disease</th>\n",
              "      <th>Marital Status</th>\n",
              "      <th>Work Type</th>\n",
              "      <th>Residence Type</th>\n",
              "      <th>Average Glucose Level</th>\n",
              "      <th>...</th>\n",
              "      <th>Alcohol Intake</th>\n",
              "      <th>Physical Activity</th>\n",
              "      <th>Stroke History</th>\n",
              "      <th>Family History of Stroke</th>\n",
              "      <th>Dietary Habits</th>\n",
              "      <th>Stress Levels</th>\n",
              "      <th>Blood Pressure Levels</th>\n",
              "      <th>Cholesterol Levels</th>\n",
              "      <th>Symptoms</th>\n",
              "      <th>Diagnosis</th>\n",
              "    </tr>\n",
              "  </thead>\n",
              "  <tbody>\n",
              "    <tr>\n",
              "      <th>0</th>\n",
              "      <td>18153</td>\n",
              "      <td>Mamooty Khurana</td>\n",
              "      <td>56</td>\n",
              "      <td>Male</td>\n",
              "      <td>0</td>\n",
              "      <td>1</td>\n",
              "      <td>Married</td>\n",
              "      <td>Self-employed</td>\n",
              "      <td>Rural</td>\n",
              "      <td>130.91</td>\n",
              "      <td>...</td>\n",
              "      <td>Social Drinker</td>\n",
              "      <td>Moderate</td>\n",
              "      <td>0</td>\n",
              "      <td>Yes</td>\n",
              "      <td>Vegan</td>\n",
              "      <td>3.48</td>\n",
              "      <td>140/108</td>\n",
              "      <td>HDL: 68, LDL: 133</td>\n",
              "      <td>Difficulty Speaking, Headache</td>\n",
              "      <td>Stroke</td>\n",
              "    </tr>\n",
              "    <tr>\n",
              "      <th>1</th>\n",
              "      <td>62749</td>\n",
              "      <td>Kaira Subramaniam</td>\n",
              "      <td>80</td>\n",
              "      <td>Male</td>\n",
              "      <td>0</td>\n",
              "      <td>0</td>\n",
              "      <td>Single</td>\n",
              "      <td>Self-employed</td>\n",
              "      <td>Urban</td>\n",
              "      <td>183.73</td>\n",
              "      <td>...</td>\n",
              "      <td>Never</td>\n",
              "      <td>Low</td>\n",
              "      <td>0</td>\n",
              "      <td>No</td>\n",
              "      <td>Paleo</td>\n",
              "      <td>1.73</td>\n",
              "      <td>146/91</td>\n",
              "      <td>HDL: 63, LDL: 70</td>\n",
              "      <td>Loss of Balance, Headache, Dizziness, Confusion</td>\n",
              "      <td>Stroke</td>\n",
              "    </tr>\n",
              "    <tr>\n",
              "      <th>2</th>\n",
              "      <td>32145</td>\n",
              "      <td>Dhanush Balan</td>\n",
              "      <td>26</td>\n",
              "      <td>Male</td>\n",
              "      <td>1</td>\n",
              "      <td>1</td>\n",
              "      <td>Married</td>\n",
              "      <td>Never Worked</td>\n",
              "      <td>Rural</td>\n",
              "      <td>189.00</td>\n",
              "      <td>...</td>\n",
              "      <td>Rarely</td>\n",
              "      <td>High</td>\n",
              "      <td>0</td>\n",
              "      <td>Yes</td>\n",
              "      <td>Paleo</td>\n",
              "      <td>7.31</td>\n",
              "      <td>154/97</td>\n",
              "      <td>HDL: 59, LDL: 95</td>\n",
              "      <td>Seizures, Dizziness</td>\n",
              "      <td>Stroke</td>\n",
              "    </tr>\n",
              "    <tr>\n",
              "      <th>3</th>\n",
              "      <td>6154</td>\n",
              "      <td>Ivana Baral</td>\n",
              "      <td>73</td>\n",
              "      <td>Male</td>\n",
              "      <td>0</td>\n",
              "      <td>0</td>\n",
              "      <td>Married</td>\n",
              "      <td>Never Worked</td>\n",
              "      <td>Urban</td>\n",
              "      <td>185.29</td>\n",
              "      <td>...</td>\n",
              "      <td>Frequent Drinker</td>\n",
              "      <td>Moderate</td>\n",
              "      <td>0</td>\n",
              "      <td>No</td>\n",
              "      <td>Paleo</td>\n",
              "      <td>5.35</td>\n",
              "      <td>174/81</td>\n",
              "      <td>HDL: 70, LDL: 137</td>\n",
              "      <td>Seizures, Blurred Vision, Severe Fatigue, Head...</td>\n",
              "      <td>No Stroke</td>\n",
              "    </tr>\n",
              "    <tr>\n",
              "      <th>4</th>\n",
              "      <td>48973</td>\n",
              "      <td>Darshit Jayaraman</td>\n",
              "      <td>51</td>\n",
              "      <td>Male</td>\n",
              "      <td>1</td>\n",
              "      <td>1</td>\n",
              "      <td>Divorced</td>\n",
              "      <td>Self-employed</td>\n",
              "      <td>Urban</td>\n",
              "      <td>177.34</td>\n",
              "      <td>...</td>\n",
              "      <td>Rarely</td>\n",
              "      <td>Low</td>\n",
              "      <td>0</td>\n",
              "      <td>Yes</td>\n",
              "      <td>Pescatarian</td>\n",
              "      <td>6.84</td>\n",
              "      <td>121/95</td>\n",
              "      <td>HDL: 65, LDL: 68</td>\n",
              "      <td>Difficulty Speaking</td>\n",
              "      <td>Stroke</td>\n",
              "    </tr>\n",
              "  </tbody>\n",
              "</table>\n",
              "<p>5 rows × 22 columns</p>\n",
              "</div>\n",
              "    <div class=\"colab-df-buttons\">\n",
              "\n",
              "  <div class=\"colab-df-container\">\n",
              "    <button class=\"colab-df-convert\" onclick=\"convertToInteractive('df-977a317c-436a-4e4d-9490-a04f72b038db')\"\n",
              "            title=\"Convert this dataframe to an interactive table.\"\n",
              "            style=\"display:none;\">\n",
              "\n",
              "  <svg xmlns=\"http://www.w3.org/2000/svg\" height=\"24px\" viewBox=\"0 -960 960 960\">\n",
              "    <path d=\"M120-120v-720h720v720H120Zm60-500h600v-160H180v160Zm220 220h160v-160H400v160Zm0 220h160v-160H400v160ZM180-400h160v-160H180v160Zm440 0h160v-160H620v160ZM180-180h160v-160H180v160Zm440 0h160v-160H620v160Z\"/>\n",
              "  </svg>\n",
              "    </button>\n",
              "\n",
              "  <style>\n",
              "    .colab-df-container {\n",
              "      display:flex;\n",
              "      gap: 12px;\n",
              "    }\n",
              "\n",
              "    .colab-df-convert {\n",
              "      background-color: #E8F0FE;\n",
              "      border: none;\n",
              "      border-radius: 50%;\n",
              "      cursor: pointer;\n",
              "      display: none;\n",
              "      fill: #1967D2;\n",
              "      height: 32px;\n",
              "      padding: 0 0 0 0;\n",
              "      width: 32px;\n",
              "    }\n",
              "\n",
              "    .colab-df-convert:hover {\n",
              "      background-color: #E2EBFA;\n",
              "      box-shadow: 0px 1px 2px rgba(60, 64, 67, 0.3), 0px 1px 3px 1px rgba(60, 64, 67, 0.15);\n",
              "      fill: #174EA6;\n",
              "    }\n",
              "\n",
              "    .colab-df-buttons div {\n",
              "      margin-bottom: 4px;\n",
              "    }\n",
              "\n",
              "    [theme=dark] .colab-df-convert {\n",
              "      background-color: #3B4455;\n",
              "      fill: #D2E3FC;\n",
              "    }\n",
              "\n",
              "    [theme=dark] .colab-df-convert:hover {\n",
              "      background-color: #434B5C;\n",
              "      box-shadow: 0px 1px 3px 1px rgba(0, 0, 0, 0.15);\n",
              "      filter: drop-shadow(0px 1px 2px rgba(0, 0, 0, 0.3));\n",
              "      fill: #FFFFFF;\n",
              "    }\n",
              "  </style>\n",
              "\n",
              "    <script>\n",
              "      const buttonEl =\n",
              "        document.querySelector('#df-977a317c-436a-4e4d-9490-a04f72b038db button.colab-df-convert');\n",
              "      buttonEl.style.display =\n",
              "        google.colab.kernel.accessAllowed ? 'block' : 'none';\n",
              "\n",
              "      async function convertToInteractive(key) {\n",
              "        const element = document.querySelector('#df-977a317c-436a-4e4d-9490-a04f72b038db');\n",
              "        const dataTable =\n",
              "          await google.colab.kernel.invokeFunction('convertToInteractive',\n",
              "                                                    [key], {});\n",
              "        if (!dataTable) return;\n",
              "\n",
              "        const docLinkHtml = 'Like what you see? Visit the ' +\n",
              "          '<a target=\"_blank\" href=https://colab.research.google.com/notebooks/data_table.ipynb>data table notebook</a>'\n",
              "          + ' to learn more about interactive tables.';\n",
              "        element.innerHTML = '';\n",
              "        dataTable['output_type'] = 'display_data';\n",
              "        await google.colab.output.renderOutput(dataTable, element);\n",
              "        const docLink = document.createElement('div');\n",
              "        docLink.innerHTML = docLinkHtml;\n",
              "        element.appendChild(docLink);\n",
              "      }\n",
              "    </script>\n",
              "  </div>\n",
              "\n",
              "\n",
              "<div id=\"df-2450f705-15c0-48b2-bb5e-257419e01063\">\n",
              "  <button class=\"colab-df-quickchart\" onclick=\"quickchart('df-2450f705-15c0-48b2-bb5e-257419e01063')\"\n",
              "            title=\"Suggest charts\"\n",
              "            style=\"display:none;\">\n",
              "\n",
              "<svg xmlns=\"http://www.w3.org/2000/svg\" height=\"24px\"viewBox=\"0 0 24 24\"\n",
              "     width=\"24px\">\n",
              "    <g>\n",
              "        <path d=\"M19 3H5c-1.1 0-2 .9-2 2v14c0 1.1.9 2 2 2h14c1.1 0 2-.9 2-2V5c0-1.1-.9-2-2-2zM9 17H7v-7h2v7zm4 0h-2V7h2v10zm4 0h-2v-4h2v4z\"/>\n",
              "    </g>\n",
              "</svg>\n",
              "  </button>\n",
              "\n",
              "<style>\n",
              "  .colab-df-quickchart {\n",
              "      --bg-color: #E8F0FE;\n",
              "      --fill-color: #1967D2;\n",
              "      --hover-bg-color: #E2EBFA;\n",
              "      --hover-fill-color: #174EA6;\n",
              "      --disabled-fill-color: #AAA;\n",
              "      --disabled-bg-color: #DDD;\n",
              "  }\n",
              "\n",
              "  [theme=dark] .colab-df-quickchart {\n",
              "      --bg-color: #3B4455;\n",
              "      --fill-color: #D2E3FC;\n",
              "      --hover-bg-color: #434B5C;\n",
              "      --hover-fill-color: #FFFFFF;\n",
              "      --disabled-bg-color: #3B4455;\n",
              "      --disabled-fill-color: #666;\n",
              "  }\n",
              "\n",
              "  .colab-df-quickchart {\n",
              "    background-color: var(--bg-color);\n",
              "    border: none;\n",
              "    border-radius: 50%;\n",
              "    cursor: pointer;\n",
              "    display: none;\n",
              "    fill: var(--fill-color);\n",
              "    height: 32px;\n",
              "    padding: 0;\n",
              "    width: 32px;\n",
              "  }\n",
              "\n",
              "  .colab-df-quickchart:hover {\n",
              "    background-color: var(--hover-bg-color);\n",
              "    box-shadow: 0 1px 2px rgba(60, 64, 67, 0.3), 0 1px 3px 1px rgba(60, 64, 67, 0.15);\n",
              "    fill: var(--button-hover-fill-color);\n",
              "  }\n",
              "\n",
              "  .colab-df-quickchart-complete:disabled,\n",
              "  .colab-df-quickchart-complete:disabled:hover {\n",
              "    background-color: var(--disabled-bg-color);\n",
              "    fill: var(--disabled-fill-color);\n",
              "    box-shadow: none;\n",
              "  }\n",
              "\n",
              "  .colab-df-spinner {\n",
              "    border: 2px solid var(--fill-color);\n",
              "    border-color: transparent;\n",
              "    border-bottom-color: var(--fill-color);\n",
              "    animation:\n",
              "      spin 1s steps(1) infinite;\n",
              "  }\n",
              "\n",
              "  @keyframes spin {\n",
              "    0% {\n",
              "      border-color: transparent;\n",
              "      border-bottom-color: var(--fill-color);\n",
              "      border-left-color: var(--fill-color);\n",
              "    }\n",
              "    20% {\n",
              "      border-color: transparent;\n",
              "      border-left-color: var(--fill-color);\n",
              "      border-top-color: var(--fill-color);\n",
              "    }\n",
              "    30% {\n",
              "      border-color: transparent;\n",
              "      border-left-color: var(--fill-color);\n",
              "      border-top-color: var(--fill-color);\n",
              "      border-right-color: var(--fill-color);\n",
              "    }\n",
              "    40% {\n",
              "      border-color: transparent;\n",
              "      border-right-color: var(--fill-color);\n",
              "      border-top-color: var(--fill-color);\n",
              "    }\n",
              "    60% {\n",
              "      border-color: transparent;\n",
              "      border-right-color: var(--fill-color);\n",
              "    }\n",
              "    80% {\n",
              "      border-color: transparent;\n",
              "      border-right-color: var(--fill-color);\n",
              "      border-bottom-color: var(--fill-color);\n",
              "    }\n",
              "    90% {\n",
              "      border-color: transparent;\n",
              "      border-bottom-color: var(--fill-color);\n",
              "    }\n",
              "  }\n",
              "</style>\n",
              "\n",
              "  <script>\n",
              "    async function quickchart(key) {\n",
              "      const quickchartButtonEl =\n",
              "        document.querySelector('#' + key + ' button');\n",
              "      quickchartButtonEl.disabled = true;  // To prevent multiple clicks.\n",
              "      quickchartButtonEl.classList.add('colab-df-spinner');\n",
              "      try {\n",
              "        const charts = await google.colab.kernel.invokeFunction(\n",
              "            'suggestCharts', [key], {});\n",
              "      } catch (error) {\n",
              "        console.error('Error during call to suggestCharts:', error);\n",
              "      }\n",
              "      quickchartButtonEl.classList.remove('colab-df-spinner');\n",
              "      quickchartButtonEl.classList.add('colab-df-quickchart-complete');\n",
              "    }\n",
              "    (() => {\n",
              "      let quickchartButtonEl =\n",
              "        document.querySelector('#df-2450f705-15c0-48b2-bb5e-257419e01063 button');\n",
              "      quickchartButtonEl.style.display =\n",
              "        google.colab.kernel.accessAllowed ? 'block' : 'none';\n",
              "    })();\n",
              "  </script>\n",
              "</div>\n",
              "    </div>\n",
              "  </div>\n"
            ]
          },
          "metadata": {},
          "execution_count": 480
        }
      ]
    },
    {
      "cell_type": "code",
      "source": [
        "ds.describe()"
      ],
      "metadata": {
        "colab": {
          "base_uri": "https://localhost:8080/"
        },
        "id": "n4PzSZOxtzgl",
        "outputId": "884e45b8-df44-4e33-c7e3-b5966a0e8a48"
      },
      "execution_count": null,
      "outputs": [
        {
          "output_type": "execute_result",
          "data": {
            "text/plain": [
              "         Patient ID           Age  Hypertension  Heart Disease  \\\n",
              "count  15000.000000  15000.000000  15000.000000   15000.000000   \n",
              "mean   49715.802867     54.035667      0.249000       0.502933   \n",
              "std    29000.656642     21.063111      0.432448       0.500008   \n",
              "min        1.000000     18.000000      0.000000       0.000000   \n",
              "25%    24562.000000     36.000000      0.000000       0.000000   \n",
              "50%    49448.000000     54.000000      0.000000       1.000000   \n",
              "75%    75112.000000     72.000000      0.000000       1.000000   \n",
              "max    99975.000000     90.000000      1.000000       1.000000   \n",
              "\n",
              "       Average Glucose Level  Body Mass Index (BMI)  Stroke History  \\\n",
              "count           15000.000000           15000.000000    15000.000000   \n",
              "mean              129.445209              27.474302        0.500267   \n",
              "std                40.487792               7.230201        0.500017   \n",
              "min                60.000000              15.010000        0.000000   \n",
              "25%                94.517500              21.160000        0.000000   \n",
              "50%               128.900000              27.420000        1.000000   \n",
              "75%               164.592500              33.720000        1.000000   \n",
              "max               200.000000              40.000000        1.000000   \n",
              "\n",
              "       Stress Levels  \n",
              "count   15000.000000  \n",
              "mean        5.022694  \n",
              "std         2.873223  \n",
              "min         0.000000  \n",
              "25%         2.540000  \n",
              "50%         5.050000  \n",
              "75%         7.520000  \n",
              "max        10.000000  "
            ],
            "text/html": [
              "\n",
              "  <div id=\"df-122964b4-1f47-4641-856c-bdedec4b443d\" class=\"colab-df-container\">\n",
              "    <div>\n",
              "<style scoped>\n",
              "    .dataframe tbody tr th:only-of-type {\n",
              "        vertical-align: middle;\n",
              "    }\n",
              "\n",
              "    .dataframe tbody tr th {\n",
              "        vertical-align: top;\n",
              "    }\n",
              "\n",
              "    .dataframe thead th {\n",
              "        text-align: right;\n",
              "    }\n",
              "</style>\n",
              "<table border=\"1\" class=\"dataframe\">\n",
              "  <thead>\n",
              "    <tr style=\"text-align: right;\">\n",
              "      <th></th>\n",
              "      <th>Patient ID</th>\n",
              "      <th>Age</th>\n",
              "      <th>Hypertension</th>\n",
              "      <th>Heart Disease</th>\n",
              "      <th>Average Glucose Level</th>\n",
              "      <th>Body Mass Index (BMI)</th>\n",
              "      <th>Stroke History</th>\n",
              "      <th>Stress Levels</th>\n",
              "    </tr>\n",
              "  </thead>\n",
              "  <tbody>\n",
              "    <tr>\n",
              "      <th>count</th>\n",
              "      <td>15000.000000</td>\n",
              "      <td>15000.000000</td>\n",
              "      <td>15000.000000</td>\n",
              "      <td>15000.000000</td>\n",
              "      <td>15000.000000</td>\n",
              "      <td>15000.000000</td>\n",
              "      <td>15000.000000</td>\n",
              "      <td>15000.000000</td>\n",
              "    </tr>\n",
              "    <tr>\n",
              "      <th>mean</th>\n",
              "      <td>49715.802867</td>\n",
              "      <td>54.035667</td>\n",
              "      <td>0.249000</td>\n",
              "      <td>0.502933</td>\n",
              "      <td>129.445209</td>\n",
              "      <td>27.474302</td>\n",
              "      <td>0.500267</td>\n",
              "      <td>5.022694</td>\n",
              "    </tr>\n",
              "    <tr>\n",
              "      <th>std</th>\n",
              "      <td>29000.656642</td>\n",
              "      <td>21.063111</td>\n",
              "      <td>0.432448</td>\n",
              "      <td>0.500008</td>\n",
              "      <td>40.487792</td>\n",
              "      <td>7.230201</td>\n",
              "      <td>0.500017</td>\n",
              "      <td>2.873223</td>\n",
              "    </tr>\n",
              "    <tr>\n",
              "      <th>min</th>\n",
              "      <td>1.000000</td>\n",
              "      <td>18.000000</td>\n",
              "      <td>0.000000</td>\n",
              "      <td>0.000000</td>\n",
              "      <td>60.000000</td>\n",
              "      <td>15.010000</td>\n",
              "      <td>0.000000</td>\n",
              "      <td>0.000000</td>\n",
              "    </tr>\n",
              "    <tr>\n",
              "      <th>25%</th>\n",
              "      <td>24562.000000</td>\n",
              "      <td>36.000000</td>\n",
              "      <td>0.000000</td>\n",
              "      <td>0.000000</td>\n",
              "      <td>94.517500</td>\n",
              "      <td>21.160000</td>\n",
              "      <td>0.000000</td>\n",
              "      <td>2.540000</td>\n",
              "    </tr>\n",
              "    <tr>\n",
              "      <th>50%</th>\n",
              "      <td>49448.000000</td>\n",
              "      <td>54.000000</td>\n",
              "      <td>0.000000</td>\n",
              "      <td>1.000000</td>\n",
              "      <td>128.900000</td>\n",
              "      <td>27.420000</td>\n",
              "      <td>1.000000</td>\n",
              "      <td>5.050000</td>\n",
              "    </tr>\n",
              "    <tr>\n",
              "      <th>75%</th>\n",
              "      <td>75112.000000</td>\n",
              "      <td>72.000000</td>\n",
              "      <td>0.000000</td>\n",
              "      <td>1.000000</td>\n",
              "      <td>164.592500</td>\n",
              "      <td>33.720000</td>\n",
              "      <td>1.000000</td>\n",
              "      <td>7.520000</td>\n",
              "    </tr>\n",
              "    <tr>\n",
              "      <th>max</th>\n",
              "      <td>99975.000000</td>\n",
              "      <td>90.000000</td>\n",
              "      <td>1.000000</td>\n",
              "      <td>1.000000</td>\n",
              "      <td>200.000000</td>\n",
              "      <td>40.000000</td>\n",
              "      <td>1.000000</td>\n",
              "      <td>10.000000</td>\n",
              "    </tr>\n",
              "  </tbody>\n",
              "</table>\n",
              "</div>\n",
              "    <div class=\"colab-df-buttons\">\n",
              "\n",
              "  <div class=\"colab-df-container\">\n",
              "    <button class=\"colab-df-convert\" onclick=\"convertToInteractive('df-122964b4-1f47-4641-856c-bdedec4b443d')\"\n",
              "            title=\"Convert this dataframe to an interactive table.\"\n",
              "            style=\"display:none;\">\n",
              "\n",
              "  <svg xmlns=\"http://www.w3.org/2000/svg\" height=\"24px\" viewBox=\"0 -960 960 960\">\n",
              "    <path d=\"M120-120v-720h720v720H120Zm60-500h600v-160H180v160Zm220 220h160v-160H400v160Zm0 220h160v-160H400v160ZM180-400h160v-160H180v160Zm440 0h160v-160H620v160ZM180-180h160v-160H180v160Zm440 0h160v-160H620v160Z\"/>\n",
              "  </svg>\n",
              "    </button>\n",
              "\n",
              "  <style>\n",
              "    .colab-df-container {\n",
              "      display:flex;\n",
              "      gap: 12px;\n",
              "    }\n",
              "\n",
              "    .colab-df-convert {\n",
              "      background-color: #E8F0FE;\n",
              "      border: none;\n",
              "      border-radius: 50%;\n",
              "      cursor: pointer;\n",
              "      display: none;\n",
              "      fill: #1967D2;\n",
              "      height: 32px;\n",
              "      padding: 0 0 0 0;\n",
              "      width: 32px;\n",
              "    }\n",
              "\n",
              "    .colab-df-convert:hover {\n",
              "      background-color: #E2EBFA;\n",
              "      box-shadow: 0px 1px 2px rgba(60, 64, 67, 0.3), 0px 1px 3px 1px rgba(60, 64, 67, 0.15);\n",
              "      fill: #174EA6;\n",
              "    }\n",
              "\n",
              "    .colab-df-buttons div {\n",
              "      margin-bottom: 4px;\n",
              "    }\n",
              "\n",
              "    [theme=dark] .colab-df-convert {\n",
              "      background-color: #3B4455;\n",
              "      fill: #D2E3FC;\n",
              "    }\n",
              "\n",
              "    [theme=dark] .colab-df-convert:hover {\n",
              "      background-color: #434B5C;\n",
              "      box-shadow: 0px 1px 3px 1px rgba(0, 0, 0, 0.15);\n",
              "      filter: drop-shadow(0px 1px 2px rgba(0, 0, 0, 0.3));\n",
              "      fill: #FFFFFF;\n",
              "    }\n",
              "  </style>\n",
              "\n",
              "    <script>\n",
              "      const buttonEl =\n",
              "        document.querySelector('#df-122964b4-1f47-4641-856c-bdedec4b443d button.colab-df-convert');\n",
              "      buttonEl.style.display =\n",
              "        google.colab.kernel.accessAllowed ? 'block' : 'none';\n",
              "\n",
              "      async function convertToInteractive(key) {\n",
              "        const element = document.querySelector('#df-122964b4-1f47-4641-856c-bdedec4b443d');\n",
              "        const dataTable =\n",
              "          await google.colab.kernel.invokeFunction('convertToInteractive',\n",
              "                                                    [key], {});\n",
              "        if (!dataTable) return;\n",
              "\n",
              "        const docLinkHtml = 'Like what you see? Visit the ' +\n",
              "          '<a target=\"_blank\" href=https://colab.research.google.com/notebooks/data_table.ipynb>data table notebook</a>'\n",
              "          + ' to learn more about interactive tables.';\n",
              "        element.innerHTML = '';\n",
              "        dataTable['output_type'] = 'display_data';\n",
              "        await google.colab.output.renderOutput(dataTable, element);\n",
              "        const docLink = document.createElement('div');\n",
              "        docLink.innerHTML = docLinkHtml;\n",
              "        element.appendChild(docLink);\n",
              "      }\n",
              "    </script>\n",
              "  </div>\n",
              "\n",
              "\n",
              "<div id=\"df-aa7a63a9-96c2-475d-b4fb-6b07810de128\">\n",
              "  <button class=\"colab-df-quickchart\" onclick=\"quickchart('df-aa7a63a9-96c2-475d-b4fb-6b07810de128')\"\n",
              "            title=\"Suggest charts\"\n",
              "            style=\"display:none;\">\n",
              "\n",
              "<svg xmlns=\"http://www.w3.org/2000/svg\" height=\"24px\"viewBox=\"0 0 24 24\"\n",
              "     width=\"24px\">\n",
              "    <g>\n",
              "        <path d=\"M19 3H5c-1.1 0-2 .9-2 2v14c0 1.1.9 2 2 2h14c1.1 0 2-.9 2-2V5c0-1.1-.9-2-2-2zM9 17H7v-7h2v7zm4 0h-2V7h2v10zm4 0h-2v-4h2v4z\"/>\n",
              "    </g>\n",
              "</svg>\n",
              "  </button>\n",
              "\n",
              "<style>\n",
              "  .colab-df-quickchart {\n",
              "      --bg-color: #E8F0FE;\n",
              "      --fill-color: #1967D2;\n",
              "      --hover-bg-color: #E2EBFA;\n",
              "      --hover-fill-color: #174EA6;\n",
              "      --disabled-fill-color: #AAA;\n",
              "      --disabled-bg-color: #DDD;\n",
              "  }\n",
              "\n",
              "  [theme=dark] .colab-df-quickchart {\n",
              "      --bg-color: #3B4455;\n",
              "      --fill-color: #D2E3FC;\n",
              "      --hover-bg-color: #434B5C;\n",
              "      --hover-fill-color: #FFFFFF;\n",
              "      --disabled-bg-color: #3B4455;\n",
              "      --disabled-fill-color: #666;\n",
              "  }\n",
              "\n",
              "  .colab-df-quickchart {\n",
              "    background-color: var(--bg-color);\n",
              "    border: none;\n",
              "    border-radius: 50%;\n",
              "    cursor: pointer;\n",
              "    display: none;\n",
              "    fill: var(--fill-color);\n",
              "    height: 32px;\n",
              "    padding: 0;\n",
              "    width: 32px;\n",
              "  }\n",
              "\n",
              "  .colab-df-quickchart:hover {\n",
              "    background-color: var(--hover-bg-color);\n",
              "    box-shadow: 0 1px 2px rgba(60, 64, 67, 0.3), 0 1px 3px 1px rgba(60, 64, 67, 0.15);\n",
              "    fill: var(--button-hover-fill-color);\n",
              "  }\n",
              "\n",
              "  .colab-df-quickchart-complete:disabled,\n",
              "  .colab-df-quickchart-complete:disabled:hover {\n",
              "    background-color: var(--disabled-bg-color);\n",
              "    fill: var(--disabled-fill-color);\n",
              "    box-shadow: none;\n",
              "  }\n",
              "\n",
              "  .colab-df-spinner {\n",
              "    border: 2px solid var(--fill-color);\n",
              "    border-color: transparent;\n",
              "    border-bottom-color: var(--fill-color);\n",
              "    animation:\n",
              "      spin 1s steps(1) infinite;\n",
              "  }\n",
              "\n",
              "  @keyframes spin {\n",
              "    0% {\n",
              "      border-color: transparent;\n",
              "      border-bottom-color: var(--fill-color);\n",
              "      border-left-color: var(--fill-color);\n",
              "    }\n",
              "    20% {\n",
              "      border-color: transparent;\n",
              "      border-left-color: var(--fill-color);\n",
              "      border-top-color: var(--fill-color);\n",
              "    }\n",
              "    30% {\n",
              "      border-color: transparent;\n",
              "      border-left-color: var(--fill-color);\n",
              "      border-top-color: var(--fill-color);\n",
              "      border-right-color: var(--fill-color);\n",
              "    }\n",
              "    40% {\n",
              "      border-color: transparent;\n",
              "      border-right-color: var(--fill-color);\n",
              "      border-top-color: var(--fill-color);\n",
              "    }\n",
              "    60% {\n",
              "      border-color: transparent;\n",
              "      border-right-color: var(--fill-color);\n",
              "    }\n",
              "    80% {\n",
              "      border-color: transparent;\n",
              "      border-right-color: var(--fill-color);\n",
              "      border-bottom-color: var(--fill-color);\n",
              "    }\n",
              "    90% {\n",
              "      border-color: transparent;\n",
              "      border-bottom-color: var(--fill-color);\n",
              "    }\n",
              "  }\n",
              "</style>\n",
              "\n",
              "  <script>\n",
              "    async function quickchart(key) {\n",
              "      const quickchartButtonEl =\n",
              "        document.querySelector('#' + key + ' button');\n",
              "      quickchartButtonEl.disabled = true;  // To prevent multiple clicks.\n",
              "      quickchartButtonEl.classList.add('colab-df-spinner');\n",
              "      try {\n",
              "        const charts = await google.colab.kernel.invokeFunction(\n",
              "            'suggestCharts', [key], {});\n",
              "      } catch (error) {\n",
              "        console.error('Error during call to suggestCharts:', error);\n",
              "      }\n",
              "      quickchartButtonEl.classList.remove('colab-df-spinner');\n",
              "      quickchartButtonEl.classList.add('colab-df-quickchart-complete');\n",
              "    }\n",
              "    (() => {\n",
              "      let quickchartButtonEl =\n",
              "        document.querySelector('#df-aa7a63a9-96c2-475d-b4fb-6b07810de128 button');\n",
              "      quickchartButtonEl.style.display =\n",
              "        google.colab.kernel.accessAllowed ? 'block' : 'none';\n",
              "    })();\n",
              "  </script>\n",
              "</div>\n",
              "    </div>\n",
              "  </div>\n"
            ]
          },
          "metadata": {},
          "execution_count": 481
        }
      ]
    },
    {
      "cell_type": "code",
      "source": [
        "ds.dtypes"
      ],
      "metadata": {
        "id": "ClldWMJcFoOc",
        "colab": {
          "base_uri": "https://localhost:8080/"
        },
        "outputId": "6ce69dde-2b3e-4a09-f70b-e2d9339f713a"
      },
      "execution_count": null,
      "outputs": [
        {
          "output_type": "execute_result",
          "data": {
            "text/plain": [
              "Patient ID                    int64\n",
              "Patient Name                 object\n",
              "Age                           int64\n",
              "Gender                       object\n",
              "Hypertension                  int64\n",
              "Heart Disease                 int64\n",
              "Marital Status               object\n",
              "Work Type                    object\n",
              "Residence Type               object\n",
              "Average Glucose Level       float64\n",
              "Body Mass Index (BMI)       float64\n",
              "Smoking Status               object\n",
              "Alcohol Intake               object\n",
              "Physical Activity            object\n",
              "Stroke History                int64\n",
              "Family History of Stroke     object\n",
              "Dietary Habits               object\n",
              "Stress Levels               float64\n",
              "Blood Pressure Levels        object\n",
              "Cholesterol Levels           object\n",
              "Symptoms                     object\n",
              "Diagnosis                    object\n",
              "dtype: object"
            ]
          },
          "metadata": {},
          "execution_count": 482
        }
      ]
    },
    {
      "cell_type": "code",
      "source": [
        "#Visualizar as 10 primeiras\n",
        "ds.head(10)"
      ],
      "metadata": {
        "id": "xvGP7dtL9aTO",
        "colab": {
          "base_uri": "https://localhost:8080/"
        },
        "outputId": "544e72e9-e68b-4298-db3b-783bc3097291"
      },
      "execution_count": null,
      "outputs": [
        {
          "output_type": "execute_result",
          "data": {
            "text/plain": [
              "   Patient ID       Patient Name  Age  Gender  Hypertension  Heart Disease  \\\n",
              "0       18153    Mamooty Khurana   56    Male             0              1   \n",
              "1       62749  Kaira Subramaniam   80    Male             0              0   \n",
              "2       32145      Dhanush Balan   26    Male             1              1   \n",
              "3        6154        Ivana Baral   73    Male             0              0   \n",
              "4       48973  Darshit Jayaraman   51    Male             1              1   \n",
              "5       29307        Advika Kota   62  Female             0              0   \n",
              "6       25525      Elakshi Karan   40  Female             1              0   \n",
              "7        4809        Shalv Dugar   61  Female             0              1   \n",
              "8        7372       Raghav Handa   72  Female             1              1   \n",
              "9       37504     Krish Kulkarni   82    Male             0              0   \n",
              "\n",
              "  Marital Status       Work Type Residence Type  Average Glucose Level  ...  \\\n",
              "0        Married   Self-employed          Rural                 130.91  ...   \n",
              "1         Single   Self-employed          Urban                 183.73  ...   \n",
              "2        Married    Never Worked          Rural                 189.00  ...   \n",
              "3        Married    Never Worked          Urban                 185.29  ...   \n",
              "4       Divorced   Self-employed          Urban                 177.34  ...   \n",
              "5         Single         Private          Urban                  91.60  ...   \n",
              "6        Married         Private          Urban                  77.83  ...   \n",
              "7       Divorced  Government Job          Rural                 194.73  ...   \n",
              "8        Married   Self-employed          Rural                  72.99  ...   \n",
              "9       Divorced   Self-employed          Urban                 111.23  ...   \n",
              "\n",
              "     Alcohol Intake Physical Activity Stroke History Family History of Stroke  \\\n",
              "0    Social Drinker          Moderate              0                      Yes   \n",
              "1             Never               Low              0                       No   \n",
              "2            Rarely              High              0                      Yes   \n",
              "3  Frequent Drinker          Moderate              0                       No   \n",
              "4            Rarely               Low              0                      Yes   \n",
              "5    Social Drinker              High              0                       No   \n",
              "6             Never               Low              1                       No   \n",
              "7            Rarely          Moderate              1                       No   \n",
              "8            Rarely              High              1                       No   \n",
              "9            Rarely              High              1                      Yes   \n",
              "\n",
              "   Dietary Habits Stress Levels Blood Pressure Levels  Cholesterol Levels  \\\n",
              "0           Vegan          3.48               140/108   HDL: 68, LDL: 133   \n",
              "1           Paleo          1.73                146/91    HDL: 63, LDL: 70   \n",
              "2           Paleo          7.31                154/97    HDL: 59, LDL: 95   \n",
              "3           Paleo          5.35                174/81   HDL: 70, LDL: 137   \n",
              "4     Pescatarian          6.84                121/95    HDL: 65, LDL: 68   \n",
              "5     Gluten-Free          4.85                132/64    HDL: 80, LDL: 69   \n",
              "6      Vegetarian          6.38               178/105   HDL: 31, LDL: 134   \n",
              "7           Vegan          5.85                179/72   HDL: 66, LDL: 134   \n",
              "8      Vegetarian          0.73               141/106   HDL: 71, LDL: 140   \n",
              "9  Non-Vegetarian          8.39                119/88    HDL: 32, LDL: 88   \n",
              "\n",
              "                                            Symptoms  Diagnosis  \n",
              "0                      Difficulty Speaking, Headache     Stroke  \n",
              "1    Loss of Balance, Headache, Dizziness, Confusion     Stroke  \n",
              "2                                Seizures, Dizziness     Stroke  \n",
              "3  Seizures, Blurred Vision, Severe Fatigue, Head...  No Stroke  \n",
              "4                                Difficulty Speaking     Stroke  \n",
              "5                                     Severe Fatigue     Stroke  \n",
              "6                                                NaN  No Stroke  \n",
              "7                                    Loss of Balance     Stroke  \n",
              "8    Loss of Balance, Dizziness, Difficulty Speaking     Stroke  \n",
              "9                                                NaN  No Stroke  \n",
              "\n",
              "[10 rows x 22 columns]"
            ],
            "text/html": [
              "\n",
              "  <div id=\"df-14b7875d-aded-4382-b5c3-47bc6d923361\" class=\"colab-df-container\">\n",
              "    <div>\n",
              "<style scoped>\n",
              "    .dataframe tbody tr th:only-of-type {\n",
              "        vertical-align: middle;\n",
              "    }\n",
              "\n",
              "    .dataframe tbody tr th {\n",
              "        vertical-align: top;\n",
              "    }\n",
              "\n",
              "    .dataframe thead th {\n",
              "        text-align: right;\n",
              "    }\n",
              "</style>\n",
              "<table border=\"1\" class=\"dataframe\">\n",
              "  <thead>\n",
              "    <tr style=\"text-align: right;\">\n",
              "      <th></th>\n",
              "      <th>Patient ID</th>\n",
              "      <th>Patient Name</th>\n",
              "      <th>Age</th>\n",
              "      <th>Gender</th>\n",
              "      <th>Hypertension</th>\n",
              "      <th>Heart Disease</th>\n",
              "      <th>Marital Status</th>\n",
              "      <th>Work Type</th>\n",
              "      <th>Residence Type</th>\n",
              "      <th>Average Glucose Level</th>\n",
              "      <th>...</th>\n",
              "      <th>Alcohol Intake</th>\n",
              "      <th>Physical Activity</th>\n",
              "      <th>Stroke History</th>\n",
              "      <th>Family History of Stroke</th>\n",
              "      <th>Dietary Habits</th>\n",
              "      <th>Stress Levels</th>\n",
              "      <th>Blood Pressure Levels</th>\n",
              "      <th>Cholesterol Levels</th>\n",
              "      <th>Symptoms</th>\n",
              "      <th>Diagnosis</th>\n",
              "    </tr>\n",
              "  </thead>\n",
              "  <tbody>\n",
              "    <tr>\n",
              "      <th>0</th>\n",
              "      <td>18153</td>\n",
              "      <td>Mamooty Khurana</td>\n",
              "      <td>56</td>\n",
              "      <td>Male</td>\n",
              "      <td>0</td>\n",
              "      <td>1</td>\n",
              "      <td>Married</td>\n",
              "      <td>Self-employed</td>\n",
              "      <td>Rural</td>\n",
              "      <td>130.91</td>\n",
              "      <td>...</td>\n",
              "      <td>Social Drinker</td>\n",
              "      <td>Moderate</td>\n",
              "      <td>0</td>\n",
              "      <td>Yes</td>\n",
              "      <td>Vegan</td>\n",
              "      <td>3.48</td>\n",
              "      <td>140/108</td>\n",
              "      <td>HDL: 68, LDL: 133</td>\n",
              "      <td>Difficulty Speaking, Headache</td>\n",
              "      <td>Stroke</td>\n",
              "    </tr>\n",
              "    <tr>\n",
              "      <th>1</th>\n",
              "      <td>62749</td>\n",
              "      <td>Kaira Subramaniam</td>\n",
              "      <td>80</td>\n",
              "      <td>Male</td>\n",
              "      <td>0</td>\n",
              "      <td>0</td>\n",
              "      <td>Single</td>\n",
              "      <td>Self-employed</td>\n",
              "      <td>Urban</td>\n",
              "      <td>183.73</td>\n",
              "      <td>...</td>\n",
              "      <td>Never</td>\n",
              "      <td>Low</td>\n",
              "      <td>0</td>\n",
              "      <td>No</td>\n",
              "      <td>Paleo</td>\n",
              "      <td>1.73</td>\n",
              "      <td>146/91</td>\n",
              "      <td>HDL: 63, LDL: 70</td>\n",
              "      <td>Loss of Balance, Headache, Dizziness, Confusion</td>\n",
              "      <td>Stroke</td>\n",
              "    </tr>\n",
              "    <tr>\n",
              "      <th>2</th>\n",
              "      <td>32145</td>\n",
              "      <td>Dhanush Balan</td>\n",
              "      <td>26</td>\n",
              "      <td>Male</td>\n",
              "      <td>1</td>\n",
              "      <td>1</td>\n",
              "      <td>Married</td>\n",
              "      <td>Never Worked</td>\n",
              "      <td>Rural</td>\n",
              "      <td>189.00</td>\n",
              "      <td>...</td>\n",
              "      <td>Rarely</td>\n",
              "      <td>High</td>\n",
              "      <td>0</td>\n",
              "      <td>Yes</td>\n",
              "      <td>Paleo</td>\n",
              "      <td>7.31</td>\n",
              "      <td>154/97</td>\n",
              "      <td>HDL: 59, LDL: 95</td>\n",
              "      <td>Seizures, Dizziness</td>\n",
              "      <td>Stroke</td>\n",
              "    </tr>\n",
              "    <tr>\n",
              "      <th>3</th>\n",
              "      <td>6154</td>\n",
              "      <td>Ivana Baral</td>\n",
              "      <td>73</td>\n",
              "      <td>Male</td>\n",
              "      <td>0</td>\n",
              "      <td>0</td>\n",
              "      <td>Married</td>\n",
              "      <td>Never Worked</td>\n",
              "      <td>Urban</td>\n",
              "      <td>185.29</td>\n",
              "      <td>...</td>\n",
              "      <td>Frequent Drinker</td>\n",
              "      <td>Moderate</td>\n",
              "      <td>0</td>\n",
              "      <td>No</td>\n",
              "      <td>Paleo</td>\n",
              "      <td>5.35</td>\n",
              "      <td>174/81</td>\n",
              "      <td>HDL: 70, LDL: 137</td>\n",
              "      <td>Seizures, Blurred Vision, Severe Fatigue, Head...</td>\n",
              "      <td>No Stroke</td>\n",
              "    </tr>\n",
              "    <tr>\n",
              "      <th>4</th>\n",
              "      <td>48973</td>\n",
              "      <td>Darshit Jayaraman</td>\n",
              "      <td>51</td>\n",
              "      <td>Male</td>\n",
              "      <td>1</td>\n",
              "      <td>1</td>\n",
              "      <td>Divorced</td>\n",
              "      <td>Self-employed</td>\n",
              "      <td>Urban</td>\n",
              "      <td>177.34</td>\n",
              "      <td>...</td>\n",
              "      <td>Rarely</td>\n",
              "      <td>Low</td>\n",
              "      <td>0</td>\n",
              "      <td>Yes</td>\n",
              "      <td>Pescatarian</td>\n",
              "      <td>6.84</td>\n",
              "      <td>121/95</td>\n",
              "      <td>HDL: 65, LDL: 68</td>\n",
              "      <td>Difficulty Speaking</td>\n",
              "      <td>Stroke</td>\n",
              "    </tr>\n",
              "    <tr>\n",
              "      <th>5</th>\n",
              "      <td>29307</td>\n",
              "      <td>Advika Kota</td>\n",
              "      <td>62</td>\n",
              "      <td>Female</td>\n",
              "      <td>0</td>\n",
              "      <td>0</td>\n",
              "      <td>Single</td>\n",
              "      <td>Private</td>\n",
              "      <td>Urban</td>\n",
              "      <td>91.60</td>\n",
              "      <td>...</td>\n",
              "      <td>Social Drinker</td>\n",
              "      <td>High</td>\n",
              "      <td>0</td>\n",
              "      <td>No</td>\n",
              "      <td>Gluten-Free</td>\n",
              "      <td>4.85</td>\n",
              "      <td>132/64</td>\n",
              "      <td>HDL: 80, LDL: 69</td>\n",
              "      <td>Severe Fatigue</td>\n",
              "      <td>Stroke</td>\n",
              "    </tr>\n",
              "    <tr>\n",
              "      <th>6</th>\n",
              "      <td>25525</td>\n",
              "      <td>Elakshi Karan</td>\n",
              "      <td>40</td>\n",
              "      <td>Female</td>\n",
              "      <td>1</td>\n",
              "      <td>0</td>\n",
              "      <td>Married</td>\n",
              "      <td>Private</td>\n",
              "      <td>Urban</td>\n",
              "      <td>77.83</td>\n",
              "      <td>...</td>\n",
              "      <td>Never</td>\n",
              "      <td>Low</td>\n",
              "      <td>1</td>\n",
              "      <td>No</td>\n",
              "      <td>Vegetarian</td>\n",
              "      <td>6.38</td>\n",
              "      <td>178/105</td>\n",
              "      <td>HDL: 31, LDL: 134</td>\n",
              "      <td>NaN</td>\n",
              "      <td>No Stroke</td>\n",
              "    </tr>\n",
              "    <tr>\n",
              "      <th>7</th>\n",
              "      <td>4809</td>\n",
              "      <td>Shalv Dugar</td>\n",
              "      <td>61</td>\n",
              "      <td>Female</td>\n",
              "      <td>0</td>\n",
              "      <td>1</td>\n",
              "      <td>Divorced</td>\n",
              "      <td>Government Job</td>\n",
              "      <td>Rural</td>\n",
              "      <td>194.73</td>\n",
              "      <td>...</td>\n",
              "      <td>Rarely</td>\n",
              "      <td>Moderate</td>\n",
              "      <td>1</td>\n",
              "      <td>No</td>\n",
              "      <td>Vegan</td>\n",
              "      <td>5.85</td>\n",
              "      <td>179/72</td>\n",
              "      <td>HDL: 66, LDL: 134</td>\n",
              "      <td>Loss of Balance</td>\n",
              "      <td>Stroke</td>\n",
              "    </tr>\n",
              "    <tr>\n",
              "      <th>8</th>\n",
              "      <td>7372</td>\n",
              "      <td>Raghav Handa</td>\n",
              "      <td>72</td>\n",
              "      <td>Female</td>\n",
              "      <td>1</td>\n",
              "      <td>1</td>\n",
              "      <td>Married</td>\n",
              "      <td>Self-employed</td>\n",
              "      <td>Rural</td>\n",
              "      <td>72.99</td>\n",
              "      <td>...</td>\n",
              "      <td>Rarely</td>\n",
              "      <td>High</td>\n",
              "      <td>1</td>\n",
              "      <td>No</td>\n",
              "      <td>Vegetarian</td>\n",
              "      <td>0.73</td>\n",
              "      <td>141/106</td>\n",
              "      <td>HDL: 71, LDL: 140</td>\n",
              "      <td>Loss of Balance, Dizziness, Difficulty Speaking</td>\n",
              "      <td>Stroke</td>\n",
              "    </tr>\n",
              "    <tr>\n",
              "      <th>9</th>\n",
              "      <td>37504</td>\n",
              "      <td>Krish Kulkarni</td>\n",
              "      <td>82</td>\n",
              "      <td>Male</td>\n",
              "      <td>0</td>\n",
              "      <td>0</td>\n",
              "      <td>Divorced</td>\n",
              "      <td>Self-employed</td>\n",
              "      <td>Urban</td>\n",
              "      <td>111.23</td>\n",
              "      <td>...</td>\n",
              "      <td>Rarely</td>\n",
              "      <td>High</td>\n",
              "      <td>1</td>\n",
              "      <td>Yes</td>\n",
              "      <td>Non-Vegetarian</td>\n",
              "      <td>8.39</td>\n",
              "      <td>119/88</td>\n",
              "      <td>HDL: 32, LDL: 88</td>\n",
              "      <td>NaN</td>\n",
              "      <td>No Stroke</td>\n",
              "    </tr>\n",
              "  </tbody>\n",
              "</table>\n",
              "<p>10 rows × 22 columns</p>\n",
              "</div>\n",
              "    <div class=\"colab-df-buttons\">\n",
              "\n",
              "  <div class=\"colab-df-container\">\n",
              "    <button class=\"colab-df-convert\" onclick=\"convertToInteractive('df-14b7875d-aded-4382-b5c3-47bc6d923361')\"\n",
              "            title=\"Convert this dataframe to an interactive table.\"\n",
              "            style=\"display:none;\">\n",
              "\n",
              "  <svg xmlns=\"http://www.w3.org/2000/svg\" height=\"24px\" viewBox=\"0 -960 960 960\">\n",
              "    <path d=\"M120-120v-720h720v720H120Zm60-500h600v-160H180v160Zm220 220h160v-160H400v160Zm0 220h160v-160H400v160ZM180-400h160v-160H180v160Zm440 0h160v-160H620v160ZM180-180h160v-160H180v160Zm440 0h160v-160H620v160Z\"/>\n",
              "  </svg>\n",
              "    </button>\n",
              "\n",
              "  <style>\n",
              "    .colab-df-container {\n",
              "      display:flex;\n",
              "      gap: 12px;\n",
              "    }\n",
              "\n",
              "    .colab-df-convert {\n",
              "      background-color: #E8F0FE;\n",
              "      border: none;\n",
              "      border-radius: 50%;\n",
              "      cursor: pointer;\n",
              "      display: none;\n",
              "      fill: #1967D2;\n",
              "      height: 32px;\n",
              "      padding: 0 0 0 0;\n",
              "      width: 32px;\n",
              "    }\n",
              "\n",
              "    .colab-df-convert:hover {\n",
              "      background-color: #E2EBFA;\n",
              "      box-shadow: 0px 1px 2px rgba(60, 64, 67, 0.3), 0px 1px 3px 1px rgba(60, 64, 67, 0.15);\n",
              "      fill: #174EA6;\n",
              "    }\n",
              "\n",
              "    .colab-df-buttons div {\n",
              "      margin-bottom: 4px;\n",
              "    }\n",
              "\n",
              "    [theme=dark] .colab-df-convert {\n",
              "      background-color: #3B4455;\n",
              "      fill: #D2E3FC;\n",
              "    }\n",
              "\n",
              "    [theme=dark] .colab-df-convert:hover {\n",
              "      background-color: #434B5C;\n",
              "      box-shadow: 0px 1px 3px 1px rgba(0, 0, 0, 0.15);\n",
              "      filter: drop-shadow(0px 1px 2px rgba(0, 0, 0, 0.3));\n",
              "      fill: #FFFFFF;\n",
              "    }\n",
              "  </style>\n",
              "\n",
              "    <script>\n",
              "      const buttonEl =\n",
              "        document.querySelector('#df-14b7875d-aded-4382-b5c3-47bc6d923361 button.colab-df-convert');\n",
              "      buttonEl.style.display =\n",
              "        google.colab.kernel.accessAllowed ? 'block' : 'none';\n",
              "\n",
              "      async function convertToInteractive(key) {\n",
              "        const element = document.querySelector('#df-14b7875d-aded-4382-b5c3-47bc6d923361');\n",
              "        const dataTable =\n",
              "          await google.colab.kernel.invokeFunction('convertToInteractive',\n",
              "                                                    [key], {});\n",
              "        if (!dataTable) return;\n",
              "\n",
              "        const docLinkHtml = 'Like what you see? Visit the ' +\n",
              "          '<a target=\"_blank\" href=https://colab.research.google.com/notebooks/data_table.ipynb>data table notebook</a>'\n",
              "          + ' to learn more about interactive tables.';\n",
              "        element.innerHTML = '';\n",
              "        dataTable['output_type'] = 'display_data';\n",
              "        await google.colab.output.renderOutput(dataTable, element);\n",
              "        const docLink = document.createElement('div');\n",
              "        docLink.innerHTML = docLinkHtml;\n",
              "        element.appendChild(docLink);\n",
              "      }\n",
              "    </script>\n",
              "  </div>\n",
              "\n",
              "\n",
              "<div id=\"df-0e8f4ee6-ac05-4a0d-a38e-8fd3fb42e811\">\n",
              "  <button class=\"colab-df-quickchart\" onclick=\"quickchart('df-0e8f4ee6-ac05-4a0d-a38e-8fd3fb42e811')\"\n",
              "            title=\"Suggest charts\"\n",
              "            style=\"display:none;\">\n",
              "\n",
              "<svg xmlns=\"http://www.w3.org/2000/svg\" height=\"24px\"viewBox=\"0 0 24 24\"\n",
              "     width=\"24px\">\n",
              "    <g>\n",
              "        <path d=\"M19 3H5c-1.1 0-2 .9-2 2v14c0 1.1.9 2 2 2h14c1.1 0 2-.9 2-2V5c0-1.1-.9-2-2-2zM9 17H7v-7h2v7zm4 0h-2V7h2v10zm4 0h-2v-4h2v4z\"/>\n",
              "    </g>\n",
              "</svg>\n",
              "  </button>\n",
              "\n",
              "<style>\n",
              "  .colab-df-quickchart {\n",
              "      --bg-color: #E8F0FE;\n",
              "      --fill-color: #1967D2;\n",
              "      --hover-bg-color: #E2EBFA;\n",
              "      --hover-fill-color: #174EA6;\n",
              "      --disabled-fill-color: #AAA;\n",
              "      --disabled-bg-color: #DDD;\n",
              "  }\n",
              "\n",
              "  [theme=dark] .colab-df-quickchart {\n",
              "      --bg-color: #3B4455;\n",
              "      --fill-color: #D2E3FC;\n",
              "      --hover-bg-color: #434B5C;\n",
              "      --hover-fill-color: #FFFFFF;\n",
              "      --disabled-bg-color: #3B4455;\n",
              "      --disabled-fill-color: #666;\n",
              "  }\n",
              "\n",
              "  .colab-df-quickchart {\n",
              "    background-color: var(--bg-color);\n",
              "    border: none;\n",
              "    border-radius: 50%;\n",
              "    cursor: pointer;\n",
              "    display: none;\n",
              "    fill: var(--fill-color);\n",
              "    height: 32px;\n",
              "    padding: 0;\n",
              "    width: 32px;\n",
              "  }\n",
              "\n",
              "  .colab-df-quickchart:hover {\n",
              "    background-color: var(--hover-bg-color);\n",
              "    box-shadow: 0 1px 2px rgba(60, 64, 67, 0.3), 0 1px 3px 1px rgba(60, 64, 67, 0.15);\n",
              "    fill: var(--button-hover-fill-color);\n",
              "  }\n",
              "\n",
              "  .colab-df-quickchart-complete:disabled,\n",
              "  .colab-df-quickchart-complete:disabled:hover {\n",
              "    background-color: var(--disabled-bg-color);\n",
              "    fill: var(--disabled-fill-color);\n",
              "    box-shadow: none;\n",
              "  }\n",
              "\n",
              "  .colab-df-spinner {\n",
              "    border: 2px solid var(--fill-color);\n",
              "    border-color: transparent;\n",
              "    border-bottom-color: var(--fill-color);\n",
              "    animation:\n",
              "      spin 1s steps(1) infinite;\n",
              "  }\n",
              "\n",
              "  @keyframes spin {\n",
              "    0% {\n",
              "      border-color: transparent;\n",
              "      border-bottom-color: var(--fill-color);\n",
              "      border-left-color: var(--fill-color);\n",
              "    }\n",
              "    20% {\n",
              "      border-color: transparent;\n",
              "      border-left-color: var(--fill-color);\n",
              "      border-top-color: var(--fill-color);\n",
              "    }\n",
              "    30% {\n",
              "      border-color: transparent;\n",
              "      border-left-color: var(--fill-color);\n",
              "      border-top-color: var(--fill-color);\n",
              "      border-right-color: var(--fill-color);\n",
              "    }\n",
              "    40% {\n",
              "      border-color: transparent;\n",
              "      border-right-color: var(--fill-color);\n",
              "      border-top-color: var(--fill-color);\n",
              "    }\n",
              "    60% {\n",
              "      border-color: transparent;\n",
              "      border-right-color: var(--fill-color);\n",
              "    }\n",
              "    80% {\n",
              "      border-color: transparent;\n",
              "      border-right-color: var(--fill-color);\n",
              "      border-bottom-color: var(--fill-color);\n",
              "    }\n",
              "    90% {\n",
              "      border-color: transparent;\n",
              "      border-bottom-color: var(--fill-color);\n",
              "    }\n",
              "  }\n",
              "</style>\n",
              "\n",
              "  <script>\n",
              "    async function quickchart(key) {\n",
              "      const quickchartButtonEl =\n",
              "        document.querySelector('#' + key + ' button');\n",
              "      quickchartButtonEl.disabled = true;  // To prevent multiple clicks.\n",
              "      quickchartButtonEl.classList.add('colab-df-spinner');\n",
              "      try {\n",
              "        const charts = await google.colab.kernel.invokeFunction(\n",
              "            'suggestCharts', [key], {});\n",
              "      } catch (error) {\n",
              "        console.error('Error during call to suggestCharts:', error);\n",
              "      }\n",
              "      quickchartButtonEl.classList.remove('colab-df-spinner');\n",
              "      quickchartButtonEl.classList.add('colab-df-quickchart-complete');\n",
              "    }\n",
              "    (() => {\n",
              "      let quickchartButtonEl =\n",
              "        document.querySelector('#df-0e8f4ee6-ac05-4a0d-a38e-8fd3fb42e811 button');\n",
              "      quickchartButtonEl.style.display =\n",
              "        google.colab.kernel.accessAllowed ? 'block' : 'none';\n",
              "    })();\n",
              "  </script>\n",
              "</div>\n",
              "    </div>\n",
              "  </div>\n"
            ]
          },
          "metadata": {},
          "execution_count": 483
        }
      ]
    },
    {
      "cell_type": "code",
      "source": [
        "#Visualizar as 5 últimas linhas\n",
        "ds.tail()"
      ],
      "metadata": {
        "id": "DrlxHZoCR6gg",
        "colab": {
          "base_uri": "https://localhost:8080/"
        },
        "outputId": "a332e7e7-bf8d-4eb8-c243-dceaee172f01"
      },
      "execution_count": null,
      "outputs": [
        {
          "output_type": "execute_result",
          "data": {
            "text/plain": [
              "       Patient ID   Patient Name  Age  Gender  Hypertension  Heart Disease  \\\n",
              "14995       13981      Keya Iyer   88  Female             1              1   \n",
              "14996       87707   Anahita Virk   47  Female             0              0   \n",
              "14997       33174     Ivana Kaur   35    Male             0              0   \n",
              "14998       22343    Anvi Mannan   73    Male             0              0   \n",
              "14999       11066  Gokul Trivedi   64  Female             0              0   \n",
              "\n",
              "      Marital Status       Work Type Residence Type  Average Glucose Level  \\\n",
              "14995       Divorced   Self-employed          Urban                 160.22   \n",
              "14996        Married         Private          Urban                 107.58   \n",
              "14997        Married  Government Job          Rural                 134.90   \n",
              "14998         Single   Self-employed          Urban                 169.42   \n",
              "14999         Single    Never Worked          Urban                 186.88   \n",
              "\n",
              "       ...  Alcohol Intake Physical Activity Stroke History  \\\n",
              "14995  ...  Social Drinker              High              0   \n",
              "14996  ...           Never               Low              1   \n",
              "14997  ...          Rarely              High              1   \n",
              "14998  ...           Never              High              0   \n",
              "14999  ...          Rarely          Moderate              0   \n",
              "\n",
              "      Family History of Stroke  Dietary Habits Stress Levels  \\\n",
              "14995                       No           Paleo          1.12   \n",
              "14996                       No     Gluten-Free          1.47   \n",
              "14997                       No           Paleo          0.51   \n",
              "14998                      Yes           Paleo          1.53   \n",
              "14999                       No           Vegan          4.57   \n",
              "\n",
              "      Blood Pressure Levels  Cholesterol Levels  \\\n",
              "14995                171/92   HDL: 44, LDL: 153   \n",
              "14996                155/71   HDL: 35, LDL: 183   \n",
              "14997               121/110   HDL: 57, LDL: 159   \n",
              "14998                157/74    HDL: 79, LDL: 91   \n",
              "14999                133/81   HDL: 78, LDL: 179   \n",
              "\n",
              "                                                Symptoms  Diagnosis  \n",
              "14995                                                NaN  No Stroke  \n",
              "14996                                Difficulty Speaking  No Stroke  \n",
              "14997      Difficulty Speaking, Severe Fatigue, Headache     Stroke  \n",
              "14998  Severe Fatigue, Numbness, Confusion, Dizziness...  No Stroke  \n",
              "14999                                           Headache     Stroke  \n",
              "\n",
              "[5 rows x 22 columns]"
            ],
            "text/html": [
              "\n",
              "  <div id=\"df-c04ec42b-cb24-4005-9f91-a1424598f19f\" class=\"colab-df-container\">\n",
              "    <div>\n",
              "<style scoped>\n",
              "    .dataframe tbody tr th:only-of-type {\n",
              "        vertical-align: middle;\n",
              "    }\n",
              "\n",
              "    .dataframe tbody tr th {\n",
              "        vertical-align: top;\n",
              "    }\n",
              "\n",
              "    .dataframe thead th {\n",
              "        text-align: right;\n",
              "    }\n",
              "</style>\n",
              "<table border=\"1\" class=\"dataframe\">\n",
              "  <thead>\n",
              "    <tr style=\"text-align: right;\">\n",
              "      <th></th>\n",
              "      <th>Patient ID</th>\n",
              "      <th>Patient Name</th>\n",
              "      <th>Age</th>\n",
              "      <th>Gender</th>\n",
              "      <th>Hypertension</th>\n",
              "      <th>Heart Disease</th>\n",
              "      <th>Marital Status</th>\n",
              "      <th>Work Type</th>\n",
              "      <th>Residence Type</th>\n",
              "      <th>Average Glucose Level</th>\n",
              "      <th>...</th>\n",
              "      <th>Alcohol Intake</th>\n",
              "      <th>Physical Activity</th>\n",
              "      <th>Stroke History</th>\n",
              "      <th>Family History of Stroke</th>\n",
              "      <th>Dietary Habits</th>\n",
              "      <th>Stress Levels</th>\n",
              "      <th>Blood Pressure Levels</th>\n",
              "      <th>Cholesterol Levels</th>\n",
              "      <th>Symptoms</th>\n",
              "      <th>Diagnosis</th>\n",
              "    </tr>\n",
              "  </thead>\n",
              "  <tbody>\n",
              "    <tr>\n",
              "      <th>14995</th>\n",
              "      <td>13981</td>\n",
              "      <td>Keya Iyer</td>\n",
              "      <td>88</td>\n",
              "      <td>Female</td>\n",
              "      <td>1</td>\n",
              "      <td>1</td>\n",
              "      <td>Divorced</td>\n",
              "      <td>Self-employed</td>\n",
              "      <td>Urban</td>\n",
              "      <td>160.22</td>\n",
              "      <td>...</td>\n",
              "      <td>Social Drinker</td>\n",
              "      <td>High</td>\n",
              "      <td>0</td>\n",
              "      <td>No</td>\n",
              "      <td>Paleo</td>\n",
              "      <td>1.12</td>\n",
              "      <td>171/92</td>\n",
              "      <td>HDL: 44, LDL: 153</td>\n",
              "      <td>NaN</td>\n",
              "      <td>No Stroke</td>\n",
              "    </tr>\n",
              "    <tr>\n",
              "      <th>14996</th>\n",
              "      <td>87707</td>\n",
              "      <td>Anahita Virk</td>\n",
              "      <td>47</td>\n",
              "      <td>Female</td>\n",
              "      <td>0</td>\n",
              "      <td>0</td>\n",
              "      <td>Married</td>\n",
              "      <td>Private</td>\n",
              "      <td>Urban</td>\n",
              "      <td>107.58</td>\n",
              "      <td>...</td>\n",
              "      <td>Never</td>\n",
              "      <td>Low</td>\n",
              "      <td>1</td>\n",
              "      <td>No</td>\n",
              "      <td>Gluten-Free</td>\n",
              "      <td>1.47</td>\n",
              "      <td>155/71</td>\n",
              "      <td>HDL: 35, LDL: 183</td>\n",
              "      <td>Difficulty Speaking</td>\n",
              "      <td>No Stroke</td>\n",
              "    </tr>\n",
              "    <tr>\n",
              "      <th>14997</th>\n",
              "      <td>33174</td>\n",
              "      <td>Ivana Kaur</td>\n",
              "      <td>35</td>\n",
              "      <td>Male</td>\n",
              "      <td>0</td>\n",
              "      <td>0</td>\n",
              "      <td>Married</td>\n",
              "      <td>Government Job</td>\n",
              "      <td>Rural</td>\n",
              "      <td>134.90</td>\n",
              "      <td>...</td>\n",
              "      <td>Rarely</td>\n",
              "      <td>High</td>\n",
              "      <td>1</td>\n",
              "      <td>No</td>\n",
              "      <td>Paleo</td>\n",
              "      <td>0.51</td>\n",
              "      <td>121/110</td>\n",
              "      <td>HDL: 57, LDL: 159</td>\n",
              "      <td>Difficulty Speaking, Severe Fatigue, Headache</td>\n",
              "      <td>Stroke</td>\n",
              "    </tr>\n",
              "    <tr>\n",
              "      <th>14998</th>\n",
              "      <td>22343</td>\n",
              "      <td>Anvi Mannan</td>\n",
              "      <td>73</td>\n",
              "      <td>Male</td>\n",
              "      <td>0</td>\n",
              "      <td>0</td>\n",
              "      <td>Single</td>\n",
              "      <td>Self-employed</td>\n",
              "      <td>Urban</td>\n",
              "      <td>169.42</td>\n",
              "      <td>...</td>\n",
              "      <td>Never</td>\n",
              "      <td>High</td>\n",
              "      <td>0</td>\n",
              "      <td>Yes</td>\n",
              "      <td>Paleo</td>\n",
              "      <td>1.53</td>\n",
              "      <td>157/74</td>\n",
              "      <td>HDL: 79, LDL: 91</td>\n",
              "      <td>Severe Fatigue, Numbness, Confusion, Dizziness...</td>\n",
              "      <td>No Stroke</td>\n",
              "    </tr>\n",
              "    <tr>\n",
              "      <th>14999</th>\n",
              "      <td>11066</td>\n",
              "      <td>Gokul Trivedi</td>\n",
              "      <td>64</td>\n",
              "      <td>Female</td>\n",
              "      <td>0</td>\n",
              "      <td>0</td>\n",
              "      <td>Single</td>\n",
              "      <td>Never Worked</td>\n",
              "      <td>Urban</td>\n",
              "      <td>186.88</td>\n",
              "      <td>...</td>\n",
              "      <td>Rarely</td>\n",
              "      <td>Moderate</td>\n",
              "      <td>0</td>\n",
              "      <td>No</td>\n",
              "      <td>Vegan</td>\n",
              "      <td>4.57</td>\n",
              "      <td>133/81</td>\n",
              "      <td>HDL: 78, LDL: 179</td>\n",
              "      <td>Headache</td>\n",
              "      <td>Stroke</td>\n",
              "    </tr>\n",
              "  </tbody>\n",
              "</table>\n",
              "<p>5 rows × 22 columns</p>\n",
              "</div>\n",
              "    <div class=\"colab-df-buttons\">\n",
              "\n",
              "  <div class=\"colab-df-container\">\n",
              "    <button class=\"colab-df-convert\" onclick=\"convertToInteractive('df-c04ec42b-cb24-4005-9f91-a1424598f19f')\"\n",
              "            title=\"Convert this dataframe to an interactive table.\"\n",
              "            style=\"display:none;\">\n",
              "\n",
              "  <svg xmlns=\"http://www.w3.org/2000/svg\" height=\"24px\" viewBox=\"0 -960 960 960\">\n",
              "    <path d=\"M120-120v-720h720v720H120Zm60-500h600v-160H180v160Zm220 220h160v-160H400v160Zm0 220h160v-160H400v160ZM180-400h160v-160H180v160Zm440 0h160v-160H620v160ZM180-180h160v-160H180v160Zm440 0h160v-160H620v160Z\"/>\n",
              "  </svg>\n",
              "    </button>\n",
              "\n",
              "  <style>\n",
              "    .colab-df-container {\n",
              "      display:flex;\n",
              "      gap: 12px;\n",
              "    }\n",
              "\n",
              "    .colab-df-convert {\n",
              "      background-color: #E8F0FE;\n",
              "      border: none;\n",
              "      border-radius: 50%;\n",
              "      cursor: pointer;\n",
              "      display: none;\n",
              "      fill: #1967D2;\n",
              "      height: 32px;\n",
              "      padding: 0 0 0 0;\n",
              "      width: 32px;\n",
              "    }\n",
              "\n",
              "    .colab-df-convert:hover {\n",
              "      background-color: #E2EBFA;\n",
              "      box-shadow: 0px 1px 2px rgba(60, 64, 67, 0.3), 0px 1px 3px 1px rgba(60, 64, 67, 0.15);\n",
              "      fill: #174EA6;\n",
              "    }\n",
              "\n",
              "    .colab-df-buttons div {\n",
              "      margin-bottom: 4px;\n",
              "    }\n",
              "\n",
              "    [theme=dark] .colab-df-convert {\n",
              "      background-color: #3B4455;\n",
              "      fill: #D2E3FC;\n",
              "    }\n",
              "\n",
              "    [theme=dark] .colab-df-convert:hover {\n",
              "      background-color: #434B5C;\n",
              "      box-shadow: 0px 1px 3px 1px rgba(0, 0, 0, 0.15);\n",
              "      filter: drop-shadow(0px 1px 2px rgba(0, 0, 0, 0.3));\n",
              "      fill: #FFFFFF;\n",
              "    }\n",
              "  </style>\n",
              "\n",
              "    <script>\n",
              "      const buttonEl =\n",
              "        document.querySelector('#df-c04ec42b-cb24-4005-9f91-a1424598f19f button.colab-df-convert');\n",
              "      buttonEl.style.display =\n",
              "        google.colab.kernel.accessAllowed ? 'block' : 'none';\n",
              "\n",
              "      async function convertToInteractive(key) {\n",
              "        const element = document.querySelector('#df-c04ec42b-cb24-4005-9f91-a1424598f19f');\n",
              "        const dataTable =\n",
              "          await google.colab.kernel.invokeFunction('convertToInteractive',\n",
              "                                                    [key], {});\n",
              "        if (!dataTable) return;\n",
              "\n",
              "        const docLinkHtml = 'Like what you see? Visit the ' +\n",
              "          '<a target=\"_blank\" href=https://colab.research.google.com/notebooks/data_table.ipynb>data table notebook</a>'\n",
              "          + ' to learn more about interactive tables.';\n",
              "        element.innerHTML = '';\n",
              "        dataTable['output_type'] = 'display_data';\n",
              "        await google.colab.output.renderOutput(dataTable, element);\n",
              "        const docLink = document.createElement('div');\n",
              "        docLink.innerHTML = docLinkHtml;\n",
              "        element.appendChild(docLink);\n",
              "      }\n",
              "    </script>\n",
              "  </div>\n",
              "\n",
              "\n",
              "<div id=\"df-3f1e3d98-335c-4cb2-bdb2-99e323b948e4\">\n",
              "  <button class=\"colab-df-quickchart\" onclick=\"quickchart('df-3f1e3d98-335c-4cb2-bdb2-99e323b948e4')\"\n",
              "            title=\"Suggest charts\"\n",
              "            style=\"display:none;\">\n",
              "\n",
              "<svg xmlns=\"http://www.w3.org/2000/svg\" height=\"24px\"viewBox=\"0 0 24 24\"\n",
              "     width=\"24px\">\n",
              "    <g>\n",
              "        <path d=\"M19 3H5c-1.1 0-2 .9-2 2v14c0 1.1.9 2 2 2h14c1.1 0 2-.9 2-2V5c0-1.1-.9-2-2-2zM9 17H7v-7h2v7zm4 0h-2V7h2v10zm4 0h-2v-4h2v4z\"/>\n",
              "    </g>\n",
              "</svg>\n",
              "  </button>\n",
              "\n",
              "<style>\n",
              "  .colab-df-quickchart {\n",
              "      --bg-color: #E8F0FE;\n",
              "      --fill-color: #1967D2;\n",
              "      --hover-bg-color: #E2EBFA;\n",
              "      --hover-fill-color: #174EA6;\n",
              "      --disabled-fill-color: #AAA;\n",
              "      --disabled-bg-color: #DDD;\n",
              "  }\n",
              "\n",
              "  [theme=dark] .colab-df-quickchart {\n",
              "      --bg-color: #3B4455;\n",
              "      --fill-color: #D2E3FC;\n",
              "      --hover-bg-color: #434B5C;\n",
              "      --hover-fill-color: #FFFFFF;\n",
              "      --disabled-bg-color: #3B4455;\n",
              "      --disabled-fill-color: #666;\n",
              "  }\n",
              "\n",
              "  .colab-df-quickchart {\n",
              "    background-color: var(--bg-color);\n",
              "    border: none;\n",
              "    border-radius: 50%;\n",
              "    cursor: pointer;\n",
              "    display: none;\n",
              "    fill: var(--fill-color);\n",
              "    height: 32px;\n",
              "    padding: 0;\n",
              "    width: 32px;\n",
              "  }\n",
              "\n",
              "  .colab-df-quickchart:hover {\n",
              "    background-color: var(--hover-bg-color);\n",
              "    box-shadow: 0 1px 2px rgba(60, 64, 67, 0.3), 0 1px 3px 1px rgba(60, 64, 67, 0.15);\n",
              "    fill: var(--button-hover-fill-color);\n",
              "  }\n",
              "\n",
              "  .colab-df-quickchart-complete:disabled,\n",
              "  .colab-df-quickchart-complete:disabled:hover {\n",
              "    background-color: var(--disabled-bg-color);\n",
              "    fill: var(--disabled-fill-color);\n",
              "    box-shadow: none;\n",
              "  }\n",
              "\n",
              "  .colab-df-spinner {\n",
              "    border: 2px solid var(--fill-color);\n",
              "    border-color: transparent;\n",
              "    border-bottom-color: var(--fill-color);\n",
              "    animation:\n",
              "      spin 1s steps(1) infinite;\n",
              "  }\n",
              "\n",
              "  @keyframes spin {\n",
              "    0% {\n",
              "      border-color: transparent;\n",
              "      border-bottom-color: var(--fill-color);\n",
              "      border-left-color: var(--fill-color);\n",
              "    }\n",
              "    20% {\n",
              "      border-color: transparent;\n",
              "      border-left-color: var(--fill-color);\n",
              "      border-top-color: var(--fill-color);\n",
              "    }\n",
              "    30% {\n",
              "      border-color: transparent;\n",
              "      border-left-color: var(--fill-color);\n",
              "      border-top-color: var(--fill-color);\n",
              "      border-right-color: var(--fill-color);\n",
              "    }\n",
              "    40% {\n",
              "      border-color: transparent;\n",
              "      border-right-color: var(--fill-color);\n",
              "      border-top-color: var(--fill-color);\n",
              "    }\n",
              "    60% {\n",
              "      border-color: transparent;\n",
              "      border-right-color: var(--fill-color);\n",
              "    }\n",
              "    80% {\n",
              "      border-color: transparent;\n",
              "      border-right-color: var(--fill-color);\n",
              "      border-bottom-color: var(--fill-color);\n",
              "    }\n",
              "    90% {\n",
              "      border-color: transparent;\n",
              "      border-bottom-color: var(--fill-color);\n",
              "    }\n",
              "  }\n",
              "</style>\n",
              "\n",
              "  <script>\n",
              "    async function quickchart(key) {\n",
              "      const quickchartButtonEl =\n",
              "        document.querySelector('#' + key + ' button');\n",
              "      quickchartButtonEl.disabled = true;  // To prevent multiple clicks.\n",
              "      quickchartButtonEl.classList.add('colab-df-spinner');\n",
              "      try {\n",
              "        const charts = await google.colab.kernel.invokeFunction(\n",
              "            'suggestCharts', [key], {});\n",
              "      } catch (error) {\n",
              "        console.error('Error during call to suggestCharts:', error);\n",
              "      }\n",
              "      quickchartButtonEl.classList.remove('colab-df-spinner');\n",
              "      quickchartButtonEl.classList.add('colab-df-quickchart-complete');\n",
              "    }\n",
              "    (() => {\n",
              "      let quickchartButtonEl =\n",
              "        document.querySelector('#df-3f1e3d98-335c-4cb2-bdb2-99e323b948e4 button');\n",
              "      quickchartButtonEl.style.display =\n",
              "        google.colab.kernel.accessAllowed ? 'block' : 'none';\n",
              "    })();\n",
              "  </script>\n",
              "</div>\n",
              "    </div>\n",
              "  </div>\n"
            ]
          },
          "metadata": {},
          "execution_count": 484
        }
      ]
    },
    {
      "cell_type": "code",
      "source": [
        "#Visualizar as 10 últimas linhas\n",
        "ds.tail(10)"
      ],
      "metadata": {
        "id": "O6yc7XEn9lgt",
        "colab": {
          "base_uri": "https://localhost:8080/"
        },
        "outputId": "386d2df9-6a20-474b-d050-b18d449707a5"
      },
      "execution_count": null,
      "outputs": [
        {
          "output_type": "execute_result",
          "data": {
            "text/plain": [
              "       Patient ID       Patient Name  Age  Gender  Hypertension  \\\n",
              "14990        4140       Nitya Mangal   47  Female             0   \n",
              "14991       90658        Samaira Raj   26    Male             0   \n",
              "14992       65220       Bhamini Tara   81  Female             1   \n",
              "14993       12868  Uthkarsh Dhaliwal   90  Female             1   \n",
              "14994       36750         Anvi Setty   79  Female             0   \n",
              "14995       13981          Keya Iyer   88  Female             1   \n",
              "14996       87707       Anahita Virk   47  Female             0   \n",
              "14997       33174         Ivana Kaur   35    Male             0   \n",
              "14998       22343        Anvi Mannan   73    Male             0   \n",
              "14999       11066      Gokul Trivedi   64  Female             0   \n",
              "\n",
              "       Heart Disease Marital Status       Work Type Residence Type  \\\n",
              "14990              1         Single    Never Worked          Rural   \n",
              "14991              1        Married   Self-employed          Rural   \n",
              "14992              1       Divorced         Private          Rural   \n",
              "14993              0       Divorced         Private          Urban   \n",
              "14994              1       Divorced         Private          Rural   \n",
              "14995              1       Divorced   Self-employed          Urban   \n",
              "14996              0        Married         Private          Urban   \n",
              "14997              0        Married  Government Job          Rural   \n",
              "14998              0         Single   Self-employed          Urban   \n",
              "14999              0         Single    Never Worked          Urban   \n",
              "\n",
              "       Average Glucose Level  ...    Alcohol Intake Physical Activity  \\\n",
              "14990                 117.64  ...    Social Drinker          Moderate   \n",
              "14991                 145.05  ...    Social Drinker               Low   \n",
              "14992                  60.21  ...            Rarely          Moderate   \n",
              "14993                 199.79  ...            Rarely               Low   \n",
              "14994                  82.69  ...  Frequent Drinker               Low   \n",
              "14995                 160.22  ...    Social Drinker              High   \n",
              "14996                 107.58  ...             Never               Low   \n",
              "14997                 134.90  ...            Rarely              High   \n",
              "14998                 169.42  ...             Never              High   \n",
              "14999                 186.88  ...            Rarely          Moderate   \n",
              "\n",
              "      Stroke History Family History of Stroke  Dietary Habits Stress Levels  \\\n",
              "14990              1                      Yes           Vegan          3.67   \n",
              "14991              1                       No     Pescatarian          0.71   \n",
              "14992              1                       No  Non-Vegetarian          5.49   \n",
              "14993              1                      Yes            Keto          2.11   \n",
              "14994              1                      Yes      Vegetarian          8.69   \n",
              "14995              0                       No           Paleo          1.12   \n",
              "14996              1                       No     Gluten-Free          1.47   \n",
              "14997              1                       No           Paleo          0.51   \n",
              "14998              0                      Yes           Paleo          1.53   \n",
              "14999              0                       No           Vegan          4.57   \n",
              "\n",
              "      Blood Pressure Levels  Cholesterol Levels  \\\n",
              "14990                156/70    HDL: 43, LDL: 94   \n",
              "14991               180/110    HDL: 33, LDL: 99   \n",
              "14992                160/73   HDL: 50, LDL: 174   \n",
              "14993                108/61   HDL: 80, LDL: 162   \n",
              "14994                100/99    HDL: 60, LDL: 65   \n",
              "14995                171/92   HDL: 44, LDL: 153   \n",
              "14996                155/71   HDL: 35, LDL: 183   \n",
              "14997               121/110   HDL: 57, LDL: 159   \n",
              "14998                157/74    HDL: 79, LDL: 91   \n",
              "14999                133/81   HDL: 78, LDL: 179   \n",
              "\n",
              "                                                Symptoms  Diagnosis  \n",
              "14990                                                NaN     Stroke  \n",
              "14991                               Confusion, Confusion  No Stroke  \n",
              "14992                                    Loss of Balance     Stroke  \n",
              "14993                                                NaN     Stroke  \n",
              "14994                                 Headache, Weakness  No Stroke  \n",
              "14995                                                NaN  No Stroke  \n",
              "14996                                Difficulty Speaking  No Stroke  \n",
              "14997      Difficulty Speaking, Severe Fatigue, Headache     Stroke  \n",
              "14998  Severe Fatigue, Numbness, Confusion, Dizziness...  No Stroke  \n",
              "14999                                           Headache     Stroke  \n",
              "\n",
              "[10 rows x 22 columns]"
            ],
            "text/html": [
              "\n",
              "  <div id=\"df-e7bcfb40-5922-4544-a80e-c0f75098d1fd\" class=\"colab-df-container\">\n",
              "    <div>\n",
              "<style scoped>\n",
              "    .dataframe tbody tr th:only-of-type {\n",
              "        vertical-align: middle;\n",
              "    }\n",
              "\n",
              "    .dataframe tbody tr th {\n",
              "        vertical-align: top;\n",
              "    }\n",
              "\n",
              "    .dataframe thead th {\n",
              "        text-align: right;\n",
              "    }\n",
              "</style>\n",
              "<table border=\"1\" class=\"dataframe\">\n",
              "  <thead>\n",
              "    <tr style=\"text-align: right;\">\n",
              "      <th></th>\n",
              "      <th>Patient ID</th>\n",
              "      <th>Patient Name</th>\n",
              "      <th>Age</th>\n",
              "      <th>Gender</th>\n",
              "      <th>Hypertension</th>\n",
              "      <th>Heart Disease</th>\n",
              "      <th>Marital Status</th>\n",
              "      <th>Work Type</th>\n",
              "      <th>Residence Type</th>\n",
              "      <th>Average Glucose Level</th>\n",
              "      <th>...</th>\n",
              "      <th>Alcohol Intake</th>\n",
              "      <th>Physical Activity</th>\n",
              "      <th>Stroke History</th>\n",
              "      <th>Family History of Stroke</th>\n",
              "      <th>Dietary Habits</th>\n",
              "      <th>Stress Levels</th>\n",
              "      <th>Blood Pressure Levels</th>\n",
              "      <th>Cholesterol Levels</th>\n",
              "      <th>Symptoms</th>\n",
              "      <th>Diagnosis</th>\n",
              "    </tr>\n",
              "  </thead>\n",
              "  <tbody>\n",
              "    <tr>\n",
              "      <th>14990</th>\n",
              "      <td>4140</td>\n",
              "      <td>Nitya Mangal</td>\n",
              "      <td>47</td>\n",
              "      <td>Female</td>\n",
              "      <td>0</td>\n",
              "      <td>1</td>\n",
              "      <td>Single</td>\n",
              "      <td>Never Worked</td>\n",
              "      <td>Rural</td>\n",
              "      <td>117.64</td>\n",
              "      <td>...</td>\n",
              "      <td>Social Drinker</td>\n",
              "      <td>Moderate</td>\n",
              "      <td>1</td>\n",
              "      <td>Yes</td>\n",
              "      <td>Vegan</td>\n",
              "      <td>3.67</td>\n",
              "      <td>156/70</td>\n",
              "      <td>HDL: 43, LDL: 94</td>\n",
              "      <td>NaN</td>\n",
              "      <td>Stroke</td>\n",
              "    </tr>\n",
              "    <tr>\n",
              "      <th>14991</th>\n",
              "      <td>90658</td>\n",
              "      <td>Samaira Raj</td>\n",
              "      <td>26</td>\n",
              "      <td>Male</td>\n",
              "      <td>0</td>\n",
              "      <td>1</td>\n",
              "      <td>Married</td>\n",
              "      <td>Self-employed</td>\n",
              "      <td>Rural</td>\n",
              "      <td>145.05</td>\n",
              "      <td>...</td>\n",
              "      <td>Social Drinker</td>\n",
              "      <td>Low</td>\n",
              "      <td>1</td>\n",
              "      <td>No</td>\n",
              "      <td>Pescatarian</td>\n",
              "      <td>0.71</td>\n",
              "      <td>180/110</td>\n",
              "      <td>HDL: 33, LDL: 99</td>\n",
              "      <td>Confusion, Confusion</td>\n",
              "      <td>No Stroke</td>\n",
              "    </tr>\n",
              "    <tr>\n",
              "      <th>14992</th>\n",
              "      <td>65220</td>\n",
              "      <td>Bhamini Tara</td>\n",
              "      <td>81</td>\n",
              "      <td>Female</td>\n",
              "      <td>1</td>\n",
              "      <td>1</td>\n",
              "      <td>Divorced</td>\n",
              "      <td>Private</td>\n",
              "      <td>Rural</td>\n",
              "      <td>60.21</td>\n",
              "      <td>...</td>\n",
              "      <td>Rarely</td>\n",
              "      <td>Moderate</td>\n",
              "      <td>1</td>\n",
              "      <td>No</td>\n",
              "      <td>Non-Vegetarian</td>\n",
              "      <td>5.49</td>\n",
              "      <td>160/73</td>\n",
              "      <td>HDL: 50, LDL: 174</td>\n",
              "      <td>Loss of Balance</td>\n",
              "      <td>Stroke</td>\n",
              "    </tr>\n",
              "    <tr>\n",
              "      <th>14993</th>\n",
              "      <td>12868</td>\n",
              "      <td>Uthkarsh Dhaliwal</td>\n",
              "      <td>90</td>\n",
              "      <td>Female</td>\n",
              "      <td>1</td>\n",
              "      <td>0</td>\n",
              "      <td>Divorced</td>\n",
              "      <td>Private</td>\n",
              "      <td>Urban</td>\n",
              "      <td>199.79</td>\n",
              "      <td>...</td>\n",
              "      <td>Rarely</td>\n",
              "      <td>Low</td>\n",
              "      <td>1</td>\n",
              "      <td>Yes</td>\n",
              "      <td>Keto</td>\n",
              "      <td>2.11</td>\n",
              "      <td>108/61</td>\n",
              "      <td>HDL: 80, LDL: 162</td>\n",
              "      <td>NaN</td>\n",
              "      <td>Stroke</td>\n",
              "    </tr>\n",
              "    <tr>\n",
              "      <th>14994</th>\n",
              "      <td>36750</td>\n",
              "      <td>Anvi Setty</td>\n",
              "      <td>79</td>\n",
              "      <td>Female</td>\n",
              "      <td>0</td>\n",
              "      <td>1</td>\n",
              "      <td>Divorced</td>\n",
              "      <td>Private</td>\n",
              "      <td>Rural</td>\n",
              "      <td>82.69</td>\n",
              "      <td>...</td>\n",
              "      <td>Frequent Drinker</td>\n",
              "      <td>Low</td>\n",
              "      <td>1</td>\n",
              "      <td>Yes</td>\n",
              "      <td>Vegetarian</td>\n",
              "      <td>8.69</td>\n",
              "      <td>100/99</td>\n",
              "      <td>HDL: 60, LDL: 65</td>\n",
              "      <td>Headache, Weakness</td>\n",
              "      <td>No Stroke</td>\n",
              "    </tr>\n",
              "    <tr>\n",
              "      <th>14995</th>\n",
              "      <td>13981</td>\n",
              "      <td>Keya Iyer</td>\n",
              "      <td>88</td>\n",
              "      <td>Female</td>\n",
              "      <td>1</td>\n",
              "      <td>1</td>\n",
              "      <td>Divorced</td>\n",
              "      <td>Self-employed</td>\n",
              "      <td>Urban</td>\n",
              "      <td>160.22</td>\n",
              "      <td>...</td>\n",
              "      <td>Social Drinker</td>\n",
              "      <td>High</td>\n",
              "      <td>0</td>\n",
              "      <td>No</td>\n",
              "      <td>Paleo</td>\n",
              "      <td>1.12</td>\n",
              "      <td>171/92</td>\n",
              "      <td>HDL: 44, LDL: 153</td>\n",
              "      <td>NaN</td>\n",
              "      <td>No Stroke</td>\n",
              "    </tr>\n",
              "    <tr>\n",
              "      <th>14996</th>\n",
              "      <td>87707</td>\n",
              "      <td>Anahita Virk</td>\n",
              "      <td>47</td>\n",
              "      <td>Female</td>\n",
              "      <td>0</td>\n",
              "      <td>0</td>\n",
              "      <td>Married</td>\n",
              "      <td>Private</td>\n",
              "      <td>Urban</td>\n",
              "      <td>107.58</td>\n",
              "      <td>...</td>\n",
              "      <td>Never</td>\n",
              "      <td>Low</td>\n",
              "      <td>1</td>\n",
              "      <td>No</td>\n",
              "      <td>Gluten-Free</td>\n",
              "      <td>1.47</td>\n",
              "      <td>155/71</td>\n",
              "      <td>HDL: 35, LDL: 183</td>\n",
              "      <td>Difficulty Speaking</td>\n",
              "      <td>No Stroke</td>\n",
              "    </tr>\n",
              "    <tr>\n",
              "      <th>14997</th>\n",
              "      <td>33174</td>\n",
              "      <td>Ivana Kaur</td>\n",
              "      <td>35</td>\n",
              "      <td>Male</td>\n",
              "      <td>0</td>\n",
              "      <td>0</td>\n",
              "      <td>Married</td>\n",
              "      <td>Government Job</td>\n",
              "      <td>Rural</td>\n",
              "      <td>134.90</td>\n",
              "      <td>...</td>\n",
              "      <td>Rarely</td>\n",
              "      <td>High</td>\n",
              "      <td>1</td>\n",
              "      <td>No</td>\n",
              "      <td>Paleo</td>\n",
              "      <td>0.51</td>\n",
              "      <td>121/110</td>\n",
              "      <td>HDL: 57, LDL: 159</td>\n",
              "      <td>Difficulty Speaking, Severe Fatigue, Headache</td>\n",
              "      <td>Stroke</td>\n",
              "    </tr>\n",
              "    <tr>\n",
              "      <th>14998</th>\n",
              "      <td>22343</td>\n",
              "      <td>Anvi Mannan</td>\n",
              "      <td>73</td>\n",
              "      <td>Male</td>\n",
              "      <td>0</td>\n",
              "      <td>0</td>\n",
              "      <td>Single</td>\n",
              "      <td>Self-employed</td>\n",
              "      <td>Urban</td>\n",
              "      <td>169.42</td>\n",
              "      <td>...</td>\n",
              "      <td>Never</td>\n",
              "      <td>High</td>\n",
              "      <td>0</td>\n",
              "      <td>Yes</td>\n",
              "      <td>Paleo</td>\n",
              "      <td>1.53</td>\n",
              "      <td>157/74</td>\n",
              "      <td>HDL: 79, LDL: 91</td>\n",
              "      <td>Severe Fatigue, Numbness, Confusion, Dizziness...</td>\n",
              "      <td>No Stroke</td>\n",
              "    </tr>\n",
              "    <tr>\n",
              "      <th>14999</th>\n",
              "      <td>11066</td>\n",
              "      <td>Gokul Trivedi</td>\n",
              "      <td>64</td>\n",
              "      <td>Female</td>\n",
              "      <td>0</td>\n",
              "      <td>0</td>\n",
              "      <td>Single</td>\n",
              "      <td>Never Worked</td>\n",
              "      <td>Urban</td>\n",
              "      <td>186.88</td>\n",
              "      <td>...</td>\n",
              "      <td>Rarely</td>\n",
              "      <td>Moderate</td>\n",
              "      <td>0</td>\n",
              "      <td>No</td>\n",
              "      <td>Vegan</td>\n",
              "      <td>4.57</td>\n",
              "      <td>133/81</td>\n",
              "      <td>HDL: 78, LDL: 179</td>\n",
              "      <td>Headache</td>\n",
              "      <td>Stroke</td>\n",
              "    </tr>\n",
              "  </tbody>\n",
              "</table>\n",
              "<p>10 rows × 22 columns</p>\n",
              "</div>\n",
              "    <div class=\"colab-df-buttons\">\n",
              "\n",
              "  <div class=\"colab-df-container\">\n",
              "    <button class=\"colab-df-convert\" onclick=\"convertToInteractive('df-e7bcfb40-5922-4544-a80e-c0f75098d1fd')\"\n",
              "            title=\"Convert this dataframe to an interactive table.\"\n",
              "            style=\"display:none;\">\n",
              "\n",
              "  <svg xmlns=\"http://www.w3.org/2000/svg\" height=\"24px\" viewBox=\"0 -960 960 960\">\n",
              "    <path d=\"M120-120v-720h720v720H120Zm60-500h600v-160H180v160Zm220 220h160v-160H400v160Zm0 220h160v-160H400v160ZM180-400h160v-160H180v160Zm440 0h160v-160H620v160ZM180-180h160v-160H180v160Zm440 0h160v-160H620v160Z\"/>\n",
              "  </svg>\n",
              "    </button>\n",
              "\n",
              "  <style>\n",
              "    .colab-df-container {\n",
              "      display:flex;\n",
              "      gap: 12px;\n",
              "    }\n",
              "\n",
              "    .colab-df-convert {\n",
              "      background-color: #E8F0FE;\n",
              "      border: none;\n",
              "      border-radius: 50%;\n",
              "      cursor: pointer;\n",
              "      display: none;\n",
              "      fill: #1967D2;\n",
              "      height: 32px;\n",
              "      padding: 0 0 0 0;\n",
              "      width: 32px;\n",
              "    }\n",
              "\n",
              "    .colab-df-convert:hover {\n",
              "      background-color: #E2EBFA;\n",
              "      box-shadow: 0px 1px 2px rgba(60, 64, 67, 0.3), 0px 1px 3px 1px rgba(60, 64, 67, 0.15);\n",
              "      fill: #174EA6;\n",
              "    }\n",
              "\n",
              "    .colab-df-buttons div {\n",
              "      margin-bottom: 4px;\n",
              "    }\n",
              "\n",
              "    [theme=dark] .colab-df-convert {\n",
              "      background-color: #3B4455;\n",
              "      fill: #D2E3FC;\n",
              "    }\n",
              "\n",
              "    [theme=dark] .colab-df-convert:hover {\n",
              "      background-color: #434B5C;\n",
              "      box-shadow: 0px 1px 3px 1px rgba(0, 0, 0, 0.15);\n",
              "      filter: drop-shadow(0px 1px 2px rgba(0, 0, 0, 0.3));\n",
              "      fill: #FFFFFF;\n",
              "    }\n",
              "  </style>\n",
              "\n",
              "    <script>\n",
              "      const buttonEl =\n",
              "        document.querySelector('#df-e7bcfb40-5922-4544-a80e-c0f75098d1fd button.colab-df-convert');\n",
              "      buttonEl.style.display =\n",
              "        google.colab.kernel.accessAllowed ? 'block' : 'none';\n",
              "\n",
              "      async function convertToInteractive(key) {\n",
              "        const element = document.querySelector('#df-e7bcfb40-5922-4544-a80e-c0f75098d1fd');\n",
              "        const dataTable =\n",
              "          await google.colab.kernel.invokeFunction('convertToInteractive',\n",
              "                                                    [key], {});\n",
              "        if (!dataTable) return;\n",
              "\n",
              "        const docLinkHtml = 'Like what you see? Visit the ' +\n",
              "          '<a target=\"_blank\" href=https://colab.research.google.com/notebooks/data_table.ipynb>data table notebook</a>'\n",
              "          + ' to learn more about interactive tables.';\n",
              "        element.innerHTML = '';\n",
              "        dataTable['output_type'] = 'display_data';\n",
              "        await google.colab.output.renderOutput(dataTable, element);\n",
              "        const docLink = document.createElement('div');\n",
              "        docLink.innerHTML = docLinkHtml;\n",
              "        element.appendChild(docLink);\n",
              "      }\n",
              "    </script>\n",
              "  </div>\n",
              "\n",
              "\n",
              "<div id=\"df-e8b998ab-3080-4e4e-96c7-cc78f4fb52de\">\n",
              "  <button class=\"colab-df-quickchart\" onclick=\"quickchart('df-e8b998ab-3080-4e4e-96c7-cc78f4fb52de')\"\n",
              "            title=\"Suggest charts\"\n",
              "            style=\"display:none;\">\n",
              "\n",
              "<svg xmlns=\"http://www.w3.org/2000/svg\" height=\"24px\"viewBox=\"0 0 24 24\"\n",
              "     width=\"24px\">\n",
              "    <g>\n",
              "        <path d=\"M19 3H5c-1.1 0-2 .9-2 2v14c0 1.1.9 2 2 2h14c1.1 0 2-.9 2-2V5c0-1.1-.9-2-2-2zM9 17H7v-7h2v7zm4 0h-2V7h2v10zm4 0h-2v-4h2v4z\"/>\n",
              "    </g>\n",
              "</svg>\n",
              "  </button>\n",
              "\n",
              "<style>\n",
              "  .colab-df-quickchart {\n",
              "      --bg-color: #E8F0FE;\n",
              "      --fill-color: #1967D2;\n",
              "      --hover-bg-color: #E2EBFA;\n",
              "      --hover-fill-color: #174EA6;\n",
              "      --disabled-fill-color: #AAA;\n",
              "      --disabled-bg-color: #DDD;\n",
              "  }\n",
              "\n",
              "  [theme=dark] .colab-df-quickchart {\n",
              "      --bg-color: #3B4455;\n",
              "      --fill-color: #D2E3FC;\n",
              "      --hover-bg-color: #434B5C;\n",
              "      --hover-fill-color: #FFFFFF;\n",
              "      --disabled-bg-color: #3B4455;\n",
              "      --disabled-fill-color: #666;\n",
              "  }\n",
              "\n",
              "  .colab-df-quickchart {\n",
              "    background-color: var(--bg-color);\n",
              "    border: none;\n",
              "    border-radius: 50%;\n",
              "    cursor: pointer;\n",
              "    display: none;\n",
              "    fill: var(--fill-color);\n",
              "    height: 32px;\n",
              "    padding: 0;\n",
              "    width: 32px;\n",
              "  }\n",
              "\n",
              "  .colab-df-quickchart:hover {\n",
              "    background-color: var(--hover-bg-color);\n",
              "    box-shadow: 0 1px 2px rgba(60, 64, 67, 0.3), 0 1px 3px 1px rgba(60, 64, 67, 0.15);\n",
              "    fill: var(--button-hover-fill-color);\n",
              "  }\n",
              "\n",
              "  .colab-df-quickchart-complete:disabled,\n",
              "  .colab-df-quickchart-complete:disabled:hover {\n",
              "    background-color: var(--disabled-bg-color);\n",
              "    fill: var(--disabled-fill-color);\n",
              "    box-shadow: none;\n",
              "  }\n",
              "\n",
              "  .colab-df-spinner {\n",
              "    border: 2px solid var(--fill-color);\n",
              "    border-color: transparent;\n",
              "    border-bottom-color: var(--fill-color);\n",
              "    animation:\n",
              "      spin 1s steps(1) infinite;\n",
              "  }\n",
              "\n",
              "  @keyframes spin {\n",
              "    0% {\n",
              "      border-color: transparent;\n",
              "      border-bottom-color: var(--fill-color);\n",
              "      border-left-color: var(--fill-color);\n",
              "    }\n",
              "    20% {\n",
              "      border-color: transparent;\n",
              "      border-left-color: var(--fill-color);\n",
              "      border-top-color: var(--fill-color);\n",
              "    }\n",
              "    30% {\n",
              "      border-color: transparent;\n",
              "      border-left-color: var(--fill-color);\n",
              "      border-top-color: var(--fill-color);\n",
              "      border-right-color: var(--fill-color);\n",
              "    }\n",
              "    40% {\n",
              "      border-color: transparent;\n",
              "      border-right-color: var(--fill-color);\n",
              "      border-top-color: var(--fill-color);\n",
              "    }\n",
              "    60% {\n",
              "      border-color: transparent;\n",
              "      border-right-color: var(--fill-color);\n",
              "    }\n",
              "    80% {\n",
              "      border-color: transparent;\n",
              "      border-right-color: var(--fill-color);\n",
              "      border-bottom-color: var(--fill-color);\n",
              "    }\n",
              "    90% {\n",
              "      border-color: transparent;\n",
              "      border-bottom-color: var(--fill-color);\n",
              "    }\n",
              "  }\n",
              "</style>\n",
              "\n",
              "  <script>\n",
              "    async function quickchart(key) {\n",
              "      const quickchartButtonEl =\n",
              "        document.querySelector('#' + key + ' button');\n",
              "      quickchartButtonEl.disabled = true;  // To prevent multiple clicks.\n",
              "      quickchartButtonEl.classList.add('colab-df-spinner');\n",
              "      try {\n",
              "        const charts = await google.colab.kernel.invokeFunction(\n",
              "            'suggestCharts', [key], {});\n",
              "      } catch (error) {\n",
              "        console.error('Error during call to suggestCharts:', error);\n",
              "      }\n",
              "      quickchartButtonEl.classList.remove('colab-df-spinner');\n",
              "      quickchartButtonEl.classList.add('colab-df-quickchart-complete');\n",
              "    }\n",
              "    (() => {\n",
              "      let quickchartButtonEl =\n",
              "        document.querySelector('#df-e8b998ab-3080-4e4e-96c7-cc78f4fb52de button');\n",
              "      quickchartButtonEl.style.display =\n",
              "        google.colab.kernel.accessAllowed ? 'block' : 'none';\n",
              "    })();\n",
              "  </script>\n",
              "</div>\n",
              "    </div>\n",
              "  </div>\n"
            ]
          },
          "metadata": {},
          "execution_count": 485
        }
      ]
    },
    {
      "cell_type": "code",
      "source": [
        "#Visualizar a quantidade de linhas e colunas do conjunto de dados - Shape retorna a dimensão do DataFrame (linhas, colunas)\n",
        "ds.shape"
      ],
      "metadata": {
        "id": "kw61vzi3R9ug",
        "colab": {
          "base_uri": "https://localhost:8080/"
        },
        "outputId": "dd9aa1e6-9f76-4437-d168-c1d44007f968"
      },
      "execution_count": null,
      "outputs": [
        {
          "output_type": "execute_result",
          "data": {
            "text/plain": [
              "(15000, 22)"
            ]
          },
          "metadata": {},
          "execution_count": 486
        }
      ]
    },
    {
      "cell_type": "markdown",
      "source": [
        "# **Transformando dados categóricos em dados numéricos**"
      ],
      "metadata": {
        "id": "Ffj5MtYYSDl5"
      }
    },
    {
      "cell_type": "markdown",
      "source": [
        "A maioria dos algoritmos de Machine Learning trabalham melhor com dados numéricos."
      ],
      "metadata": {
        "id": "zKUV1pDHMTNX"
      }
    },
    {
      "cell_type": "code",
      "source": [
        "ds2 = pd.DataFrame.copy(ds)"
      ],
      "metadata": {
        "id": "r3jOTxQySDSE"
      },
      "execution_count": null,
      "outputs": []
    },
    {
      "cell_type": "code",
      "source": [
        "#Visualizar os tipos dos dados e a quantidade de dados não nulos\n",
        "ds2.info()"
      ],
      "metadata": {
        "id": "52vNo9sRIvp4",
        "colab": {
          "base_uri": "https://localhost:8080/"
        },
        "outputId": "63af365a-2c4d-4b7f-e529-87ad63e419fc"
      },
      "execution_count": null,
      "outputs": [
        {
          "output_type": "stream",
          "name": "stdout",
          "text": [
            "<class 'pandas.core.frame.DataFrame'>\n",
            "RangeIndex: 15000 entries, 0 to 14999\n",
            "Data columns (total 22 columns):\n",
            " #   Column                    Non-Null Count  Dtype  \n",
            "---  ------                    --------------  -----  \n",
            " 0   Patient ID                15000 non-null  int64  \n",
            " 1   Patient Name              15000 non-null  object \n",
            " 2   Age                       15000 non-null  int64  \n",
            " 3   Gender                    15000 non-null  object \n",
            " 4   Hypertension              15000 non-null  int64  \n",
            " 5   Heart Disease             15000 non-null  int64  \n",
            " 6   Marital Status            15000 non-null  object \n",
            " 7   Work Type                 15000 non-null  object \n",
            " 8   Residence Type            15000 non-null  object \n",
            " 9   Average Glucose Level     15000 non-null  float64\n",
            " 10  Body Mass Index (BMI)     15000 non-null  float64\n",
            " 11  Smoking Status            15000 non-null  object \n",
            " 12  Alcohol Intake            15000 non-null  object \n",
            " 13  Physical Activity         15000 non-null  object \n",
            " 14  Stroke History            15000 non-null  int64  \n",
            " 15  Family History of Stroke  15000 non-null  object \n",
            " 16  Dietary Habits            15000 non-null  object \n",
            " 17  Stress Levels             15000 non-null  float64\n",
            " 18  Blood Pressure Levels     15000 non-null  object \n",
            " 19  Cholesterol Levels        15000 non-null  object \n",
            " 20  Symptoms                  12500 non-null  object \n",
            " 21  Diagnosis                 15000 non-null  object \n",
            "dtypes: float64(3), int64(5), object(14)\n",
            "memory usage: 2.5+ MB\n"
          ]
        }
      ]
    },
    {
      "cell_type": "markdown",
      "source": [
        "**Tipo de atributos:**\n",
        "\n",
        "object: string\n",
        "\n",
        "int64: inteiros\n",
        "\n",
        "float64: reais\n",
        "\n",
        "complex: complexos"
      ],
      "metadata": {
        "id": "AR4J8WLNJkcS"
      }
    },
    {
      "cell_type": "code",
      "source": [
        "#Verificar a contagem de frequência de cada classe do atributo Age.\n",
        "ds2['Age'].value_counts()"
      ],
      "metadata": {
        "id": "WhYMdcV8Kp49",
        "colab": {
          "base_uri": "https://localhost:8080/"
        },
        "outputId": "b7a5db6b-34b8-4eb2-e703-92910ea02e1d"
      },
      "execution_count": null,
      "outputs": [
        {
          "output_type": "execute_result",
          "data": {
            "text/plain": [
              "33    244\n",
              "45    236\n",
              "89    232\n",
              "75    229\n",
              "68    228\n",
              "     ... \n",
              "56    181\n",
              "44    179\n",
              "81    179\n",
              "60    177\n",
              "80    173\n",
              "Name: Age, Length: 73, dtype: int64"
            ]
          },
          "metadata": {},
          "execution_count": 489
        }
      ]
    },
    {
      "cell_type": "code",
      "source": [
        "#Verificar a contagem de frequência de cada classe do atributo\n",
        "ds2['Smoking Status'].value_counts()"
      ],
      "metadata": {
        "id": "NgaPx6xzLODu",
        "colab": {
          "base_uri": "https://localhost:8080/"
        },
        "outputId": "4db94f3a-9fc3-4ca8-fefd-0fe4d72fe50b"
      },
      "execution_count": null,
      "outputs": [
        {
          "output_type": "execute_result",
          "data": {
            "text/plain": [
              "Currently Smokes    5011\n",
              "Non-smoker          5009\n",
              "Formerly Smoked     4980\n",
              "Name: Smoking Status, dtype: int64"
            ]
          },
          "metadata": {},
          "execution_count": 490
        }
      ]
    },
    {
      "cell_type": "markdown",
      "source": [
        "Verificando a existência de valor nulos, ou faltantes (NAN):"
      ],
      "metadata": {
        "id": "F_-waZC8WS7L"
      }
    },
    {
      "cell_type": "code",
      "source": [
        "ds2.isnull().sum()\n",
        "#Se existir, verificar a necesidade de exclusão (ds2.dropna()) ou\n",
        "#substiruição por outro valor específico (média, moda, mediana) usando ds2['nomecol'].fillna(valor,inplace=True)\n"
      ],
      "metadata": {
        "id": "8gxrcHfwWZnU",
        "colab": {
          "base_uri": "https://localhost:8080/"
        },
        "outputId": "0c62cbc5-3be7-498c-80fb-77c1bdb5993d"
      },
      "execution_count": null,
      "outputs": [
        {
          "output_type": "execute_result",
          "data": {
            "text/plain": [
              "Patient ID                     0\n",
              "Patient Name                   0\n",
              "Age                            0\n",
              "Gender                         0\n",
              "Hypertension                   0\n",
              "Heart Disease                  0\n",
              "Marital Status                 0\n",
              "Work Type                      0\n",
              "Residence Type                 0\n",
              "Average Glucose Level          0\n",
              "Body Mass Index (BMI)          0\n",
              "Smoking Status                 0\n",
              "Alcohol Intake                 0\n",
              "Physical Activity              0\n",
              "Stroke History                 0\n",
              "Family History of Stroke       0\n",
              "Dietary Habits                 0\n",
              "Stress Levels                  0\n",
              "Blood Pressure Levels          0\n",
              "Cholesterol Levels             0\n",
              "Symptoms                    2500\n",
              "Diagnosis                      0\n",
              "dtype: int64"
            ]
          },
          "metadata": {},
          "execution_count": 491
        }
      ]
    },
    {
      "cell_type": "code",
      "source": [
        "colunas_para_remover = ['Patient Name','Symptoms','Cholesterol Levels','Blood Pressure Levels']\n",
        "ds2 = ds2.drop(columns=colunas_para_remover)\n",
        "ds2.isnull().sum()"
      ],
      "metadata": {
        "colab": {
          "base_uri": "https://localhost:8080/"
        },
        "id": "5jfvx4CHx2-b",
        "outputId": "a201597b-38a1-4692-e9d1-b261a74f41b7"
      },
      "execution_count": null,
      "outputs": [
        {
          "output_type": "execute_result",
          "data": {
            "text/plain": [
              "Patient ID                  0\n",
              "Age                         0\n",
              "Gender                      0\n",
              "Hypertension                0\n",
              "Heart Disease               0\n",
              "Marital Status              0\n",
              "Work Type                   0\n",
              "Residence Type              0\n",
              "Average Glucose Level       0\n",
              "Body Mass Index (BMI)       0\n",
              "Smoking Status              0\n",
              "Alcohol Intake              0\n",
              "Physical Activity           0\n",
              "Stroke History              0\n",
              "Family History of Stroke    0\n",
              "Dietary Habits              0\n",
              "Stress Levels               0\n",
              "Diagnosis                   0\n",
              "dtype: int64"
            ]
          },
          "metadata": {},
          "execution_count": 492
        }
      ]
    },
    {
      "cell_type": "markdown",
      "source": [
        "Realizar a transformação de dados categóricos em numéricos manualmente."
      ],
      "metadata": {
        "id": "VvELMptINGJn"
      }
    },
    {
      "cell_type": "code",
      "source": [
        "#replace - substitui os valores um DataFrame por outros valores de forma dinâmica.\n",
        "ds2['Diagnosis'].replace({'No Stroke':0, 'Stroke': 1}, inplace=True)\n",
        "ds2['Gender'].replace({'Male':0, 'Female': 1}, inplace=True)\n",
        "ds2['Marital Status'].replace({'Single':0, 'Married': 1, 'Divorced' :2}, inplace=True)\n",
        "ds2['Residence Type'].replace({'Rural':0, 'Urban': 1}, inplace=True)\n",
        "ds2['Work Type'].replace({'Private':0, 'Self-employed': 1, 'Government Job':2 ,'Never Worked':3}, inplace=True)\n",
        "ds2['Alcohol Intake'].replace({'Rarely':0,'Social Drinker':1,'Never':2,'Frequent Drinker':3}, inplace=True)\n",
        "ds2['Physical Activity'].replace({'High':0,'Moderate':1,'Low':2}, inplace=True)\n",
        "ds2['Family History of Stroke'].replace({'Yes':0,'No':1}, inplace=True)\n",
        "ds2['Dietary Habits'].replace({'Paleo':0,'Vegan':1,'Vegetarian':2,'Non-Vegetarian':3 ,'Keto': 4 ,'Pescatarian':5,'Gluten-Free':6 }, inplace=True)\n",
        "ds2['Smoking Status'].replace({'Currently Smokes':0,'Non-smoker':1,'Formerly Smoked':2}, inplace=True)\n",
        "#inplace: altera definitivamente, padrão é none."
      ],
      "metadata": {
        "id": "o_ojHK75SOtw"
      },
      "execution_count": null,
      "outputs": []
    },
    {
      "cell_type": "code",
      "source": [
        "ds2.head()"
      ],
      "metadata": {
        "id": "HsukVmL5STGH",
        "colab": {
          "base_uri": "https://localhost:8080/",
          "height": 278
        },
        "outputId": "a1fd6110-5807-40d8-ec94-5a2075bf8db4"
      },
      "execution_count": null,
      "outputs": [
        {
          "output_type": "execute_result",
          "data": {
            "text/plain": [
              "   Patient ID  Age  Gender  Hypertension  Heart Disease  Marital Status  \\\n",
              "0       18153   56       0             0              1               1   \n",
              "1       62749   80       0             0              0               0   \n",
              "2       32145   26       0             1              1               1   \n",
              "3        6154   73       0             0              0               1   \n",
              "4       48973   51       0             1              1               2   \n",
              "\n",
              "   Work Type  Residence Type  Average Glucose Level  Body Mass Index (BMI)  \\\n",
              "0          1               0                 130.91                  22.37   \n",
              "1          1               1                 183.73                  32.57   \n",
              "2          3               0                 189.00                  20.32   \n",
              "3          3               1                 185.29                  27.50   \n",
              "4          1               1                 177.34                  29.06   \n",
              "\n",
              "   Smoking Status  Alcohol Intake  Physical Activity  Stroke History  \\\n",
              "0               1               1                  1               0   \n",
              "1               1               2                  2               0   \n",
              "2               2               0                  0               0   \n",
              "3               1               3                  1               0   \n",
              "4               0               0                  2               0   \n",
              "\n",
              "   Family History of Stroke  Dietary Habits  Stress Levels  Diagnosis  \n",
              "0                         0               1           3.48          1  \n",
              "1                         1               0           1.73          1  \n",
              "2                         0               0           7.31          1  \n",
              "3                         1               0           5.35          0  \n",
              "4                         0               5           6.84          1  "
            ],
            "text/html": [
              "\n",
              "  <div id=\"df-f708f0c9-3c64-4600-b42e-9ab6d8ab4989\" class=\"colab-df-container\">\n",
              "    <div>\n",
              "<style scoped>\n",
              "    .dataframe tbody tr th:only-of-type {\n",
              "        vertical-align: middle;\n",
              "    }\n",
              "\n",
              "    .dataframe tbody tr th {\n",
              "        vertical-align: top;\n",
              "    }\n",
              "\n",
              "    .dataframe thead th {\n",
              "        text-align: right;\n",
              "    }\n",
              "</style>\n",
              "<table border=\"1\" class=\"dataframe\">\n",
              "  <thead>\n",
              "    <tr style=\"text-align: right;\">\n",
              "      <th></th>\n",
              "      <th>Patient ID</th>\n",
              "      <th>Age</th>\n",
              "      <th>Gender</th>\n",
              "      <th>Hypertension</th>\n",
              "      <th>Heart Disease</th>\n",
              "      <th>Marital Status</th>\n",
              "      <th>Work Type</th>\n",
              "      <th>Residence Type</th>\n",
              "      <th>Average Glucose Level</th>\n",
              "      <th>Body Mass Index (BMI)</th>\n",
              "      <th>Smoking Status</th>\n",
              "      <th>Alcohol Intake</th>\n",
              "      <th>Physical Activity</th>\n",
              "      <th>Stroke History</th>\n",
              "      <th>Family History of Stroke</th>\n",
              "      <th>Dietary Habits</th>\n",
              "      <th>Stress Levels</th>\n",
              "      <th>Diagnosis</th>\n",
              "    </tr>\n",
              "  </thead>\n",
              "  <tbody>\n",
              "    <tr>\n",
              "      <th>0</th>\n",
              "      <td>18153</td>\n",
              "      <td>56</td>\n",
              "      <td>0</td>\n",
              "      <td>0</td>\n",
              "      <td>1</td>\n",
              "      <td>1</td>\n",
              "      <td>1</td>\n",
              "      <td>0</td>\n",
              "      <td>130.91</td>\n",
              "      <td>22.37</td>\n",
              "      <td>1</td>\n",
              "      <td>1</td>\n",
              "      <td>1</td>\n",
              "      <td>0</td>\n",
              "      <td>0</td>\n",
              "      <td>1</td>\n",
              "      <td>3.48</td>\n",
              "      <td>1</td>\n",
              "    </tr>\n",
              "    <tr>\n",
              "      <th>1</th>\n",
              "      <td>62749</td>\n",
              "      <td>80</td>\n",
              "      <td>0</td>\n",
              "      <td>0</td>\n",
              "      <td>0</td>\n",
              "      <td>0</td>\n",
              "      <td>1</td>\n",
              "      <td>1</td>\n",
              "      <td>183.73</td>\n",
              "      <td>32.57</td>\n",
              "      <td>1</td>\n",
              "      <td>2</td>\n",
              "      <td>2</td>\n",
              "      <td>0</td>\n",
              "      <td>1</td>\n",
              "      <td>0</td>\n",
              "      <td>1.73</td>\n",
              "      <td>1</td>\n",
              "    </tr>\n",
              "    <tr>\n",
              "      <th>2</th>\n",
              "      <td>32145</td>\n",
              "      <td>26</td>\n",
              "      <td>0</td>\n",
              "      <td>1</td>\n",
              "      <td>1</td>\n",
              "      <td>1</td>\n",
              "      <td>3</td>\n",
              "      <td>0</td>\n",
              "      <td>189.00</td>\n",
              "      <td>20.32</td>\n",
              "      <td>2</td>\n",
              "      <td>0</td>\n",
              "      <td>0</td>\n",
              "      <td>0</td>\n",
              "      <td>0</td>\n",
              "      <td>0</td>\n",
              "      <td>7.31</td>\n",
              "      <td>1</td>\n",
              "    </tr>\n",
              "    <tr>\n",
              "      <th>3</th>\n",
              "      <td>6154</td>\n",
              "      <td>73</td>\n",
              "      <td>0</td>\n",
              "      <td>0</td>\n",
              "      <td>0</td>\n",
              "      <td>1</td>\n",
              "      <td>3</td>\n",
              "      <td>1</td>\n",
              "      <td>185.29</td>\n",
              "      <td>27.50</td>\n",
              "      <td>1</td>\n",
              "      <td>3</td>\n",
              "      <td>1</td>\n",
              "      <td>0</td>\n",
              "      <td>1</td>\n",
              "      <td>0</td>\n",
              "      <td>5.35</td>\n",
              "      <td>0</td>\n",
              "    </tr>\n",
              "    <tr>\n",
              "      <th>4</th>\n",
              "      <td>48973</td>\n",
              "      <td>51</td>\n",
              "      <td>0</td>\n",
              "      <td>1</td>\n",
              "      <td>1</td>\n",
              "      <td>2</td>\n",
              "      <td>1</td>\n",
              "      <td>1</td>\n",
              "      <td>177.34</td>\n",
              "      <td>29.06</td>\n",
              "      <td>0</td>\n",
              "      <td>0</td>\n",
              "      <td>2</td>\n",
              "      <td>0</td>\n",
              "      <td>0</td>\n",
              "      <td>5</td>\n",
              "      <td>6.84</td>\n",
              "      <td>1</td>\n",
              "    </tr>\n",
              "  </tbody>\n",
              "</table>\n",
              "</div>\n",
              "    <div class=\"colab-df-buttons\">\n",
              "\n",
              "  <div class=\"colab-df-container\">\n",
              "    <button class=\"colab-df-convert\" onclick=\"convertToInteractive('df-f708f0c9-3c64-4600-b42e-9ab6d8ab4989')\"\n",
              "            title=\"Convert this dataframe to an interactive table.\"\n",
              "            style=\"display:none;\">\n",
              "\n",
              "  <svg xmlns=\"http://www.w3.org/2000/svg\" height=\"24px\" viewBox=\"0 -960 960 960\">\n",
              "    <path d=\"M120-120v-720h720v720H120Zm60-500h600v-160H180v160Zm220 220h160v-160H400v160Zm0 220h160v-160H400v160ZM180-400h160v-160H180v160Zm440 0h160v-160H620v160ZM180-180h160v-160H180v160Zm440 0h160v-160H620v160Z\"/>\n",
              "  </svg>\n",
              "    </button>\n",
              "\n",
              "  <style>\n",
              "    .colab-df-container {\n",
              "      display:flex;\n",
              "      gap: 12px;\n",
              "    }\n",
              "\n",
              "    .colab-df-convert {\n",
              "      background-color: #E8F0FE;\n",
              "      border: none;\n",
              "      border-radius: 50%;\n",
              "      cursor: pointer;\n",
              "      display: none;\n",
              "      fill: #1967D2;\n",
              "      height: 32px;\n",
              "      padding: 0 0 0 0;\n",
              "      width: 32px;\n",
              "    }\n",
              "\n",
              "    .colab-df-convert:hover {\n",
              "      background-color: #E2EBFA;\n",
              "      box-shadow: 0px 1px 2px rgba(60, 64, 67, 0.3), 0px 1px 3px 1px rgba(60, 64, 67, 0.15);\n",
              "      fill: #174EA6;\n",
              "    }\n",
              "\n",
              "    .colab-df-buttons div {\n",
              "      margin-bottom: 4px;\n",
              "    }\n",
              "\n",
              "    [theme=dark] .colab-df-convert {\n",
              "      background-color: #3B4455;\n",
              "      fill: #D2E3FC;\n",
              "    }\n",
              "\n",
              "    [theme=dark] .colab-df-convert:hover {\n",
              "      background-color: #434B5C;\n",
              "      box-shadow: 0px 1px 3px 1px rgba(0, 0, 0, 0.15);\n",
              "      filter: drop-shadow(0px 1px 2px rgba(0, 0, 0, 0.3));\n",
              "      fill: #FFFFFF;\n",
              "    }\n",
              "  </style>\n",
              "\n",
              "    <script>\n",
              "      const buttonEl =\n",
              "        document.querySelector('#df-f708f0c9-3c64-4600-b42e-9ab6d8ab4989 button.colab-df-convert');\n",
              "      buttonEl.style.display =\n",
              "        google.colab.kernel.accessAllowed ? 'block' : 'none';\n",
              "\n",
              "      async function convertToInteractive(key) {\n",
              "        const element = document.querySelector('#df-f708f0c9-3c64-4600-b42e-9ab6d8ab4989');\n",
              "        const dataTable =\n",
              "          await google.colab.kernel.invokeFunction('convertToInteractive',\n",
              "                                                    [key], {});\n",
              "        if (!dataTable) return;\n",
              "\n",
              "        const docLinkHtml = 'Like what you see? Visit the ' +\n",
              "          '<a target=\"_blank\" href=https://colab.research.google.com/notebooks/data_table.ipynb>data table notebook</a>'\n",
              "          + ' to learn more about interactive tables.';\n",
              "        element.innerHTML = '';\n",
              "        dataTable['output_type'] = 'display_data';\n",
              "        await google.colab.output.renderOutput(dataTable, element);\n",
              "        const docLink = document.createElement('div');\n",
              "        docLink.innerHTML = docLinkHtml;\n",
              "        element.appendChild(docLink);\n",
              "      }\n",
              "    </script>\n",
              "  </div>\n",
              "\n",
              "\n",
              "<div id=\"df-eb41fbce-67fe-4738-b240-345d9580d1f0\">\n",
              "  <button class=\"colab-df-quickchart\" onclick=\"quickchart('df-eb41fbce-67fe-4738-b240-345d9580d1f0')\"\n",
              "            title=\"Suggest charts\"\n",
              "            style=\"display:none;\">\n",
              "\n",
              "<svg xmlns=\"http://www.w3.org/2000/svg\" height=\"24px\"viewBox=\"0 0 24 24\"\n",
              "     width=\"24px\">\n",
              "    <g>\n",
              "        <path d=\"M19 3H5c-1.1 0-2 .9-2 2v14c0 1.1.9 2 2 2h14c1.1 0 2-.9 2-2V5c0-1.1-.9-2-2-2zM9 17H7v-7h2v7zm4 0h-2V7h2v10zm4 0h-2v-4h2v4z\"/>\n",
              "    </g>\n",
              "</svg>\n",
              "  </button>\n",
              "\n",
              "<style>\n",
              "  .colab-df-quickchart {\n",
              "      --bg-color: #E8F0FE;\n",
              "      --fill-color: #1967D2;\n",
              "      --hover-bg-color: #E2EBFA;\n",
              "      --hover-fill-color: #174EA6;\n",
              "      --disabled-fill-color: #AAA;\n",
              "      --disabled-bg-color: #DDD;\n",
              "  }\n",
              "\n",
              "  [theme=dark] .colab-df-quickchart {\n",
              "      --bg-color: #3B4455;\n",
              "      --fill-color: #D2E3FC;\n",
              "      --hover-bg-color: #434B5C;\n",
              "      --hover-fill-color: #FFFFFF;\n",
              "      --disabled-bg-color: #3B4455;\n",
              "      --disabled-fill-color: #666;\n",
              "  }\n",
              "\n",
              "  .colab-df-quickchart {\n",
              "    background-color: var(--bg-color);\n",
              "    border: none;\n",
              "    border-radius: 50%;\n",
              "    cursor: pointer;\n",
              "    display: none;\n",
              "    fill: var(--fill-color);\n",
              "    height: 32px;\n",
              "    padding: 0;\n",
              "    width: 32px;\n",
              "  }\n",
              "\n",
              "  .colab-df-quickchart:hover {\n",
              "    background-color: var(--hover-bg-color);\n",
              "    box-shadow: 0 1px 2px rgba(60, 64, 67, 0.3), 0 1px 3px 1px rgba(60, 64, 67, 0.15);\n",
              "    fill: var(--button-hover-fill-color);\n",
              "  }\n",
              "\n",
              "  .colab-df-quickchart-complete:disabled,\n",
              "  .colab-df-quickchart-complete:disabled:hover {\n",
              "    background-color: var(--disabled-bg-color);\n",
              "    fill: var(--disabled-fill-color);\n",
              "    box-shadow: none;\n",
              "  }\n",
              "\n",
              "  .colab-df-spinner {\n",
              "    border: 2px solid var(--fill-color);\n",
              "    border-color: transparent;\n",
              "    border-bottom-color: var(--fill-color);\n",
              "    animation:\n",
              "      spin 1s steps(1) infinite;\n",
              "  }\n",
              "\n",
              "  @keyframes spin {\n",
              "    0% {\n",
              "      border-color: transparent;\n",
              "      border-bottom-color: var(--fill-color);\n",
              "      border-left-color: var(--fill-color);\n",
              "    }\n",
              "    20% {\n",
              "      border-color: transparent;\n",
              "      border-left-color: var(--fill-color);\n",
              "      border-top-color: var(--fill-color);\n",
              "    }\n",
              "    30% {\n",
              "      border-color: transparent;\n",
              "      border-left-color: var(--fill-color);\n",
              "      border-top-color: var(--fill-color);\n",
              "      border-right-color: var(--fill-color);\n",
              "    }\n",
              "    40% {\n",
              "      border-color: transparent;\n",
              "      border-right-color: var(--fill-color);\n",
              "      border-top-color: var(--fill-color);\n",
              "    }\n",
              "    60% {\n",
              "      border-color: transparent;\n",
              "      border-right-color: var(--fill-color);\n",
              "    }\n",
              "    80% {\n",
              "      border-color: transparent;\n",
              "      border-right-color: var(--fill-color);\n",
              "      border-bottom-color: var(--fill-color);\n",
              "    }\n",
              "    90% {\n",
              "      border-color: transparent;\n",
              "      border-bottom-color: var(--fill-color);\n",
              "    }\n",
              "  }\n",
              "</style>\n",
              "\n",
              "  <script>\n",
              "    async function quickchart(key) {\n",
              "      const quickchartButtonEl =\n",
              "        document.querySelector('#' + key + ' button');\n",
              "      quickchartButtonEl.disabled = true;  // To prevent multiple clicks.\n",
              "      quickchartButtonEl.classList.add('colab-df-spinner');\n",
              "      try {\n",
              "        const charts = await google.colab.kernel.invokeFunction(\n",
              "            'suggestCharts', [key], {});\n",
              "      } catch (error) {\n",
              "        console.error('Error during call to suggestCharts:', error);\n",
              "      }\n",
              "      quickchartButtonEl.classList.remove('colab-df-spinner');\n",
              "      quickchartButtonEl.classList.add('colab-df-quickchart-complete');\n",
              "    }\n",
              "    (() => {\n",
              "      let quickchartButtonEl =\n",
              "        document.querySelector('#df-eb41fbce-67fe-4738-b240-345d9580d1f0 button');\n",
              "      quickchartButtonEl.style.display =\n",
              "        google.colab.kernel.accessAllowed ? 'block' : 'none';\n",
              "    })();\n",
              "  </script>\n",
              "</div>\n",
              "    </div>\n",
              "  </div>\n"
            ]
          },
          "metadata": {},
          "execution_count": 494
        }
      ]
    },
    {
      "cell_type": "code",
      "source": [
        "ds2.info()"
      ],
      "metadata": {
        "id": "9IxxRLI0SaOI",
        "colab": {
          "base_uri": "https://localhost:8080/"
        },
        "outputId": "fd261446-63a0-475e-9d1a-22eb6dc521be"
      },
      "execution_count": null,
      "outputs": [
        {
          "output_type": "stream",
          "name": "stdout",
          "text": [
            "<class 'pandas.core.frame.DataFrame'>\n",
            "RangeIndex: 15000 entries, 0 to 14999\n",
            "Data columns (total 18 columns):\n",
            " #   Column                    Non-Null Count  Dtype  \n",
            "---  ------                    --------------  -----  \n",
            " 0   Patient ID                15000 non-null  int64  \n",
            " 1   Age                       15000 non-null  int64  \n",
            " 2   Gender                    15000 non-null  int64  \n",
            " 3   Hypertension              15000 non-null  int64  \n",
            " 4   Heart Disease             15000 non-null  int64  \n",
            " 5   Marital Status            15000 non-null  int64  \n",
            " 6   Work Type                 15000 non-null  int64  \n",
            " 7   Residence Type            15000 non-null  int64  \n",
            " 8   Average Glucose Level     15000 non-null  float64\n",
            " 9   Body Mass Index (BMI)     15000 non-null  float64\n",
            " 10  Smoking Status            15000 non-null  int64  \n",
            " 11  Alcohol Intake            15000 non-null  int64  \n",
            " 12  Physical Activity         15000 non-null  int64  \n",
            " 13  Stroke History            15000 non-null  int64  \n",
            " 14  Family History of Stroke  15000 non-null  int64  \n",
            " 15  Dietary Habits            15000 non-null  int64  \n",
            " 16  Stress Levels             15000 non-null  float64\n",
            " 17  Diagnosis                 15000 non-null  int64  \n",
            "dtypes: float64(3), int64(15)\n",
            "memory usage: 2.1 MB\n"
          ]
        }
      ]
    },
    {
      "cell_type": "code",
      "source": [
        "ds2.shape\n"
      ],
      "metadata": {
        "id": "dgJzgh6MShwo",
        "colab": {
          "base_uri": "https://localhost:8080/"
        },
        "outputId": "d814f4e7-7b81-4d21-e583-f79ec4dd2935"
      },
      "execution_count": null,
      "outputs": [
        {
          "output_type": "execute_result",
          "data": {
            "text/plain": [
              "(15000, 18)"
            ]
          },
          "metadata": {},
          "execution_count": 496
        }
      ]
    },
    {
      "cell_type": "code",
      "source": [
        "#previsores = conjunto de variáveis previsoras com as variáveis categóricas transformadas em numéricas manualmente (são os dados entrada).\n",
        "previsores = ds2.iloc[:, 0:17].values\n",
        "#iloc - df.iloc[<linhas>, <colunas>],\n",
        "#neste exemplo, tem-se uma seleção de múltiplas linhas e colunas, no caso, todos os dados a partir da primeira coluna até a 17ª coluna,\n",
        "#o retorno é um Pandas DataFrame."
      ],
      "metadata": {
        "id": "x60fMLPDTBFd"
      },
      "execution_count": null,
      "outputs": []
    },
    {
      "cell_type": "code",
      "source": [
        "#Dados de entrada\n",
        "previsores"
      ],
      "metadata": {
        "id": "Y7eaBn1vTIuF",
        "colab": {
          "base_uri": "https://localhost:8080/"
        },
        "outputId": "f490c14c-bb82-434f-9596-64d53df93a95"
      },
      "execution_count": null,
      "outputs": [
        {
          "output_type": "execute_result",
          "data": {
            "text/plain": [
              "array([[1.8153e+04, 5.6000e+01, 0.0000e+00, ..., 0.0000e+00, 1.0000e+00,\n",
              "        3.4800e+00],\n",
              "       [6.2749e+04, 8.0000e+01, 0.0000e+00, ..., 1.0000e+00, 0.0000e+00,\n",
              "        1.7300e+00],\n",
              "       [3.2145e+04, 2.6000e+01, 0.0000e+00, ..., 0.0000e+00, 0.0000e+00,\n",
              "        7.3100e+00],\n",
              "       ...,\n",
              "       [3.3174e+04, 3.5000e+01, 0.0000e+00, ..., 1.0000e+00, 0.0000e+00,\n",
              "        5.1000e-01],\n",
              "       [2.2343e+04, 7.3000e+01, 0.0000e+00, ..., 0.0000e+00, 0.0000e+00,\n",
              "        1.5300e+00],\n",
              "       [1.1066e+04, 6.4000e+01, 1.0000e+00, ..., 1.0000e+00, 1.0000e+00,\n",
              "        4.5700e+00]])"
            ]
          },
          "metadata": {},
          "execution_count": 498
        }
      ]
    },
    {
      "cell_type": "code",
      "source": [
        "previsores.shape"
      ],
      "metadata": {
        "id": "iTeJ2yhITOdF",
        "colab": {
          "base_uri": "https://localhost:8080/"
        },
        "outputId": "45e24dd0-cf6c-4e2e-d7a5-47f6fa50762b"
      },
      "execution_count": null,
      "outputs": [
        {
          "output_type": "execute_result",
          "data": {
            "text/plain": [
              "(15000, 17)"
            ]
          },
          "metadata": {},
          "execution_count": 499
        }
      ]
    },
    {
      "cell_type": "code",
      "source": [
        "#alvo = variável que se pretende atingir - tem ou não doença cardíaca (são os dados de saída)).\n",
        "alvo = ds2.iloc[:,17].values\n",
        "# ou alvo = ds2.iloc[:, -1].values"
      ],
      "metadata": {
        "id": "xfH8-XikTTC1"
      },
      "execution_count": null,
      "outputs": []
    },
    {
      "cell_type": "code",
      "source": [
        "#Dados de saída\n",
        "alvo"
      ],
      "metadata": {
        "id": "n4WLQm-5TZid",
        "colab": {
          "base_uri": "https://localhost:8080/"
        },
        "outputId": "70c1f4ca-cd58-48e3-ad35-d14496a761a9"
      },
      "execution_count": null,
      "outputs": [
        {
          "output_type": "execute_result",
          "data": {
            "text/plain": [
              "array([1, 1, 1, ..., 1, 0, 1])"
            ]
          },
          "metadata": {},
          "execution_count": 501
        }
      ]
    },
    {
      "cell_type": "code",
      "source": [
        "alvo.shape"
      ],
      "metadata": {
        "id": "Vd016TZCTd4t",
        "colab": {
          "base_uri": "https://localhost:8080/"
        },
        "outputId": "d4ecd6a9-6d14-4130-b9eb-836d8538b4d8"
      },
      "execution_count": null,
      "outputs": [
        {
          "output_type": "execute_result",
          "data": {
            "text/plain": [
              "(15000,)"
            ]
          },
          "metadata": {},
          "execution_count": 502
        }
      ]
    },
    {
      "cell_type": "markdown",
      "source": [
        "# **Base de Treino e Teste**"
      ],
      "metadata": {
        "id": "YirV6ASxUV3l"
      }
    },
    {
      "cell_type": "markdown",
      "source": [
        "O **scikit-learn** é uma biblioteca da linguagem Python para machine learning.\n",
        "\n",
        "https://scikit-learn.org/stable/"
      ],
      "metadata": {
        "id": "g6OROEvrpULJ"
      }
    },
    {
      "cell_type": "code",
      "source": [
        "from sklearn.model_selection import train_test_split\n",
        "#Usado para dividir os dados em subconjuntos aleatórios de treinamento e teste."
      ],
      "metadata": {
        "id": "K5e_X8XtUVlD"
      },
      "execution_count": null,
      "outputs": []
    },
    {
      "cell_type": "code",
      "source": [
        "x_treino, x_teste, y_treino, y_teste = train_test_split(previsores, alvo, test_size = 0.20, random_state = 123)\n",
        "#test_size: tamanho em porcentagem dos dados de teste. default é none.\n",
        "#random_state: controla o embaralhamento aplicado aos dados antes de aplicar a divisão.\n",
        "#              É a nomeação de um estado aleatório (pata termos sempre o mesmo conjunto de treino e teste para poder comprar\n",
        "#              qual é o melhor algoritmo, random_state = 0)."
      ],
      "metadata": {
        "id": "Ff6dVf2iUoeS"
      },
      "execution_count": null,
      "outputs": []
    },
    {
      "cell_type": "code",
      "source": [
        "#x_treino\n",
        "x_treino.shape"
      ],
      "metadata": {
        "id": "0UW_ZblKUudS",
        "colab": {
          "base_uri": "https://localhost:8080/"
        },
        "outputId": "165ea303-de8d-4211-fa1c-d831dcd996ac"
      },
      "execution_count": null,
      "outputs": [
        {
          "output_type": "execute_result",
          "data": {
            "text/plain": [
              "(12000, 17)"
            ]
          },
          "metadata": {},
          "execution_count": 505
        }
      ]
    },
    {
      "cell_type": "code",
      "source": [
        "#x_teste\n",
        "x_teste.shape"
      ],
      "metadata": {
        "id": "vIL5M3pjUvBS",
        "colab": {
          "base_uri": "https://localhost:8080/"
        },
        "outputId": "f3da79ba-56e6-4a54-9ce4-c3d033ad42d0"
      },
      "execution_count": null,
      "outputs": [
        {
          "output_type": "execute_result",
          "data": {
            "text/plain": [
              "(3000, 17)"
            ]
          },
          "metadata": {},
          "execution_count": 506
        }
      ]
    },
    {
      "cell_type": "code",
      "source": [
        "#y_treino\n",
        "y_treino.shape"
      ],
      "metadata": {
        "id": "7CIsqBzvUvhS",
        "colab": {
          "base_uri": "https://localhost:8080/"
        },
        "outputId": "2107c700-abb0-4ac3-814f-5fa3b1a9b884"
      },
      "execution_count": null,
      "outputs": [
        {
          "output_type": "execute_result",
          "data": {
            "text/plain": [
              "(12000,)"
            ]
          },
          "metadata": {},
          "execution_count": 507
        }
      ]
    },
    {
      "cell_type": "code",
      "source": [
        "#y_teste\n",
        "y_teste.shape"
      ],
      "metadata": {
        "id": "8KnfGjRTUv4K",
        "colab": {
          "base_uri": "https://localhost:8080/"
        },
        "outputId": "e371787e-6a83-43a8-8572-959a8d51dc10"
      },
      "execution_count": null,
      "outputs": [
        {
          "output_type": "execute_result",
          "data": {
            "text/plain": [
              "(3000,)"
            ]
          },
          "metadata": {},
          "execution_count": 508
        }
      ]
    },
    {
      "cell_type": "markdown",
      "source": [
        "Importar as bibliotecas para métricas de avaliação e validação cruzada:\n"
      ],
      "metadata": {
        "id": "YfnpkxiXC-TR"
      }
    },
    {
      "cell_type": "code",
      "source": [
        "# Para as métricas de avaliação dos modelos\n",
        "from sklearn.metrics import accuracy_score, confusion_matrix, classification_report"
      ],
      "metadata": {
        "id": "jPsB69c9DGuT"
      },
      "execution_count": null,
      "outputs": []
    },
    {
      "cell_type": "markdown",
      "source": [],
      "metadata": {
        "id": "YCLtoYisU3BA"
      }
    },
    {
      "cell_type": "markdown",
      "source": [
        "**accuracy_score:** pontuação de classificação de precisão.\n",
        "\n",
        "**confusion_matrix:** matriz de confusão para avaliar a precisão de uma classificação.\n",
        "\n",
        "**classification_report**: apresenta um relatório das métricas da classificação. Apresenta as métricas precision, recall, F1-score para cada classe.\n",
        "\n",
        "\n",
        "\n",
        "\n",
        "\n",
        "\n",
        "\n",
        "\n",
        "\n",
        "\n",
        "\n",
        "\n",
        "\n",
        "\n",
        "\n",
        "\n",
        "\n",
        "\n"
      ],
      "metadata": {
        "id": "lwH8mWV_ELQ4"
      }
    },
    {
      "cell_type": "code",
      "source": [
        "#Para validação cruzada\n",
        "from sklearn.model_selection import KFold\n",
        "from sklearn.model_selection import cross_val_score"
      ],
      "metadata": {
        "id": "qdIuJ-XcDHeQ"
      },
      "execution_count": null,
      "outputs": []
    },
    {
      "cell_type": "code",
      "source": [
        "#Definir as folds para validação cruzada"
      ],
      "metadata": {
        "id": "dqN4tDMJG26z"
      },
      "execution_count": null,
      "outputs": []
    },
    {
      "cell_type": "code",
      "source": [
        "kfold = KFold(n_splits = 20, shuffle=True, random_state = 42)\n",
        "#n_splis=5 (default)\n",
        "#shuffle: se deve embaralhar os dados antes de dividir em lotes (as amostras dentro de cada divisão não serão embaralhadas)"
      ],
      "metadata": {
        "id": "0m9QLKcyG7Vp"
      },
      "execution_count": null,
      "outputs": []
    },
    {
      "cell_type": "markdown",
      "source": [
        "# **Aprendizagem Baseada em Instâncias (KNN)**\n",
        "\n",
        "https://scikit-learn.org/stable/modules/generated/sklearn.neighbors.KNeighborsClassifier.html\n",
        "https://scikit-learn.org/stable/modules/generated/sklearn.metrics.DistanceMetric.html"
      ],
      "metadata": {
        "id": "ROEfVBkDNIXt"
      }
    },
    {
      "cell_type": "code",
      "execution_count": null,
      "metadata": {
        "id": "08HEMwLyNE4M"
      },
      "outputs": [],
      "source": [
        "from sklearn.neighbors import KNeighborsClassifier"
      ]
    },
    {
      "cell_type": "code",
      "source": [
        "# Criando o modelo\n",
        "knn = KNeighborsClassifier(n_neighbors=18, metric ='minkowski', p=1) #p=1, usa a a manhatan, 2=euclidiana\n",
        "# knn = KNeighborsClassifier(n_neighbors=15, metric ='minkowski', p=2) #p=1, usa a a manhatan, 2=euclidiana\n",
        "# knn = KNeighborsClassifier(n_neighbors=3, metric ='minkowski', p=2) #p=1, usa a a manhatan, 2=euclidiana\n",
        "# knn = KNeighborsClassifier(n_neighbors=1, metric ='minkowski', p=2) #p=1, usa a a manhatan, 2=euclidiana\n",
        "#Treinando o modelo\n",
        "knn.fit(x_treino, y_treino)"
      ],
      "metadata": {
        "id": "rtTLg8DSN6jR",
        "colab": {
          "base_uri": "https://localhost:8080/",
          "height": 75
        },
        "outputId": "d25a8474-59e4-4b0c-bde7-5edf36e290c8"
      },
      "execution_count": null,
      "outputs": [
        {
          "output_type": "execute_result",
          "data": {
            "text/plain": [
              "KNeighborsClassifier(n_neighbors=18, p=1)"
            ],
            "text/html": [
              "<style>#sk-container-id-20 {color: black;background-color: white;}#sk-container-id-20 pre{padding: 0;}#sk-container-id-20 div.sk-toggleable {background-color: white;}#sk-container-id-20 label.sk-toggleable__label {cursor: pointer;display: block;width: 100%;margin-bottom: 0;padding: 0.3em;box-sizing: border-box;text-align: center;}#sk-container-id-20 label.sk-toggleable__label-arrow:before {content: \"▸\";float: left;margin-right: 0.25em;color: #696969;}#sk-container-id-20 label.sk-toggleable__label-arrow:hover:before {color: black;}#sk-container-id-20 div.sk-estimator:hover label.sk-toggleable__label-arrow:before {color: black;}#sk-container-id-20 div.sk-toggleable__content {max-height: 0;max-width: 0;overflow: hidden;text-align: left;background-color: #f0f8ff;}#sk-container-id-20 div.sk-toggleable__content pre {margin: 0.2em;color: black;border-radius: 0.25em;background-color: #f0f8ff;}#sk-container-id-20 input.sk-toggleable__control:checked~div.sk-toggleable__content {max-height: 200px;max-width: 100%;overflow: auto;}#sk-container-id-20 input.sk-toggleable__control:checked~label.sk-toggleable__label-arrow:before {content: \"▾\";}#sk-container-id-20 div.sk-estimator input.sk-toggleable__control:checked~label.sk-toggleable__label {background-color: #d4ebff;}#sk-container-id-20 div.sk-label input.sk-toggleable__control:checked~label.sk-toggleable__label {background-color: #d4ebff;}#sk-container-id-20 input.sk-hidden--visually {border: 0;clip: rect(1px 1px 1px 1px);clip: rect(1px, 1px, 1px, 1px);height: 1px;margin: -1px;overflow: hidden;padding: 0;position: absolute;width: 1px;}#sk-container-id-20 div.sk-estimator {font-family: monospace;background-color: #f0f8ff;border: 1px dotted black;border-radius: 0.25em;box-sizing: border-box;margin-bottom: 0.5em;}#sk-container-id-20 div.sk-estimator:hover {background-color: #d4ebff;}#sk-container-id-20 div.sk-parallel-item::after {content: \"\";width: 100%;border-bottom: 1px solid gray;flex-grow: 1;}#sk-container-id-20 div.sk-label:hover label.sk-toggleable__label {background-color: #d4ebff;}#sk-container-id-20 div.sk-serial::before {content: \"\";position: absolute;border-left: 1px solid gray;box-sizing: border-box;top: 0;bottom: 0;left: 50%;z-index: 0;}#sk-container-id-20 div.sk-serial {display: flex;flex-direction: column;align-items: center;background-color: white;padding-right: 0.2em;padding-left: 0.2em;position: relative;}#sk-container-id-20 div.sk-item {position: relative;z-index: 1;}#sk-container-id-20 div.sk-parallel {display: flex;align-items: stretch;justify-content: center;background-color: white;position: relative;}#sk-container-id-20 div.sk-item::before, #sk-container-id-20 div.sk-parallel-item::before {content: \"\";position: absolute;border-left: 1px solid gray;box-sizing: border-box;top: 0;bottom: 0;left: 50%;z-index: -1;}#sk-container-id-20 div.sk-parallel-item {display: flex;flex-direction: column;z-index: 1;position: relative;background-color: white;}#sk-container-id-20 div.sk-parallel-item:first-child::after {align-self: flex-end;width: 50%;}#sk-container-id-20 div.sk-parallel-item:last-child::after {align-self: flex-start;width: 50%;}#sk-container-id-20 div.sk-parallel-item:only-child::after {width: 0;}#sk-container-id-20 div.sk-dashed-wrapped {border: 1px dashed gray;margin: 0 0.4em 0.5em 0.4em;box-sizing: border-box;padding-bottom: 0.4em;background-color: white;}#sk-container-id-20 div.sk-label label {font-family: monospace;font-weight: bold;display: inline-block;line-height: 1.2em;}#sk-container-id-20 div.sk-label-container {text-align: center;}#sk-container-id-20 div.sk-container {/* jupyter's `normalize.less` sets `[hidden] { display: none; }` but bootstrap.min.css set `[hidden] { display: none !important; }` so we also need the `!important` here to be able to override the default hidden behavior on the sphinx rendered scikit-learn.org. See: https://github.com/scikit-learn/scikit-learn/issues/21755 */display: inline-block !important;position: relative;}#sk-container-id-20 div.sk-text-repr-fallback {display: none;}</style><div id=\"sk-container-id-20\" class=\"sk-top-container\"><div class=\"sk-text-repr-fallback\"><pre>KNeighborsClassifier(n_neighbors=18, p=1)</pre><b>In a Jupyter environment, please rerun this cell to show the HTML representation or trust the notebook. <br />On GitHub, the HTML representation is unable to render, please try loading this page with nbviewer.org.</b></div><div class=\"sk-container\" hidden><div class=\"sk-item\"><div class=\"sk-estimator sk-toggleable\"><input class=\"sk-toggleable__control sk-hidden--visually\" id=\"sk-estimator-id-20\" type=\"checkbox\" checked><label for=\"sk-estimator-id-20\" class=\"sk-toggleable__label sk-toggleable__label-arrow\">KNeighborsClassifier</label><div class=\"sk-toggleable__content\"><pre>KNeighborsClassifier(n_neighbors=18, p=1)</pre></div></div></div></div></div>"
            ]
          },
          "metadata": {},
          "execution_count": 573
        }
      ]
    },
    {
      "cell_type": "code",
      "source": [
        "previsoes_knn = knn.predict(x_teste)\n",
        "previsoes_knn"
      ],
      "metadata": {
        "id": "z-7pyFxCVNR0",
        "colab": {
          "base_uri": "https://localhost:8080/"
        },
        "outputId": "8462cd77-cca4-431e-afc7-e7b09d3931da"
      },
      "execution_count": null,
      "outputs": [
        {
          "output_type": "execute_result",
          "data": {
            "text/plain": [
              "array([1, 0, 0, ..., 1, 0, 0])"
            ]
          },
          "metadata": {},
          "execution_count": 574
        }
      ]
    },
    {
      "cell_type": "code",
      "source": [
        "y_teste\n"
      ],
      "metadata": {
        "id": "PBruJ6zrVThv",
        "colab": {
          "base_uri": "https://localhost:8080/"
        },
        "outputId": "770bc3af-89d8-4b01-a98e-b9e9a244d6db"
      },
      "execution_count": null,
      "outputs": [
        {
          "output_type": "execute_result",
          "data": {
            "text/plain": [
              "array([0, 0, 0, ..., 1, 1, 0])"
            ]
          },
          "metadata": {},
          "execution_count": 575
        }
      ]
    },
    {
      "cell_type": "code",
      "source": [
        "print(\"Acurácia: %.2f%%\" % (accuracy_score(y_teste, previsoes_knn) * 100.0))\n",
        "print(\"Acurácia (quantidade amostras): %.2f\" % (accuracy_score(y_teste, previsoes_knn, normalize=False) ))\n",
        "#normalize: default=True. Se False, retorna o número de amostras classificadas corretamente"
      ],
      "metadata": {
        "id": "OomX9l_rVZyG",
        "colab": {
          "base_uri": "https://localhost:8080/"
        },
        "outputId": "514f231f-4f7c-4f5b-bf0c-978741b688d6"
      },
      "execution_count": null,
      "outputs": [
        {
          "output_type": "stream",
          "name": "stdout",
          "text": [
            "Acurácia: 51.07%\n",
            "Acurácia (quantidade amostras): 1532.00\n"
          ]
        }
      ]
    },
    {
      "cell_type": "code",
      "source": [
        "confusion_matrix(y_teste, previsoes_knn)\n",
        "\n",
        "#array([[29, 11],\n",
        "#       [12, 40]])"
      ],
      "metadata": {
        "id": "eYNW20OGVc6V",
        "colab": {
          "base_uri": "https://localhost:8080/"
        },
        "outputId": "4adbd025-767c-460d-a9b3-4cbef5f310fa"
      },
      "execution_count": null,
      "outputs": [
        {
          "output_type": "execute_result",
          "data": {
            "text/plain": [
              "array([[958, 572],\n",
              "       [896, 574]])"
            ]
          },
          "metadata": {},
          "execution_count": 577
        }
      ]
    },
    {
      "cell_type": "code",
      "source": [
        "print(classification_report(y_teste, previsoes_knn))"
      ],
      "metadata": {
        "id": "dWIxyugaVgCO",
        "colab": {
          "base_uri": "https://localhost:8080/"
        },
        "outputId": "1c156af3-959b-4be0-9f6a-283c0f22bdd0"
      },
      "execution_count": null,
      "outputs": [
        {
          "output_type": "stream",
          "name": "stdout",
          "text": [
            "              precision    recall  f1-score   support\n",
            "\n",
            "           0       0.52      0.63      0.57      1530\n",
            "           1       0.50      0.39      0.44      1470\n",
            "\n",
            "    accuracy                           0.51      3000\n",
            "   macro avg       0.51      0.51      0.50      3000\n",
            "weighted avg       0.51      0.51      0.50      3000\n",
            "\n"
          ]
        }
      ]
    },
    {
      "cell_type": "code",
      "source": [
        "print(classification_report(y_teste, previsoes_knn, target_names=['Não possui chance de ter AVC','Possui doença chance de ter AVC'],digits=4))\n",
        "#target_names: default=None. Nomes de exibição opcionais dos rótulos.\n",
        "#digits:default=2. Número de dígitos para formatar os dados de saída."
      ],
      "metadata": {
        "id": "yrXNsay-Q031",
        "colab": {
          "base_uri": "https://localhost:8080/"
        },
        "outputId": "920dfade-c6cc-4a1c-e399-3a777c57b711"
      },
      "execution_count": null,
      "outputs": [
        {
          "output_type": "stream",
          "name": "stdout",
          "text": [
            "                                 precision    recall  f1-score   support\n",
            "\n",
            "   Não possui chance de ter AVC     0.5167    0.6261    0.5662      1530\n",
            "Possui doença chance de ter AVC     0.5009    0.3905    0.4388      1470\n",
            "\n",
            "                       accuracy                         0.5107      3000\n",
            "                      macro avg     0.5088    0.5083    0.5025      3000\n",
            "                   weighted avg     0.5090    0.5107    0.5038      3000\n",
            "\n"
          ]
        }
      ]
    },
    {
      "cell_type": "code",
      "source": [],
      "metadata": {
        "id": "PRMlgQJuyI72"
      },
      "execution_count": null,
      "outputs": []
    },
    {
      "cell_type": "markdown",
      "source": [
        "**Validação Cruzada**"
      ],
      "metadata": {
        "id": "XbeEQSITV4kR"
      }
    },
    {
      "cell_type": "code",
      "source": [
        "# Criando o modelo para validação cruzada\n",
        "knnVC1 = KNeighborsClassifier(n_neighbors=18, metric='minkowski', p = 2)\n",
        "knnVC2 = KNeighborsClassifier(n_neighbors=5, metric='minkowski', p = 1)\n",
        "knnVC3 = KNeighborsClassifier(n_neighbors=3, metric='minkowski', p = 2)\n",
        "\n",
        "resultado1 = cross_val_score(knnVC1, previsores, alvo, cv = kfold)\n",
        "resultado2 = cross_val_score(knnVC2, previsores, alvo, cv = kfold)\n",
        "resultado3 = cross_val_score(knnVC3, previsores, alvo, cv = kfold)\n",
        "#cv=None, validação cruzada padrão de 5 vezes\n",
        "\n",
        "# Usando a média e o desvio padrão\n",
        "print(\"18 = Acurácia Média: %.2f%%\" % (resultado1.mean() * 100.0))\n",
        "print(\"5 = Acurácia Média: %.2f%%\" % (resultado2.mean() * 100.0))\n",
        "print(\"3 = Acurácia Média: %.2f%%\" % (resultado3.mean() * 100.0))"
      ],
      "metadata": {
        "id": "tHH0g65bWCKN",
        "colab": {
          "base_uri": "https://localhost:8080/"
        },
        "outputId": "c6ce266b-daed-461c-8a11-e42a6e822669"
      },
      "execution_count": null,
      "outputs": [
        {
          "output_type": "stream",
          "name": "stdout",
          "text": [
            "18 = Acurácia Média: 50.19%\n",
            "5 = Acurácia Média: 49.54%\n",
            "3 = Acurácia Média: 49.58%\n"
          ]
        }
      ]
    },
    {
      "cell_type": "markdown",
      "source": [
        "# **NAIVE BAYES**\n",
        "https://scikit-learn.org/stable/modules/naive_bayes.html"
      ],
      "metadata": {
        "id": "MSOXI4KTXv4s"
      }
    },
    {
      "cell_type": "code",
      "source": [
        "from sklearn.naive_bayes import GaussianNB\n",
        "from sklearn.naive_bayes import BernoulliNB"
      ],
      "metadata": {
        "id": "YkuJlu_yYNfT"
      },
      "execution_count": null,
      "outputs": []
    },
    {
      "cell_type": "code",
      "source": [
        "#Criando o modelo\n",
        "# naive = GaussianNB()\n",
        "naive =  BernoulliNB()\n",
        "#Treinando o modelo\n",
        "naive.fit(x_treino, y_treino)"
      ],
      "metadata": {
        "id": "71hca2cNYP4h",
        "colab": {
          "base_uri": "https://localhost:8080/",
          "height": 75
        },
        "outputId": "1e6c1828-bd11-4dde-d269-a4789369ef5d"
      },
      "execution_count": null,
      "outputs": [
        {
          "output_type": "execute_result",
          "data": {
            "text/plain": [
              "BernoulliNB()"
            ],
            "text/html": [
              "<style>#sk-container-id-15 {color: black;background-color: white;}#sk-container-id-15 pre{padding: 0;}#sk-container-id-15 div.sk-toggleable {background-color: white;}#sk-container-id-15 label.sk-toggleable__label {cursor: pointer;display: block;width: 100%;margin-bottom: 0;padding: 0.3em;box-sizing: border-box;text-align: center;}#sk-container-id-15 label.sk-toggleable__label-arrow:before {content: \"▸\";float: left;margin-right: 0.25em;color: #696969;}#sk-container-id-15 label.sk-toggleable__label-arrow:hover:before {color: black;}#sk-container-id-15 div.sk-estimator:hover label.sk-toggleable__label-arrow:before {color: black;}#sk-container-id-15 div.sk-toggleable__content {max-height: 0;max-width: 0;overflow: hidden;text-align: left;background-color: #f0f8ff;}#sk-container-id-15 div.sk-toggleable__content pre {margin: 0.2em;color: black;border-radius: 0.25em;background-color: #f0f8ff;}#sk-container-id-15 input.sk-toggleable__control:checked~div.sk-toggleable__content {max-height: 200px;max-width: 100%;overflow: auto;}#sk-container-id-15 input.sk-toggleable__control:checked~label.sk-toggleable__label-arrow:before {content: \"▾\";}#sk-container-id-15 div.sk-estimator input.sk-toggleable__control:checked~label.sk-toggleable__label {background-color: #d4ebff;}#sk-container-id-15 div.sk-label input.sk-toggleable__control:checked~label.sk-toggleable__label {background-color: #d4ebff;}#sk-container-id-15 input.sk-hidden--visually {border: 0;clip: rect(1px 1px 1px 1px);clip: rect(1px, 1px, 1px, 1px);height: 1px;margin: -1px;overflow: hidden;padding: 0;position: absolute;width: 1px;}#sk-container-id-15 div.sk-estimator {font-family: monospace;background-color: #f0f8ff;border: 1px dotted black;border-radius: 0.25em;box-sizing: border-box;margin-bottom: 0.5em;}#sk-container-id-15 div.sk-estimator:hover {background-color: #d4ebff;}#sk-container-id-15 div.sk-parallel-item::after {content: \"\";width: 100%;border-bottom: 1px solid gray;flex-grow: 1;}#sk-container-id-15 div.sk-label:hover label.sk-toggleable__label {background-color: #d4ebff;}#sk-container-id-15 div.sk-serial::before {content: \"\";position: absolute;border-left: 1px solid gray;box-sizing: border-box;top: 0;bottom: 0;left: 50%;z-index: 0;}#sk-container-id-15 div.sk-serial {display: flex;flex-direction: column;align-items: center;background-color: white;padding-right: 0.2em;padding-left: 0.2em;position: relative;}#sk-container-id-15 div.sk-item {position: relative;z-index: 1;}#sk-container-id-15 div.sk-parallel {display: flex;align-items: stretch;justify-content: center;background-color: white;position: relative;}#sk-container-id-15 div.sk-item::before, #sk-container-id-15 div.sk-parallel-item::before {content: \"\";position: absolute;border-left: 1px solid gray;box-sizing: border-box;top: 0;bottom: 0;left: 50%;z-index: -1;}#sk-container-id-15 div.sk-parallel-item {display: flex;flex-direction: column;z-index: 1;position: relative;background-color: white;}#sk-container-id-15 div.sk-parallel-item:first-child::after {align-self: flex-end;width: 50%;}#sk-container-id-15 div.sk-parallel-item:last-child::after {align-self: flex-start;width: 50%;}#sk-container-id-15 div.sk-parallel-item:only-child::after {width: 0;}#sk-container-id-15 div.sk-dashed-wrapped {border: 1px dashed gray;margin: 0 0.4em 0.5em 0.4em;box-sizing: border-box;padding-bottom: 0.4em;background-color: white;}#sk-container-id-15 div.sk-label label {font-family: monospace;font-weight: bold;display: inline-block;line-height: 1.2em;}#sk-container-id-15 div.sk-label-container {text-align: center;}#sk-container-id-15 div.sk-container {/* jupyter's `normalize.less` sets `[hidden] { display: none; }` but bootstrap.min.css set `[hidden] { display: none !important; }` so we also need the `!important` here to be able to override the default hidden behavior on the sphinx rendered scikit-learn.org. See: https://github.com/scikit-learn/scikit-learn/issues/21755 */display: inline-block !important;position: relative;}#sk-container-id-15 div.sk-text-repr-fallback {display: none;}</style><div id=\"sk-container-id-15\" class=\"sk-top-container\"><div class=\"sk-text-repr-fallback\"><pre>BernoulliNB()</pre><b>In a Jupyter environment, please rerun this cell to show the HTML representation or trust the notebook. <br />On GitHub, the HTML representation is unable to render, please try loading this page with nbviewer.org.</b></div><div class=\"sk-container\" hidden><div class=\"sk-item\"><div class=\"sk-estimator sk-toggleable\"><input class=\"sk-toggleable__control sk-hidden--visually\" id=\"sk-estimator-id-15\" type=\"checkbox\" checked><label for=\"sk-estimator-id-15\" class=\"sk-toggleable__label sk-toggleable__label-arrow\">BernoulliNB</label><div class=\"sk-toggleable__content\"><pre>BernoulliNB()</pre></div></div></div></div></div>"
            ]
          },
          "metadata": {},
          "execution_count": 523
        }
      ]
    },
    {
      "cell_type": "code",
      "source": [
        "previsoes_naive = naive.predict(x_teste)\n",
        "previsoes_naive"
      ],
      "metadata": {
        "id": "wjqD-6LGYZtv",
        "colab": {
          "base_uri": "https://localhost:8080/"
        },
        "outputId": "e7184ed1-b899-426e-f70e-ce8d2a6023b0"
      },
      "execution_count": null,
      "outputs": [
        {
          "output_type": "execute_result",
          "data": {
            "text/plain": [
              "array([0, 0, 1, ..., 1, 1, 1])"
            ]
          },
          "metadata": {},
          "execution_count": 524
        }
      ]
    },
    {
      "cell_type": "code",
      "source": [
        "y_teste"
      ],
      "metadata": {
        "id": "p8x4UutbYaW4",
        "colab": {
          "base_uri": "https://localhost:8080/"
        },
        "outputId": "72059566-2a70-462a-b793-518b42639079"
      },
      "execution_count": null,
      "outputs": [
        {
          "output_type": "execute_result",
          "data": {
            "text/plain": [
              "array([0, 0, 0, ..., 1, 1, 0])"
            ]
          },
          "metadata": {},
          "execution_count": 525
        }
      ]
    },
    {
      "cell_type": "code",
      "source": [
        "print(\"Acurácia: %.2f%%\" % (accuracy_score(y_teste, previsoes_naive) * 100.0))"
      ],
      "metadata": {
        "colab": {
          "base_uri": "https://localhost:8080/"
        },
        "id": "AMykkgn_Yc3S",
        "outputId": "15c1ad3d-83ba-40c5-ed40-3f807303089d"
      },
      "execution_count": null,
      "outputs": [
        {
          "output_type": "stream",
          "name": "stdout",
          "text": [
            "Acurácia: 51.10%\n"
          ]
        }
      ]
    },
    {
      "cell_type": "code",
      "source": [
        "confusion_matrix(y_teste, previsoes_naive)"
      ],
      "metadata": {
        "id": "1uVd8L5bYgTE",
        "colab": {
          "base_uri": "https://localhost:8080/"
        },
        "outputId": "b68368ce-9896-4827-8b96-bec4f2353a50"
      },
      "execution_count": null,
      "outputs": [
        {
          "output_type": "execute_result",
          "data": {
            "text/plain": [
              "array([[789, 741],\n",
              "       [726, 744]])"
            ]
          },
          "metadata": {},
          "execution_count": 527
        }
      ]
    },
    {
      "cell_type": "code",
      "source": [
        "print(classification_report(y_teste, previsoes_naive))"
      ],
      "metadata": {
        "id": "F39SxwROYg0H",
        "colab": {
          "base_uri": "https://localhost:8080/"
        },
        "outputId": "f44800f1-89ba-44d4-d794-7c24fe5ffeed"
      },
      "execution_count": null,
      "outputs": [
        {
          "output_type": "stream",
          "name": "stdout",
          "text": [
            "              precision    recall  f1-score   support\n",
            "\n",
            "           0       0.52      0.52      0.52      1530\n",
            "           1       0.50      0.51      0.50      1470\n",
            "\n",
            "    accuracy                           0.51      3000\n",
            "   macro avg       0.51      0.51      0.51      3000\n",
            "weighted avg       0.51      0.51      0.51      3000\n",
            "\n"
          ]
        }
      ]
    },
    {
      "cell_type": "markdown",
      "source": [
        "**Validação Cruzada**"
      ],
      "metadata": {
        "id": "3d54MZ2sYi7L"
      }
    },
    {
      "cell_type": "code",
      "source": [
        "# Criando o modelo para validação cruzada\n",
        "naiveVC = GaussianNB()\n",
        "resultado = cross_val_score(naiveVC, previsores, alvo, cv = kfold)\n",
        "resultado"
      ],
      "metadata": {
        "id": "ZIUBJJXBYms3",
        "colab": {
          "base_uri": "https://localhost:8080/"
        },
        "outputId": "4b45db87-82b8-4b3e-ac21-9fce6ad97719"
      },
      "execution_count": null,
      "outputs": [
        {
          "output_type": "execute_result",
          "data": {
            "text/plain": [
              "array([0.52666667, 0.51866667, 0.524     , 0.484     , 0.49466667,\n",
              "       0.49866667, 0.51466667, 0.488     , 0.51066667, 0.50266667,\n",
              "       0.50933333, 0.48933333, 0.52133333, 0.48      , 0.46666667,\n",
              "       0.5       , 0.53466667, 0.508     , 0.50666667, 0.54      ])"
            ]
          },
          "metadata": {},
          "execution_count": 529
        }
      ]
    },
    {
      "cell_type": "code",
      "source": [
        "# Usando a média e o desvio padrão\n",
        "print(\"Acurácia Média: %.2f%%\" % (resultado.mean() * 100.0))"
      ],
      "metadata": {
        "id": "C77vK7FsYovu",
        "colab": {
          "base_uri": "https://localhost:8080/"
        },
        "outputId": "d07a488e-c62e-446e-acc7-526513d4e41d"
      },
      "execution_count": null,
      "outputs": [
        {
          "output_type": "stream",
          "name": "stdout",
          "text": [
            "Acurácia Média: 50.59%\n"
          ]
        }
      ]
    },
    {
      "cell_type": "markdown",
      "source": [
        "Naive Bayes = 84,42% (treino e teste) - 233 acertos e 85,06% (validação cruzada)"
      ],
      "metadata": {
        "id": "1cPz2i-fYs-e"
      }
    },
    {
      "cell_type": "markdown",
      "source": [
        "# **ÁRVORE DE DECISÃO**\n",
        "https://scikit-learn.org/stable/modules/tree.html"
      ],
      "metadata": {
        "id": "TX8Hx_ZPlb7J"
      }
    },
    {
      "cell_type": "code",
      "source": [
        "from sklearn.tree import DecisionTreeClassifier\n",
        "from sklearn.ensemble import RandomForestClassifier"
      ],
      "metadata": {
        "id": "-2oaMph5OFa2"
      },
      "execution_count": null,
      "outputs": []
    },
    {
      "cell_type": "code",
      "source": [
        "# arvore = DecisionTreeClassifier(criterion='entropy', random_state = 0)\n",
        "#arvore = DecisionTreeClassifier(criterion='entropy', max_depth=3, random_state = 0)\n",
        "#arvore = DecisionTreeClassifier(criterion='gini',random_state = 0)\n",
        "#arvore = DecisionTreeClassifier(criterion='gini', max_depth=3, random_state = 0)\n",
        "arvore = RandomForestClassifier(n_estimators=10)\n",
        "\n",
        "#criterion: função para medir a qualidade da divisão, {“gini”, “entropia”, “log_loss”}, default=”gini”. Métricas como entropia, que é a medida da\n",
        "#           falta de homogeneidade, e o índice de Gini, que é a medida do grau de heterogeneidade, são usdas para determinar o nível de importância\n",
        "#           de um atributo (chamado de ganho de informação)\n",
        "#max_depth=3: profundidade máxima da árvore (poda), se None, sem poda\n",
        "\n",
        "arvore.fit(x_treino, y_treino)"
      ],
      "metadata": {
        "id": "Zxu4_zhCOMVj",
        "colab": {
          "base_uri": "https://localhost:8080/"
        },
        "outputId": "24c55697-3867-4754-f869-b45059cbe075"
      },
      "execution_count": null,
      "outputs": [
        {
          "output_type": "execute_result",
          "data": {
            "text/plain": [
              "RandomForestClassifier(n_estimators=10)"
            ],
            "text/html": [
              "<style>#sk-container-id-16 {color: black;background-color: white;}#sk-container-id-16 pre{padding: 0;}#sk-container-id-16 div.sk-toggleable {background-color: white;}#sk-container-id-16 label.sk-toggleable__label {cursor: pointer;display: block;width: 100%;margin-bottom: 0;padding: 0.3em;box-sizing: border-box;text-align: center;}#sk-container-id-16 label.sk-toggleable__label-arrow:before {content: \"▸\";float: left;margin-right: 0.25em;color: #696969;}#sk-container-id-16 label.sk-toggleable__label-arrow:hover:before {color: black;}#sk-container-id-16 div.sk-estimator:hover label.sk-toggleable__label-arrow:before {color: black;}#sk-container-id-16 div.sk-toggleable__content {max-height: 0;max-width: 0;overflow: hidden;text-align: left;background-color: #f0f8ff;}#sk-container-id-16 div.sk-toggleable__content pre {margin: 0.2em;color: black;border-radius: 0.25em;background-color: #f0f8ff;}#sk-container-id-16 input.sk-toggleable__control:checked~div.sk-toggleable__content {max-height: 200px;max-width: 100%;overflow: auto;}#sk-container-id-16 input.sk-toggleable__control:checked~label.sk-toggleable__label-arrow:before {content: \"▾\";}#sk-container-id-16 div.sk-estimator input.sk-toggleable__control:checked~label.sk-toggleable__label {background-color: #d4ebff;}#sk-container-id-16 div.sk-label input.sk-toggleable__control:checked~label.sk-toggleable__label {background-color: #d4ebff;}#sk-container-id-16 input.sk-hidden--visually {border: 0;clip: rect(1px 1px 1px 1px);clip: rect(1px, 1px, 1px, 1px);height: 1px;margin: -1px;overflow: hidden;padding: 0;position: absolute;width: 1px;}#sk-container-id-16 div.sk-estimator {font-family: monospace;background-color: #f0f8ff;border: 1px dotted black;border-radius: 0.25em;box-sizing: border-box;margin-bottom: 0.5em;}#sk-container-id-16 div.sk-estimator:hover {background-color: #d4ebff;}#sk-container-id-16 div.sk-parallel-item::after {content: \"\";width: 100%;border-bottom: 1px solid gray;flex-grow: 1;}#sk-container-id-16 div.sk-label:hover label.sk-toggleable__label {background-color: #d4ebff;}#sk-container-id-16 div.sk-serial::before {content: \"\";position: absolute;border-left: 1px solid gray;box-sizing: border-box;top: 0;bottom: 0;left: 50%;z-index: 0;}#sk-container-id-16 div.sk-serial {display: flex;flex-direction: column;align-items: center;background-color: white;padding-right: 0.2em;padding-left: 0.2em;position: relative;}#sk-container-id-16 div.sk-item {position: relative;z-index: 1;}#sk-container-id-16 div.sk-parallel {display: flex;align-items: stretch;justify-content: center;background-color: white;position: relative;}#sk-container-id-16 div.sk-item::before, #sk-container-id-16 div.sk-parallel-item::before {content: \"\";position: absolute;border-left: 1px solid gray;box-sizing: border-box;top: 0;bottom: 0;left: 50%;z-index: -1;}#sk-container-id-16 div.sk-parallel-item {display: flex;flex-direction: column;z-index: 1;position: relative;background-color: white;}#sk-container-id-16 div.sk-parallel-item:first-child::after {align-self: flex-end;width: 50%;}#sk-container-id-16 div.sk-parallel-item:last-child::after {align-self: flex-start;width: 50%;}#sk-container-id-16 div.sk-parallel-item:only-child::after {width: 0;}#sk-container-id-16 div.sk-dashed-wrapped {border: 1px dashed gray;margin: 0 0.4em 0.5em 0.4em;box-sizing: border-box;padding-bottom: 0.4em;background-color: white;}#sk-container-id-16 div.sk-label label {font-family: monospace;font-weight: bold;display: inline-block;line-height: 1.2em;}#sk-container-id-16 div.sk-label-container {text-align: center;}#sk-container-id-16 div.sk-container {/* jupyter's `normalize.less` sets `[hidden] { display: none; }` but bootstrap.min.css set `[hidden] { display: none !important; }` so we also need the `!important` here to be able to override the default hidden behavior on the sphinx rendered scikit-learn.org. See: https://github.com/scikit-learn/scikit-learn/issues/21755 */display: inline-block !important;position: relative;}#sk-container-id-16 div.sk-text-repr-fallback {display: none;}</style><div id=\"sk-container-id-16\" class=\"sk-top-container\"><div class=\"sk-text-repr-fallback\"><pre>RandomForestClassifier(n_estimators=10)</pre><b>In a Jupyter environment, please rerun this cell to show the HTML representation or trust the notebook. <br />On GitHub, the HTML representation is unable to render, please try loading this page with nbviewer.org.</b></div><div class=\"sk-container\" hidden><div class=\"sk-item\"><div class=\"sk-estimator sk-toggleable\"><input class=\"sk-toggleable__control sk-hidden--visually\" id=\"sk-estimator-id-16\" type=\"checkbox\" checked><label for=\"sk-estimator-id-16\" class=\"sk-toggleable__label sk-toggleable__label-arrow\">RandomForestClassifier</label><div class=\"sk-toggleable__content\"><pre>RandomForestClassifier(n_estimators=10)</pre></div></div></div></div></div>"
            ]
          },
          "metadata": {},
          "execution_count": 532
        }
      ]
    },
    {
      "cell_type": "code",
      "source": [
        "previsoes_arvore = arvore.predict(x_teste)\n"
      ],
      "metadata": {
        "id": "UnxRfJZXOVkk"
      },
      "execution_count": null,
      "outputs": []
    },
    {
      "cell_type": "code",
      "source": [
        "print(\"Acurácia: %.2f%%\" % (accuracy_score(y_teste, previsoes_arvore) * 100.0))"
      ],
      "metadata": {
        "id": "9vuYKW1_Onqq",
        "colab": {
          "base_uri": "https://localhost:8080/"
        },
        "outputId": "72368d0f-dd89-41a2-d715-d847da7f4dbe"
      },
      "execution_count": null,
      "outputs": [
        {
          "output_type": "stream",
          "name": "stdout",
          "text": [
            "Acurácia: 49.40%\n"
          ]
        }
      ]
    },
    {
      "cell_type": "code",
      "source": [
        "confusion_matrix(y_teste, previsoes_arvore)"
      ],
      "metadata": {
        "id": "IAJonpblPUGh",
        "colab": {
          "base_uri": "https://localhost:8080/"
        },
        "outputId": "4c6890b9-69cd-4414-8005-8d00a5d8f8e6"
      },
      "execution_count": null,
      "outputs": [
        {
          "output_type": "execute_result",
          "data": {
            "text/plain": [
              "array([[941, 589],\n",
              "       [929, 541]])"
            ]
          },
          "metadata": {},
          "execution_count": 535
        }
      ]
    },
    {
      "cell_type": "code",
      "source": [
        "print(classification_report(y_teste, previsoes_arvore))"
      ],
      "metadata": {
        "id": "wACzOEs-PcTo",
        "colab": {
          "base_uri": "https://localhost:8080/"
        },
        "outputId": "653f810d-c353-4c5a-d7a1-b9c1edb16551"
      },
      "execution_count": null,
      "outputs": [
        {
          "output_type": "stream",
          "name": "stdout",
          "text": [
            "              precision    recall  f1-score   support\n",
            "\n",
            "           0       0.50      0.62      0.55      1530\n",
            "           1       0.48      0.37      0.42      1470\n",
            "\n",
            "    accuracy                           0.49      3000\n",
            "   macro avg       0.49      0.49      0.48      3000\n",
            "weighted avg       0.49      0.49      0.49      3000\n",
            "\n"
          ]
        }
      ]
    },
    {
      "cell_type": "markdown",
      "source": [
        "Analisando os dados de treinamento"
      ],
      "metadata": {
        "id": "fUdbXUmWYBPG"
      }
    },
    {
      "cell_type": "code",
      "source": [
        "previsoes_treino = arvore.predict(x_treino)\n"
      ],
      "metadata": {
        "id": "UZFn-68G1DcF"
      },
      "execution_count": null,
      "outputs": []
    },
    {
      "cell_type": "code",
      "source": [
        "print(\"Acurácia: %.2f%%\" % (accuracy_score(y_treino, previsoes_treino)* 100.0))"
      ],
      "metadata": {
        "id": "mDqKNd3v1DcG",
        "colab": {
          "base_uri": "https://localhost:8080/"
        },
        "outputId": "8173bb3c-d8dc-432b-fc00-a72ee27698b2"
      },
      "execution_count": null,
      "outputs": [
        {
          "output_type": "stream",
          "name": "stdout",
          "text": [
            "Acurácia: 98.52%\n"
          ]
        }
      ]
    },
    {
      "cell_type": "code",
      "source": [
        "confusion_matrix(y_treino, previsoes_treino)"
      ],
      "metadata": {
        "id": "dMQiq4o01DcG",
        "colab": {
          "base_uri": "https://localhost:8080/"
        },
        "outputId": "a82ef82d-28c5-473b-b494-db362883e3e6"
      },
      "execution_count": null,
      "outputs": [
        {
          "output_type": "execute_result",
          "data": {
            "text/plain": [
              "array([[5973,   29],\n",
              "       [ 148, 5850]])"
            ]
          },
          "metadata": {},
          "execution_count": 539
        }
      ]
    },
    {
      "cell_type": "markdown",
      "source": [
        "A acurácia 100% indica que o modelo se ajustou muito bem com os dados de treinamento, mas com os dados de teste, o resultado é ruim. Quando isso ocorre é dito que o modelo aprendeu demais sobre os dados de treinamento, ele decorou. Isso é chamado de **overfitting**, ou sobreajuste. Uma forma de tentar resolver é configurar o hiperparâmetro max_depth, que é a profundidade máxima da árvore, significa fazer poda."
      ],
      "metadata": {
        "id": "kUvSXSFTZCOE"
      }
    },
    {
      "cell_type": "markdown",
      "source": [
        "**Validação Cruzada**"
      ],
      "metadata": {
        "id": "DLuUBBY3mFLG"
      }
    },
    {
      "cell_type": "code",
      "source": [
        "# Criando o modelo\n",
        "modelo = DecisionTreeClassifier(criterion='entropy', random_state = 0)\n",
        "#modelo = DecisionTreeClassifier(criterion='entropy', max_depth=3, random_state = 0)\n",
        "#modelo = DecisionTreeClassifier(criterion='gini',random_state = 0)\n",
        "#modelo = DecisionTreeClassifier(criterion='gini', max_depth=3, random_state = 0)\n",
        "\n",
        "resultado = cross_val_score(modelo, previsores, alvo, cv = kfold)\n",
        "\n",
        "# Usamos a média e o desvio padrão\n",
        "print(\"Acurácia Média: %.2f%%\" % (resultado.mean() * 100.0))"
      ],
      "metadata": {
        "id": "MwGsKOFZEZJh",
        "colab": {
          "base_uri": "https://localhost:8080/"
        },
        "outputId": "deaa6879-dd73-410e-f5c3-acc9b40c2af0"
      },
      "execution_count": null,
      "outputs": [
        {
          "output_type": "stream",
          "name": "stdout",
          "text": [
            "Acurácia Média: 49.78%\n"
          ]
        }
      ]
    },
    {
      "cell_type": "markdown",
      "source": [
        "# **SVM - MÁQUINAS DE VETORES DE SUPORTE**\n",
        "\n",
        "https://scikit-learn.org/stable/modules/generated/sklearn.svm.SVC.html"
      ],
      "metadata": {
        "id": "NV-796ArWpWL"
      }
    },
    {
      "cell_type": "code",
      "source": [
        "from sklearn.svm import SVC\n",
        "#SVC = classificador de vetor de suporte"
      ],
      "metadata": {
        "id": "oVy0EpUfpquK"
      },
      "execution_count": null,
      "outputs": []
    },
    {
      "cell_type": "code",
      "metadata": {
        "id": "P7xKKTCabAab",
        "colab": {
          "base_uri": "https://localhost:8080/",
          "height": 75
        },
        "outputId": "a579e70c-8385-455d-897d-b8945d7e2b20"
      },
      "source": [
        "svm = SVC(kernel='rbf', random_state=0, C = 2)\n",
        "# svm = SVC(kernel='poly', random_state=0, C = 2)\n",
        "#svm = SVC(kernel='sigmoid', random_state=0, C = 2)\n",
        "# svm = SVC(kernel='linear', random_state=0, C = 2)\n",
        "# svm = SVC(kernel='linear', random_state=0, C = 40)\n",
        "\n",
        "# hiperparâmetro kernel: transforma os dados. Default: rbf\n",
        "# hiperparâmetro C: constante de penalização, controla a tolerância de erros. Quanto maior o valor de C, maior capacidade de separação das classes,\n",
        "#                   porém, maior probabilidade de overfitting e tempo de treinamento. Default = 1.\n",
        "svm.fit(x_treino, y_treino)"
      ],
      "execution_count": null,
      "outputs": [
        {
          "output_type": "execute_result",
          "data": {
            "text/plain": [
              "SVC(C=2, random_state=0)"
            ],
            "text/html": [
              "<style>#sk-container-id-17 {color: black;background-color: white;}#sk-container-id-17 pre{padding: 0;}#sk-container-id-17 div.sk-toggleable {background-color: white;}#sk-container-id-17 label.sk-toggleable__label {cursor: pointer;display: block;width: 100%;margin-bottom: 0;padding: 0.3em;box-sizing: border-box;text-align: center;}#sk-container-id-17 label.sk-toggleable__label-arrow:before {content: \"▸\";float: left;margin-right: 0.25em;color: #696969;}#sk-container-id-17 label.sk-toggleable__label-arrow:hover:before {color: black;}#sk-container-id-17 div.sk-estimator:hover label.sk-toggleable__label-arrow:before {color: black;}#sk-container-id-17 div.sk-toggleable__content {max-height: 0;max-width: 0;overflow: hidden;text-align: left;background-color: #f0f8ff;}#sk-container-id-17 div.sk-toggleable__content pre {margin: 0.2em;color: black;border-radius: 0.25em;background-color: #f0f8ff;}#sk-container-id-17 input.sk-toggleable__control:checked~div.sk-toggleable__content {max-height: 200px;max-width: 100%;overflow: auto;}#sk-container-id-17 input.sk-toggleable__control:checked~label.sk-toggleable__label-arrow:before {content: \"▾\";}#sk-container-id-17 div.sk-estimator input.sk-toggleable__control:checked~label.sk-toggleable__label {background-color: #d4ebff;}#sk-container-id-17 div.sk-label input.sk-toggleable__control:checked~label.sk-toggleable__label {background-color: #d4ebff;}#sk-container-id-17 input.sk-hidden--visually {border: 0;clip: rect(1px 1px 1px 1px);clip: rect(1px, 1px, 1px, 1px);height: 1px;margin: -1px;overflow: hidden;padding: 0;position: absolute;width: 1px;}#sk-container-id-17 div.sk-estimator {font-family: monospace;background-color: #f0f8ff;border: 1px dotted black;border-radius: 0.25em;box-sizing: border-box;margin-bottom: 0.5em;}#sk-container-id-17 div.sk-estimator:hover {background-color: #d4ebff;}#sk-container-id-17 div.sk-parallel-item::after {content: \"\";width: 100%;border-bottom: 1px solid gray;flex-grow: 1;}#sk-container-id-17 div.sk-label:hover label.sk-toggleable__label {background-color: #d4ebff;}#sk-container-id-17 div.sk-serial::before {content: \"\";position: absolute;border-left: 1px solid gray;box-sizing: border-box;top: 0;bottom: 0;left: 50%;z-index: 0;}#sk-container-id-17 div.sk-serial {display: flex;flex-direction: column;align-items: center;background-color: white;padding-right: 0.2em;padding-left: 0.2em;position: relative;}#sk-container-id-17 div.sk-item {position: relative;z-index: 1;}#sk-container-id-17 div.sk-parallel {display: flex;align-items: stretch;justify-content: center;background-color: white;position: relative;}#sk-container-id-17 div.sk-item::before, #sk-container-id-17 div.sk-parallel-item::before {content: \"\";position: absolute;border-left: 1px solid gray;box-sizing: border-box;top: 0;bottom: 0;left: 50%;z-index: -1;}#sk-container-id-17 div.sk-parallel-item {display: flex;flex-direction: column;z-index: 1;position: relative;background-color: white;}#sk-container-id-17 div.sk-parallel-item:first-child::after {align-self: flex-end;width: 50%;}#sk-container-id-17 div.sk-parallel-item:last-child::after {align-self: flex-start;width: 50%;}#sk-container-id-17 div.sk-parallel-item:only-child::after {width: 0;}#sk-container-id-17 div.sk-dashed-wrapped {border: 1px dashed gray;margin: 0 0.4em 0.5em 0.4em;box-sizing: border-box;padding-bottom: 0.4em;background-color: white;}#sk-container-id-17 div.sk-label label {font-family: monospace;font-weight: bold;display: inline-block;line-height: 1.2em;}#sk-container-id-17 div.sk-label-container {text-align: center;}#sk-container-id-17 div.sk-container {/* jupyter's `normalize.less` sets `[hidden] { display: none; }` but bootstrap.min.css set `[hidden] { display: none !important; }` so we also need the `!important` here to be able to override the default hidden behavior on the sphinx rendered scikit-learn.org. See: https://github.com/scikit-learn/scikit-learn/issues/21755 */display: inline-block !important;position: relative;}#sk-container-id-17 div.sk-text-repr-fallback {display: none;}</style><div id=\"sk-container-id-17\" class=\"sk-top-container\"><div class=\"sk-text-repr-fallback\"><pre>SVC(C=2, random_state=0)</pre><b>In a Jupyter environment, please rerun this cell to show the HTML representation or trust the notebook. <br />On GitHub, the HTML representation is unable to render, please try loading this page with nbviewer.org.</b></div><div class=\"sk-container\" hidden><div class=\"sk-item\"><div class=\"sk-estimator sk-toggleable\"><input class=\"sk-toggleable__control sk-hidden--visually\" id=\"sk-estimator-id-17\" type=\"checkbox\" checked><label for=\"sk-estimator-id-17\" class=\"sk-toggleable__label sk-toggleable__label-arrow\">SVC</label><div class=\"sk-toggleable__content\"><pre>SVC(C=2, random_state=0)</pre></div></div></div></div></div>"
            ]
          },
          "metadata": {},
          "execution_count": 542
        }
      ]
    },
    {
      "cell_type": "code",
      "metadata": {
        "id": "VjKeaHKrbicN"
      },
      "source": [
        "previsoes_svm = svm.predict(x_teste)"
      ],
      "execution_count": null,
      "outputs": []
    },
    {
      "cell_type": "code",
      "source": [
        "print(\"Acurácia: %.2f%%\" % (accuracy_score(y_teste, previsoes_svm) * 100.0))"
      ],
      "metadata": {
        "id": "kRZ4VwD-qjW4",
        "colab": {
          "base_uri": "https://localhost:8080/"
        },
        "outputId": "e74c7a09-a82e-4023-9716-945b17d86bb4"
      },
      "execution_count": null,
      "outputs": [
        {
          "output_type": "stream",
          "name": "stdout",
          "text": [
            "Acurácia: 49.67%\n"
          ]
        }
      ]
    },
    {
      "cell_type": "code",
      "source": [
        "confusion_matrix(y_teste, previsoes_svm)"
      ],
      "metadata": {
        "id": "VYeZMXUtqjW5",
        "colab": {
          "base_uri": "https://localhost:8080/"
        },
        "outputId": "afb3997d-e860-4c04-b64b-ee2e66a7f04a"
      },
      "execution_count": null,
      "outputs": [
        {
          "output_type": "execute_result",
          "data": {
            "text/plain": [
              "array([[1320,  210],\n",
              "       [1300,  170]])"
            ]
          },
          "metadata": {},
          "execution_count": 545
        }
      ]
    },
    {
      "cell_type": "code",
      "source": [
        "print(classification_report(y_teste, previsoes_svm))"
      ],
      "metadata": {
        "id": "YPKWlAGAqjW6",
        "colab": {
          "base_uri": "https://localhost:8080/"
        },
        "outputId": "33129a81-b502-4c06-9974-3e25dc6a5509"
      },
      "execution_count": null,
      "outputs": [
        {
          "output_type": "stream",
          "name": "stdout",
          "text": [
            "              precision    recall  f1-score   support\n",
            "\n",
            "           0       0.50      0.86      0.64      1530\n",
            "           1       0.45      0.12      0.18      1470\n",
            "\n",
            "    accuracy                           0.50      3000\n",
            "   macro avg       0.48      0.49      0.41      3000\n",
            "weighted avg       0.48      0.50      0.41      3000\n",
            "\n"
          ]
        }
      ]
    },
    {
      "cell_type": "markdown",
      "source": [
        "Analisando os dados de treinamento"
      ],
      "metadata": {
        "id": "9-WJSW6OnC2M"
      }
    },
    {
      "cell_type": "code",
      "source": [
        "previsoes_treino = svm.predict(x_treino)"
      ],
      "metadata": {
        "id": "VVGJEYpC1u6d"
      },
      "execution_count": null,
      "outputs": []
    },
    {
      "cell_type": "code",
      "source": [
        "print(\"Acurácia: %.2f%%\" % (accuracy_score(y_treino, previsoes_treino)* 100.0))"
      ],
      "metadata": {
        "id": "Xo-iYrMn1u6d",
        "colab": {
          "base_uri": "https://localhost:8080/"
        },
        "outputId": "76010209-a5d8-4aa9-90a9-18efbc85a8e1"
      },
      "execution_count": null,
      "outputs": [
        {
          "output_type": "stream",
          "name": "stdout",
          "text": [
            "Acurácia: 50.05%\n"
          ]
        }
      ]
    },
    {
      "cell_type": "code",
      "source": [
        "confusion_matrix(y_treino, previsoes_treino)"
      ],
      "metadata": {
        "id": "Z42CYXuC1u6e",
        "colab": {
          "base_uri": "https://localhost:8080/"
        },
        "outputId": "da9cf228-6d5a-4e7f-f892-23989f74e661"
      },
      "execution_count": null,
      "outputs": [
        {
          "output_type": "execute_result",
          "data": {
            "text/plain": [
              "array([[5252,  750],\n",
              "       [5244,  754]])"
            ]
          },
          "metadata": {},
          "execution_count": 549
        }
      ]
    },
    {
      "cell_type": "markdown",
      "source": [
        "**Validação Cruzada**"
      ],
      "metadata": {
        "id": "xXM2zqKVH1Vi"
      }
    },
    {
      "cell_type": "code",
      "source": [
        "# Criando o modelo\n",
        "modelo = SVC(kernel='rbf', random_state=0, C = 2)\n",
        "#modelo = SVC(kernel='poly', random_state=0, C = 2)\n",
        "#modelo = SVC(kernel='sigmoid', random_state=0, C = 2)\n",
        "#modelo = SVC(kernel='linear', random_state=0, C = 2)\n",
        "#modelo = SVC(kernel='linear', random_state=0, C = 40)\n",
        "resultado = cross_val_score(modelo, previsores, alvo, cv = kfold)\n",
        "\n",
        "# Usamos a média e o desvio padrão\n",
        "print(\"Acurácia Média: %.2f%%\" % (resultado.mean() * 100.0))"
      ],
      "metadata": {
        "id": "mhD3BcOWH1Vk",
        "colab": {
          "base_uri": "https://localhost:8080/"
        },
        "outputId": "262bb6ec-73f9-4ec1-9806-685409510bab"
      },
      "execution_count": null,
      "outputs": [
        {
          "output_type": "stream",
          "name": "stdout",
          "text": [
            "Acurácia Média: 49.39%\n"
          ]
        }
      ]
    },
    {
      "cell_type": "markdown",
      "source": [],
      "metadata": {
        "id": "h0f60Aje8gr_"
      }
    },
    {
      "cell_type": "markdown",
      "source": [
        "# **RNA - REDE NEURAL ARTIFICIAL**\n",
        "\n",
        "https://scikit-learn.org/stable/modules/generated/sklearn.neural_network.MLPClassifier.html"
      ],
      "metadata": {
        "id": "Vyah7UeYY9Ju"
      }
    },
    {
      "cell_type": "code",
      "source": [
        "from sklearn.neural_network import MLPClassifier"
      ],
      "metadata": {
        "id": "Rz0_ZU6ocXLJ"
      },
      "execution_count": null,
      "outputs": []
    },
    {
      "cell_type": "code",
      "source": [
        "#Criando o modelo\n",
        "redes = MLPClassifier(hidden_layer_sizes=(10,10), activation='logistic', max_iter =800,random_state = 0, verbose = True)\n",
        "#redes = MLPClassifier(hidden_layer_sizes=(17), activation='logistic', max_iter =800, random_state = 0, verbose = True)\n",
        "\n",
        "#hidden_layer_sizes (camadas escondidas): default (100,). Não exagerar, geralmente 2 já apresenta bons resultados. Para conjuntos de dados pequenos, uma já é suficiente.\n",
        "#                                         Quant.= (Ne+Ns)/2 = (11+1)/2 = 6 neurônios Quant.=2.Ne/3 + Ns = 2.11/3 + 1 = 8 neurônios (nº de neurônios nas camadas escondidas).\n",
        "#                                         Neurônios em excesso provocam overfitting, poucos provocam underfitting\n",
        "#activation: Função de ativação default='relu'\n",
        "#max_iter int: Número máximo de iterações. default = 200. (número de épocas). Excesso provoca overfitting. Sugere-se valores entre 500 e 3000 ciclos de treinamento\n",
        "#random_state = 0, garantir que os dados do embaralhamento sejam sempre os mesmos para poder testar diferentes algoritimos.\n",
        "#verbose: Mostra o progresso. default=False.\n",
        "\n"
      ],
      "metadata": {
        "id": "9yy9A7Mlxspf"
      },
      "execution_count": null,
      "outputs": []
    },
    {
      "cell_type": "markdown",
      "source": [],
      "metadata": {
        "id": "IVLI-afEtAXt"
      }
    },
    {
      "cell_type": "code",
      "source": [
        "#Treinando o modelo\n",
        "redes.fit(x_treino, y_treino)"
      ],
      "metadata": {
        "id": "Q6PrbhIHxzrG",
        "colab": {
          "base_uri": "https://localhost:8080/",
          "height": 335
        },
        "outputId": "ea72c23a-9965-4040-ffd3-9780ed3c836e"
      },
      "execution_count": null,
      "outputs": [
        {
          "output_type": "stream",
          "name": "stdout",
          "text": [
            "Iteration 1, loss = 0.70181261\n",
            "Iteration 2, loss = 0.69326247\n",
            "Iteration 3, loss = 0.69318862\n",
            "Iteration 4, loss = 0.69331117\n",
            "Iteration 5, loss = 0.69329863\n",
            "Iteration 6, loss = 0.69319474\n",
            "Iteration 7, loss = 0.69318936\n",
            "Iteration 8, loss = 0.69318833\n",
            "Iteration 9, loss = 0.69323101\n",
            "Iteration 10, loss = 0.69317030\n",
            "Iteration 11, loss = 0.69316019\n",
            "Iteration 12, loss = 0.69314693\n",
            "Iteration 13, loss = 0.69315620\n",
            "Training loss did not improve more than tol=0.000100 for 10 consecutive epochs. Stopping.\n"
          ]
        },
        {
          "output_type": "execute_result",
          "data": {
            "text/plain": [
              "MLPClassifier(activation='logistic', hidden_layer_sizes=(10, 10), max_iter=800,\n",
              "              random_state=0, verbose=True)"
            ],
            "text/html": [
              "<style>#sk-container-id-21 {color: black;background-color: white;}#sk-container-id-21 pre{padding: 0;}#sk-container-id-21 div.sk-toggleable {background-color: white;}#sk-container-id-21 label.sk-toggleable__label {cursor: pointer;display: block;width: 100%;margin-bottom: 0;padding: 0.3em;box-sizing: border-box;text-align: center;}#sk-container-id-21 label.sk-toggleable__label-arrow:before {content: \"▸\";float: left;margin-right: 0.25em;color: #696969;}#sk-container-id-21 label.sk-toggleable__label-arrow:hover:before {color: black;}#sk-container-id-21 div.sk-estimator:hover label.sk-toggleable__label-arrow:before {color: black;}#sk-container-id-21 div.sk-toggleable__content {max-height: 0;max-width: 0;overflow: hidden;text-align: left;background-color: #f0f8ff;}#sk-container-id-21 div.sk-toggleable__content pre {margin: 0.2em;color: black;border-radius: 0.25em;background-color: #f0f8ff;}#sk-container-id-21 input.sk-toggleable__control:checked~div.sk-toggleable__content {max-height: 200px;max-width: 100%;overflow: auto;}#sk-container-id-21 input.sk-toggleable__control:checked~label.sk-toggleable__label-arrow:before {content: \"▾\";}#sk-container-id-21 div.sk-estimator input.sk-toggleable__control:checked~label.sk-toggleable__label {background-color: #d4ebff;}#sk-container-id-21 div.sk-label input.sk-toggleable__control:checked~label.sk-toggleable__label {background-color: #d4ebff;}#sk-container-id-21 input.sk-hidden--visually {border: 0;clip: rect(1px 1px 1px 1px);clip: rect(1px, 1px, 1px, 1px);height: 1px;margin: -1px;overflow: hidden;padding: 0;position: absolute;width: 1px;}#sk-container-id-21 div.sk-estimator {font-family: monospace;background-color: #f0f8ff;border: 1px dotted black;border-radius: 0.25em;box-sizing: border-box;margin-bottom: 0.5em;}#sk-container-id-21 div.sk-estimator:hover {background-color: #d4ebff;}#sk-container-id-21 div.sk-parallel-item::after {content: \"\";width: 100%;border-bottom: 1px solid gray;flex-grow: 1;}#sk-container-id-21 div.sk-label:hover label.sk-toggleable__label {background-color: #d4ebff;}#sk-container-id-21 div.sk-serial::before {content: \"\";position: absolute;border-left: 1px solid gray;box-sizing: border-box;top: 0;bottom: 0;left: 50%;z-index: 0;}#sk-container-id-21 div.sk-serial {display: flex;flex-direction: column;align-items: center;background-color: white;padding-right: 0.2em;padding-left: 0.2em;position: relative;}#sk-container-id-21 div.sk-item {position: relative;z-index: 1;}#sk-container-id-21 div.sk-parallel {display: flex;align-items: stretch;justify-content: center;background-color: white;position: relative;}#sk-container-id-21 div.sk-item::before, #sk-container-id-21 div.sk-parallel-item::before {content: \"\";position: absolute;border-left: 1px solid gray;box-sizing: border-box;top: 0;bottom: 0;left: 50%;z-index: -1;}#sk-container-id-21 div.sk-parallel-item {display: flex;flex-direction: column;z-index: 1;position: relative;background-color: white;}#sk-container-id-21 div.sk-parallel-item:first-child::after {align-self: flex-end;width: 50%;}#sk-container-id-21 div.sk-parallel-item:last-child::after {align-self: flex-start;width: 50%;}#sk-container-id-21 div.sk-parallel-item:only-child::after {width: 0;}#sk-container-id-21 div.sk-dashed-wrapped {border: 1px dashed gray;margin: 0 0.4em 0.5em 0.4em;box-sizing: border-box;padding-bottom: 0.4em;background-color: white;}#sk-container-id-21 div.sk-label label {font-family: monospace;font-weight: bold;display: inline-block;line-height: 1.2em;}#sk-container-id-21 div.sk-label-container {text-align: center;}#sk-container-id-21 div.sk-container {/* jupyter's `normalize.less` sets `[hidden] { display: none; }` but bootstrap.min.css set `[hidden] { display: none !important; }` so we also need the `!important` here to be able to override the default hidden behavior on the sphinx rendered scikit-learn.org. See: https://github.com/scikit-learn/scikit-learn/issues/21755 */display: inline-block !important;position: relative;}#sk-container-id-21 div.sk-text-repr-fallback {display: none;}</style><div id=\"sk-container-id-21\" class=\"sk-top-container\"><div class=\"sk-text-repr-fallback\"><pre>MLPClassifier(activation=&#x27;logistic&#x27;, hidden_layer_sizes=(10, 10), max_iter=800,\n",
              "              random_state=0, verbose=True)</pre><b>In a Jupyter environment, please rerun this cell to show the HTML representation or trust the notebook. <br />On GitHub, the HTML representation is unable to render, please try loading this page with nbviewer.org.</b></div><div class=\"sk-container\" hidden><div class=\"sk-item\"><div class=\"sk-estimator sk-toggleable\"><input class=\"sk-toggleable__control sk-hidden--visually\" id=\"sk-estimator-id-21\" type=\"checkbox\" checked><label for=\"sk-estimator-id-21\" class=\"sk-toggleable__label sk-toggleable__label-arrow\">MLPClassifier</label><div class=\"sk-toggleable__content\"><pre>MLPClassifier(activation=&#x27;logistic&#x27;, hidden_layer_sizes=(10, 10), max_iter=800,\n",
              "              random_state=0, verbose=True)</pre></div></div></div></div></div>"
            ]
          },
          "metadata": {},
          "execution_count": 586
        }
      ]
    },
    {
      "cell_type": "code",
      "source": [
        "previsoes = redes.predict(x_teste)"
      ],
      "metadata": {
        "id": "npiHs-H1x2fC"
      },
      "execution_count": null,
      "outputs": []
    },
    {
      "cell_type": "code",
      "source": [
        "print(\"Acurácia: %.2f%%\" % (accuracy_score(y_teste, previsoes) * 100.0))"
      ],
      "metadata": {
        "id": "2ReR0dQUx8Xe",
        "colab": {
          "base_uri": "https://localhost:8080/"
        },
        "outputId": "f01dfb42-dda2-45b5-ddff-97d28ebfdcdd"
      },
      "execution_count": null,
      "outputs": [
        {
          "output_type": "stream",
          "name": "stdout",
          "text": [
            "Acurácia: 50.83%\n"
          ]
        }
      ]
    },
    {
      "cell_type": "code",
      "source": [
        "confusion_matrix(y_teste, previsoes)"
      ],
      "metadata": {
        "id": "1SupyuhAyAEi",
        "colab": {
          "base_uri": "https://localhost:8080/"
        },
        "outputId": "c7fec6e5-3263-4f44-8279-56023b235158"
      },
      "execution_count": null,
      "outputs": [
        {
          "output_type": "execute_result",
          "data": {
            "text/plain": [
              "array([[1521,    9],\n",
              "       [1466,    4]])"
            ]
          },
          "metadata": {},
          "execution_count": 589
        }
      ]
    },
    {
      "cell_type": "code",
      "source": [
        "print(classification_report(y_teste, previsoes))"
      ],
      "metadata": {
        "id": "ECkeFeGqyRY1",
        "colab": {
          "base_uri": "https://localhost:8080/"
        },
        "outputId": "53b32369-9f94-4b34-d3b2-f990a4c580bf"
      },
      "execution_count": null,
      "outputs": [
        {
          "output_type": "stream",
          "name": "stdout",
          "text": [
            "              precision    recall  f1-score   support\n",
            "\n",
            "           0       0.51      0.99      0.67      1530\n",
            "           1       0.31      0.00      0.01      1470\n",
            "\n",
            "    accuracy                           0.51      3000\n",
            "   macro avg       0.41      0.50      0.34      3000\n",
            "weighted avg       0.41      0.51      0.35      3000\n",
            "\n"
          ]
        }
      ]
    },
    {
      "cell_type": "markdown",
      "source": [
        "Analisando os dados de treinamento"
      ],
      "metadata": {
        "id": "SQJW_ZVtmxEg"
      }
    },
    {
      "cell_type": "code",
      "source": [
        "previsoes_treino = redes.predict(x_treino)\n",
        "previsoes_treino"
      ],
      "metadata": {
        "id": "8j6ideLEnB1q",
        "colab": {
          "base_uri": "https://localhost:8080/"
        },
        "outputId": "22270c33-16a7-4769-9dbd-64da6e93829a"
      },
      "execution_count": null,
      "outputs": [
        {
          "output_type": "execute_result",
          "data": {
            "text/plain": [
              "array([0, 0, 0, ..., 0, 0, 0])"
            ]
          },
          "metadata": {},
          "execution_count": 591
        }
      ]
    },
    {
      "cell_type": "code",
      "source": [
        "print(\"Acurácia: %.2f%%\" % (accuracy_score(y_treino, previsoes_treino)* 100.0))"
      ],
      "metadata": {
        "id": "VV-HMoX8nB1s",
        "colab": {
          "base_uri": "https://localhost:8080/"
        },
        "outputId": "8083c774-4c21-41e6-d7ce-9589cc1dd2db"
      },
      "execution_count": null,
      "outputs": [
        {
          "output_type": "stream",
          "name": "stdout",
          "text": [
            "Acurácia: 50.15%\n"
          ]
        }
      ]
    },
    {
      "cell_type": "code",
      "source": [
        "confusion_matrix(y_treino, previsoes_treino)"
      ],
      "metadata": {
        "id": "UqOOdkNBnB1u",
        "colab": {
          "base_uri": "https://localhost:8080/"
        },
        "outputId": "9a652703-eb92-438c-db50-9b00c618a5e4"
      },
      "execution_count": null,
      "outputs": [
        {
          "output_type": "execute_result",
          "data": {
            "text/plain": [
              "array([[5989,   13],\n",
              "       [5969,   29]])"
            ]
          },
          "metadata": {},
          "execution_count": 593
        }
      ]
    },
    {
      "cell_type": "markdown",
      "source": [
        "**Validação Cruzada**"
      ],
      "metadata": {
        "id": "O2P_KmRzyla2"
      }
    },
    {
      "cell_type": "code",
      "source": [
        "# Criando o modelo para validação cruzada\n",
        "#redesVC = MLPClassifier(hidden_layer_sizes=(17), activation='relu', max_iter =800, random_state = 0, verbose = True)\n",
        "redesVC = MLPClassifier(hidden_layer_sizes=(17), activation='logistic',  max_iter =800, random_state = 0, verbose = True)\n",
        "resultado = cross_val_score(redesVC, previsores, alvo, cv = kfold)\n"
      ],
      "metadata": {
        "id": "liRPEMYZytD9",
        "colab": {
          "base_uri": "https://localhost:8080/"
        },
        "outputId": "a70121d9-2511-434d-91e6-21017c1ba1fa"
      },
      "execution_count": null,
      "outputs": [
        {
          "output_type": "stream",
          "name": "stdout",
          "text": [
            "Iteration 1, loss = 0.72706675\n",
            "Iteration 2, loss = 0.69425077\n",
            "Iteration 3, loss = 0.69332555\n",
            "Iteration 4, loss = 0.69318860\n",
            "Iteration 5, loss = 0.69304072\n",
            "Iteration 6, loss = 0.69344824\n",
            "Iteration 7, loss = 0.69315038\n",
            "Iteration 8, loss = 0.69300465\n",
            "Iteration 9, loss = 0.69294620\n",
            "Iteration 10, loss = 0.69291901\n",
            "Iteration 11, loss = 0.69299846\n",
            "Iteration 12, loss = 0.69290889\n",
            "Iteration 13, loss = 0.69287773\n",
            "Iteration 14, loss = 0.69292786\n",
            "Iteration 15, loss = 0.69291149\n",
            "Iteration 16, loss = 0.69291136\n",
            "Training loss did not improve more than tol=0.000100 for 10 consecutive epochs. Stopping.\n",
            "Iteration 1, loss = 0.72816144\n",
            "Iteration 2, loss = 0.69427886\n",
            "Iteration 3, loss = 0.69307008\n",
            "Iteration 4, loss = 0.69308454\n",
            "Iteration 5, loss = 0.69300361\n",
            "Iteration 6, loss = 0.69296159\n",
            "Iteration 7, loss = 0.69289237\n",
            "Iteration 8, loss = 0.69290331\n",
            "Iteration 9, loss = 0.69296468\n",
            "Iteration 10, loss = 0.69294224\n",
            "Iteration 11, loss = 0.69290429\n",
            "Iteration 12, loss = 0.69296565\n",
            "Iteration 13, loss = 0.69303249\n",
            "Iteration 14, loss = 0.69288439\n",
            "Training loss did not improve more than tol=0.000100 for 10 consecutive epochs. Stopping.\n",
            "Iteration 1, loss = 0.72600733\n",
            "Iteration 2, loss = 0.69354788\n",
            "Iteration 3, loss = 0.69309937\n",
            "Iteration 4, loss = 0.69299883\n",
            "Iteration 5, loss = 0.69300698\n",
            "Iteration 6, loss = 0.69292725\n",
            "Iteration 7, loss = 0.69291573\n",
            "Iteration 8, loss = 0.69293315\n",
            "Iteration 9, loss = 0.69292050\n",
            "Iteration 10, loss = 0.69286407\n",
            "Iteration 11, loss = 0.69283766\n",
            "Iteration 12, loss = 0.69284101\n",
            "Iteration 13, loss = 0.69290359\n",
            "Iteration 14, loss = 0.69277486\n",
            "Iteration 15, loss = 0.69309682\n",
            "Training loss did not improve more than tol=0.000100 for 10 consecutive epochs. Stopping.\n",
            "Iteration 1, loss = 0.72712535\n",
            "Iteration 2, loss = 0.69403268\n",
            "Iteration 3, loss = 0.69303141\n",
            "Iteration 4, loss = 0.69461171\n",
            "Iteration 5, loss = 0.69472579\n",
            "Iteration 6, loss = 0.69290157\n",
            "Iteration 7, loss = 0.69291017\n",
            "Iteration 8, loss = 0.69288235\n",
            "Iteration 9, loss = 0.69285549\n",
            "Iteration 10, loss = 0.69279306\n",
            "Iteration 11, loss = 0.69278092\n",
            "Iteration 12, loss = 0.69278062\n",
            "Iteration 13, loss = 0.69280925\n",
            "Iteration 14, loss = 0.69273952\n",
            "Iteration 15, loss = 0.69270130\n",
            "Iteration 16, loss = 0.69274349\n",
            "Iteration 17, loss = 0.69272339\n",
            "Training loss did not improve more than tol=0.000100 for 10 consecutive epochs. Stopping.\n",
            "Iteration 1, loss = 0.72574565\n",
            "Iteration 2, loss = 0.69425189\n",
            "Iteration 3, loss = 0.69434218\n",
            "Iteration 4, loss = 0.69458544\n",
            "Iteration 5, loss = 0.69308114\n",
            "Iteration 6, loss = 0.69293513\n",
            "Iteration 7, loss = 0.69294341\n",
            "Iteration 8, loss = 0.69296150\n",
            "Iteration 9, loss = 0.69290683\n",
            "Iteration 10, loss = 0.69291809\n",
            "Iteration 11, loss = 0.69295017\n",
            "Iteration 12, loss = 0.69293862\n",
            "Iteration 13, loss = 0.69290552\n",
            "Iteration 14, loss = 0.69289041\n",
            "Iteration 15, loss = 0.69313373\n",
            "Iteration 16, loss = 0.69303747\n",
            "Iteration 17, loss = 0.69276740\n",
            "Iteration 18, loss = 0.69283428\n",
            "Iteration 19, loss = 0.69292476\n",
            "Iteration 20, loss = 0.69279453\n",
            "Iteration 21, loss = 0.69306477\n",
            "Iteration 22, loss = 0.69281930\n",
            "Iteration 23, loss = 0.69274687\n",
            "Iteration 24, loss = 0.69280368\n",
            "Iteration 25, loss = 0.69279739\n",
            "Iteration 26, loss = 0.69271739\n",
            "Iteration 27, loss = 0.69279557\n",
            "Iteration 28, loss = 0.69277931\n",
            "Training loss did not improve more than tol=0.000100 for 10 consecutive epochs. Stopping.\n",
            "Iteration 1, loss = 0.72661162\n",
            "Iteration 2, loss = 0.69366327\n",
            "Iteration 3, loss = 0.69306137\n",
            "Iteration 4, loss = 0.69314671\n",
            "Iteration 5, loss = 0.69443122\n",
            "Iteration 6, loss = 0.69306177\n",
            "Iteration 7, loss = 0.69294841\n",
            "Iteration 8, loss = 0.69296000\n",
            "Iteration 9, loss = 0.69288144\n",
            "Iteration 10, loss = 0.69289330\n",
            "Iteration 11, loss = 0.69294910\n",
            "Iteration 12, loss = 0.69283931\n",
            "Iteration 13, loss = 0.69284769\n",
            "Iteration 14, loss = 0.69290408\n",
            "Iteration 15, loss = 0.69282861\n",
            "Iteration 16, loss = 0.69292414\n",
            "Iteration 17, loss = 0.69289466\n",
            "Iteration 18, loss = 0.69292210\n",
            "Training loss did not improve more than tol=0.000100 for 10 consecutive epochs. Stopping.\n",
            "Iteration 1, loss = 0.72701537\n",
            "Iteration 2, loss = 0.69359388\n",
            "Iteration 3, loss = 0.69309012\n",
            "Iteration 4, loss = 0.69314111\n",
            "Iteration 5, loss = 0.69305280\n",
            "Iteration 6, loss = 0.69308596\n",
            "Iteration 7, loss = 0.69300194\n",
            "Iteration 8, loss = 0.69301786\n",
            "Iteration 9, loss = 0.69299654\n",
            "Iteration 10, loss = 0.69307230\n",
            "Iteration 11, loss = 0.69296525\n",
            "Iteration 12, loss = 0.69289477\n",
            "Iteration 13, loss = 0.69292747\n",
            "Iteration 14, loss = 0.69294427\n",
            "Training loss did not improve more than tol=0.000100 for 10 consecutive epochs. Stopping.\n",
            "Iteration 1, loss = 0.72798951\n",
            "Iteration 2, loss = 0.69538761\n",
            "Iteration 3, loss = 0.69318517\n",
            "Iteration 4, loss = 0.69308107\n",
            "Iteration 5, loss = 0.69307252\n",
            "Iteration 6, loss = 0.69303450\n",
            "Iteration 7, loss = 0.69297572\n",
            "Iteration 8, loss = 0.69298436\n",
            "Iteration 9, loss = 0.69294239\n",
            "Iteration 10, loss = 0.69286222\n",
            "Iteration 11, loss = 0.69317019\n",
            "Iteration 12, loss = 0.69296509\n",
            "Iteration 13, loss = 0.69298040\n",
            "Iteration 14, loss = 0.69292987\n",
            "Iteration 15, loss = 0.69288053\n",
            "Training loss did not improve more than tol=0.000100 for 10 consecutive epochs. Stopping.\n",
            "Iteration 1, loss = 0.72539064\n",
            "Iteration 2, loss = 0.69381768\n",
            "Iteration 3, loss = 0.69309123\n",
            "Iteration 4, loss = 0.69310518\n",
            "Iteration 5, loss = 0.69299878\n",
            "Iteration 6, loss = 0.69479689\n",
            "Iteration 7, loss = 0.69303826\n",
            "Iteration 8, loss = 0.69302463\n",
            "Iteration 9, loss = 0.69300747\n",
            "Iteration 10, loss = 0.69292166\n",
            "Iteration 11, loss = 0.69297211\n",
            "Iteration 12, loss = 0.69300188\n",
            "Iteration 13, loss = 0.69294772\n",
            "Iteration 14, loss = 0.69295419\n",
            "Training loss did not improve more than tol=0.000100 for 10 consecutive epochs. Stopping.\n",
            "Iteration 1, loss = 0.72513884\n",
            "Iteration 2, loss = 0.69391308\n",
            "Iteration 3, loss = 0.69309535\n",
            "Iteration 4, loss = 0.69304240\n",
            "Iteration 5, loss = 0.69305201\n",
            "Iteration 6, loss = 0.69297719\n",
            "Iteration 7, loss = 0.69298876\n",
            "Iteration 8, loss = 0.69296914\n",
            "Iteration 9, loss = 0.69293951\n",
            "Iteration 10, loss = 0.69296142\n",
            "Iteration 11, loss = 0.69292162\n",
            "Iteration 12, loss = 0.69325797\n",
            "Iteration 13, loss = 0.69292006\n",
            "Iteration 14, loss = 0.69292244\n",
            "Training loss did not improve more than tol=0.000100 for 10 consecutive epochs. Stopping.\n",
            "Iteration 1, loss = 0.72461380\n",
            "Iteration 2, loss = 0.69372502\n",
            "Iteration 3, loss = 0.69314001\n",
            "Iteration 4, loss = 0.69300285\n",
            "Iteration 5, loss = 0.69303236\n",
            "Iteration 6, loss = 0.69298538\n",
            "Iteration 7, loss = 0.69419161\n",
            "Iteration 8, loss = 0.69296320\n",
            "Iteration 9, loss = 0.69297903\n",
            "Iteration 10, loss = 0.69294751\n",
            "Iteration 11, loss = 0.69294382\n",
            "Iteration 12, loss = 0.69290571\n",
            "Iteration 13, loss = 0.69292516\n",
            "Iteration 14, loss = 0.69295432\n",
            "Iteration 15, loss = 0.69296708\n",
            "Training loss did not improve more than tol=0.000100 for 10 consecutive epochs. Stopping.\n",
            "Iteration 1, loss = 0.72439052\n",
            "Iteration 2, loss = 0.69373687\n",
            "Iteration 3, loss = 0.69315297\n",
            "Iteration 4, loss = 0.69310000\n",
            "Iteration 5, loss = 0.69302638\n",
            "Iteration 6, loss = 0.69302058\n",
            "Iteration 7, loss = 0.69300031\n",
            "Iteration 8, loss = 0.69310117\n",
            "Iteration 9, loss = 0.69312833\n",
            "Iteration 10, loss = 0.69299590\n",
            "Iteration 11, loss = 0.69306703\n",
            "Iteration 12, loss = 0.69318741\n",
            "Iteration 13, loss = 0.69305874\n",
            "Iteration 14, loss = 0.69300945\n",
            "Training loss did not improve more than tol=0.000100 for 10 consecutive epochs. Stopping.\n",
            "Iteration 1, loss = 0.72564354\n",
            "Iteration 2, loss = 0.69373852\n",
            "Iteration 3, loss = 0.69307613\n",
            "Iteration 4, loss = 0.69299144\n",
            "Iteration 5, loss = 0.69308006\n",
            "Iteration 6, loss = 0.69294294\n",
            "Iteration 7, loss = 0.69299494\n",
            "Iteration 8, loss = 0.69292391\n",
            "Iteration 9, loss = 0.69307743\n",
            "Iteration 10, loss = 0.69298872\n",
            "Iteration 11, loss = 0.69297186\n",
            "Iteration 12, loss = 0.69291124\n",
            "Iteration 13, loss = 0.69288988\n",
            "Iteration 14, loss = 0.69293464\n",
            "Training loss did not improve more than tol=0.000100 for 10 consecutive epochs. Stopping.\n",
            "Iteration 1, loss = 0.72513508\n",
            "Iteration 2, loss = 0.69384009\n",
            "Iteration 3, loss = 0.69314910\n",
            "Iteration 4, loss = 0.69301564\n",
            "Iteration 5, loss = 0.69429819\n",
            "Iteration 6, loss = 0.69304466\n",
            "Iteration 7, loss = 0.69307116\n",
            "Iteration 8, loss = 0.69305578\n",
            "Iteration 9, loss = 0.69309173\n",
            "Iteration 10, loss = 0.69303042\n",
            "Iteration 11, loss = 0.69307437\n",
            "Iteration 12, loss = 0.69300845\n",
            "Iteration 13, loss = 0.69300624\n",
            "Iteration 14, loss = 0.69299591\n",
            "Iteration 15, loss = 0.69298531\n",
            "Training loss did not improve more than tol=0.000100 for 10 consecutive epochs. Stopping.\n",
            "Iteration 1, loss = 0.72806780\n",
            "Iteration 2, loss = 0.69421462\n",
            "Iteration 3, loss = 0.69314822\n",
            "Iteration 4, loss = 0.69474776\n",
            "Iteration 5, loss = 0.69308352\n",
            "Iteration 6, loss = 0.69306495\n",
            "Iteration 7, loss = 0.69306534\n",
            "Iteration 8, loss = 0.69299872\n",
            "Iteration 9, loss = 0.69295985\n",
            "Iteration 10, loss = 0.69292968\n",
            "Iteration 11, loss = 0.69304747\n",
            "Iteration 12, loss = 0.69300079\n",
            "Iteration 13, loss = 0.69292680\n",
            "Iteration 14, loss = 0.69295271\n",
            "Training loss did not improve more than tol=0.000100 for 10 consecutive epochs. Stopping.\n",
            "Iteration 1, loss = 0.72787636\n",
            "Iteration 2, loss = 0.69410384\n",
            "Iteration 3, loss = 0.69314289\n",
            "Iteration 4, loss = 0.69300933\n",
            "Iteration 5, loss = 0.69303802\n",
            "Iteration 6, loss = 0.69298090\n",
            "Iteration 7, loss = 0.69292336\n",
            "Iteration 8, loss = 0.69312810\n",
            "Iteration 9, loss = 0.69290414\n",
            "Iteration 10, loss = 0.69297301\n",
            "Iteration 11, loss = 0.69293332\n",
            "Iteration 12, loss = 0.69302695\n",
            "Iteration 13, loss = 0.69297714\n",
            "Iteration 14, loss = 0.69287007\n",
            "Iteration 15, loss = 0.69314418\n",
            "Training loss did not improve more than tol=0.000100 for 10 consecutive epochs. Stopping.\n",
            "Iteration 1, loss = 0.72654178\n",
            "Iteration 2, loss = 0.69363034\n",
            "Iteration 3, loss = 0.69305220\n",
            "Iteration 4, loss = 0.69300015\n",
            "Iteration 5, loss = 0.69294422\n",
            "Iteration 6, loss = 0.69295103\n",
            "Iteration 7, loss = 0.69292678\n",
            "Iteration 8, loss = 0.69294053\n",
            "Iteration 9, loss = 0.69291072\n",
            "Iteration 10, loss = 0.69288399\n",
            "Iteration 11, loss = 0.69298703\n",
            "Iteration 12, loss = 0.69301041\n",
            "Iteration 13, loss = 0.69304733\n",
            "Iteration 14, loss = 0.69318663\n",
            "Training loss did not improve more than tol=0.000100 for 10 consecutive epochs. Stopping.\n",
            "Iteration 1, loss = 0.72642334\n",
            "Iteration 2, loss = 0.69402060\n",
            "Iteration 3, loss = 0.69300091\n",
            "Iteration 4, loss = 0.69371547\n",
            "Iteration 5, loss = 0.69302120\n",
            "Iteration 6, loss = 0.69299536\n",
            "Iteration 7, loss = 0.69289867\n",
            "Iteration 8, loss = 0.69292147\n",
            "Iteration 9, loss = 0.69295390\n",
            "Iteration 10, loss = 0.69286186\n",
            "Iteration 11, loss = 0.69287877\n",
            "Iteration 12, loss = 0.69286321\n",
            "Iteration 13, loss = 0.69290068\n",
            "Iteration 14, loss = 0.69288778\n",
            "Training loss did not improve more than tol=0.000100 for 10 consecutive epochs. Stopping.\n",
            "Iteration 1, loss = 0.72681425\n",
            "Iteration 2, loss = 0.69438527\n",
            "Iteration 3, loss = 0.69327416\n",
            "Iteration 4, loss = 0.69305748\n",
            "Iteration 5, loss = 0.69297310\n",
            "Iteration 6, loss = 0.69307624\n",
            "Iteration 7, loss = 0.69295010\n",
            "Iteration 8, loss = 0.69304612\n",
            "Iteration 9, loss = 0.69300166\n",
            "Iteration 10, loss = 0.69294570\n",
            "Iteration 11, loss = 0.69290629\n",
            "Iteration 12, loss = 0.69301239\n",
            "Iteration 13, loss = 0.69297791\n",
            "Iteration 14, loss = 0.69290442\n",
            "Iteration 15, loss = 0.69307811\n",
            "Training loss did not improve more than tol=0.000100 for 10 consecutive epochs. Stopping.\n",
            "Iteration 1, loss = 0.72590179\n",
            "Iteration 2, loss = 0.69409368\n",
            "Iteration 3, loss = 0.69327142\n",
            "Iteration 4, loss = 0.69320485\n",
            "Iteration 5, loss = 0.69305425\n",
            "Iteration 6, loss = 0.69302398\n",
            "Iteration 7, loss = 0.69301489\n",
            "Iteration 8, loss = 0.69292215\n",
            "Iteration 9, loss = 0.69293060\n",
            "Iteration 10, loss = 0.69295884\n",
            "Iteration 11, loss = 0.69295021\n",
            "Iteration 12, loss = 0.69295928\n",
            "Iteration 13, loss = 0.69296873\n",
            "Iteration 14, loss = 0.69285153\n",
            "Iteration 15, loss = 0.69287178\n",
            "Iteration 16, loss = 0.69274910\n",
            "Iteration 17, loss = 0.69286873\n",
            "Iteration 18, loss = 0.69286380\n",
            "Iteration 19, loss = 0.69284818\n",
            "Iteration 20, loss = 0.69284528\n",
            "Iteration 21, loss = 0.69291393\n",
            "Iteration 22, loss = 0.69289650\n",
            "Iteration 23, loss = 0.69286377\n",
            "Iteration 24, loss = 0.69282323\n",
            "Iteration 25, loss = 0.69283316\n",
            "Iteration 26, loss = 0.69299725\n",
            "Iteration 27, loss = 0.69284633\n",
            "Training loss did not improve more than tol=0.000100 for 10 consecutive epochs. Stopping.\n"
          ]
        }
      ]
    },
    {
      "cell_type": "code",
      "source": [
        "print(\"Acurácia Média: %.2f%%\" % (resultado.mean() * 100.0))"
      ],
      "metadata": {
        "colab": {
          "base_uri": "https://localhost:8080/"
        },
        "id": "LX0ykqb6GaWZ",
        "outputId": "efba5a22-16ba-4d80-a1a2-5e728c7f7606"
      },
      "execution_count": null,
      "outputs": [
        {
          "output_type": "stream",
          "name": "stdout",
          "text": [
            "Acurácia Média: 49.87%\n"
          ]
        }
      ]
    }
  ]
}